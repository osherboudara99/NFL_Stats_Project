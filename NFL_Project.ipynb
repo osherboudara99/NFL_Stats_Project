{
 "cells": [
  {
   "cell_type": "code",
   "execution_count": 4,
   "id": "9d2dcd5d-1022-46fb-81d6-f1e67ded651a",
   "metadata": {},
   "outputs": [],
   "source": [
    "import nfl_data_py as nfl"
   ]
  },
  {
   "cell_type": "code",
   "execution_count": 12,
   "id": "81c9e738-0c56-4424-a7bb-d4d5f0fb07d3",
   "metadata": {},
   "outputs": [],
   "source": [
    "df = nfl.import_depth_charts([2022])"
   ]
  },
  {
   "cell_type": "code",
   "execution_count": 16,
   "id": "f0169ede-c0d3-49b1-9d67-2251394076bd",
   "metadata": {},
   "outputs": [],
   "source": [
    "import pandas \n",
    "from pyspark.sql import SparkSession"
   ]
  },
  {
   "cell_type": "code",
   "execution_count": 17,
   "id": "e308ff27-6688-45da-8eb4-06b11f6ce347",
   "metadata": {},
   "outputs": [
    {
     "name": "stdout",
     "output_type": "stream",
     "text": [
      "22/12/02 11:50:12 WARN Utils: Your hostname, Osher-Ubuntu resolves to a loopback address: 127.0.1.1; using 10.2.0.252 instead (on interface enp38s0)\n",
      "22/12/02 11:50:12 WARN Utils: Set SPARK_LOCAL_IP if you need to bind to another address\n"
     ]
    },
    {
     "name": "stderr",
     "output_type": "stream",
     "text": [
      "Setting default log level to \"WARN\".\n",
      "To adjust logging level use sc.setLogLevel(newLevel). For SparkR, use setLogLevel(newLevel).\n"
     ]
    },
    {
     "name": "stdout",
     "output_type": "stream",
     "text": [
      "22/12/02 11:50:12 WARN NativeCodeLoader: Unable to load native-hadoop library for your platform... using builtin-java classes where applicable\n"
     ]
    }
   ],
   "source": [
    "spark = SparkSession.builder.appName('nfl').getOrCreate()"
   ]
  },
  {
   "cell_type": "code",
   "execution_count": 37,
   "id": "21d0d422-7583-4f50-9676-3486cdf4a606",
   "metadata": {},
   "outputs": [
    {
     "data": {
      "text/html": [
       "<div>\n",
       "<style scoped>\n",
       "    .dataframe tbody tr th:only-of-type {\n",
       "        vertical-align: middle;\n",
       "    }\n",
       "\n",
       "    .dataframe tbody tr th {\n",
       "        vertical-align: top;\n",
       "    }\n",
       "\n",
       "    .dataframe thead th {\n",
       "        text-align: right;\n",
       "    }\n",
       "</style>\n",
       "<table border=\"1\" class=\"dataframe\">\n",
       "  <thead>\n",
       "    <tr style=\"text-align: right;\">\n",
       "      <th></th>\n",
       "      <th>season</th>\n",
       "      <th>club_code</th>\n",
       "      <th>week</th>\n",
       "      <th>game_type</th>\n",
       "      <th>depth_team</th>\n",
       "      <th>last_name</th>\n",
       "      <th>first_name</th>\n",
       "      <th>football_name</th>\n",
       "      <th>formation</th>\n",
       "      <th>gsis_id</th>\n",
       "      <th>jersey_number</th>\n",
       "      <th>position</th>\n",
       "      <th>elias_id</th>\n",
       "      <th>depth_position</th>\n",
       "      <th>full_name</th>\n",
       "    </tr>\n",
       "  </thead>\n",
       "  <tbody>\n",
       "    <tr>\n",
       "      <th>39</th>\n",
       "      <td>2022</td>\n",
       "      <td>ATL</td>\n",
       "      <td>1</td>\n",
       "      <td>REG</td>\n",
       "      <td>2</td>\n",
       "      <td>Ridder</td>\n",
       "      <td>Desmond</td>\n",
       "      <td>Desmond</td>\n",
       "      <td>Offense</td>\n",
       "      <td>00-0038122</td>\n",
       "      <td>4</td>\n",
       "      <td>QB</td>\n",
       "      <td>RID080474</td>\n",
       "      <td>QB</td>\n",
       "      <td>Desmond Ridder</td>\n",
       "    </tr>\n",
       "    <tr>\n",
       "      <th>58</th>\n",
       "      <td>2022</td>\n",
       "      <td>ATL</td>\n",
       "      <td>1</td>\n",
       "      <td>REG</td>\n",
       "      <td>1</td>\n",
       "      <td>Mariota</td>\n",
       "      <td>Marcus</td>\n",
       "      <td>Marcus</td>\n",
       "      <td>Offense</td>\n",
       "      <td>00-0032268</td>\n",
       "      <td>1</td>\n",
       "      <td>QB</td>\n",
       "      <td>MAR186347</td>\n",
       "      <td>QB</td>\n",
       "      <td>Marcus Mariota</td>\n",
       "    </tr>\n",
       "  </tbody>\n",
       "</table>\n",
       "</div>"
      ],
      "text/plain": [
       "    season club_code  week game_type depth_team last_name first_name  \\\n",
       "39    2022       ATL     1       REG          2    Ridder    Desmond   \n",
       "58    2022       ATL     1       REG          1   Mariota     Marcus   \n",
       "\n",
       "   football_name formation     gsis_id jersey_number position   elias_id  \\\n",
       "39       Desmond   Offense  00-0038122             4       QB  RID080474   \n",
       "58        Marcus   Offense  00-0032268             1       QB  MAR186347   \n",
       "\n",
       "   depth_position       full_name  \n",
       "39             QB  Desmond Ridder  \n",
       "58             QB  Marcus Mariota  "
      ]
     },
     "execution_count": 37,
     "metadata": {},
     "output_type": "execute_result"
    }
   ],
   "source": [
    "df[(df['position']=='QB') & (df['club_code'] == 'ATL')].drop_duplicates(subset = 'gsis_id')"
   ]
  },
  {
   "cell_type": "code",
   "execution_count": 42,
   "id": "bcb313a3-e0eb-4a3b-8fb0-2fb11fd1a14b",
   "metadata": {},
   "outputs": [
    {
     "data": {
      "text/plain": [
       "32"
      ]
     },
     "execution_count": 42,
     "metadata": {},
     "output_type": "execute_result"
    }
   ],
   "source": [
    "len(df['club_code'].drop_duplicates())"
   ]
  },
  {
   "cell_type": "code",
   "execution_count": null,
   "id": "b4e6bcbf-38af-4a6a-90c2-71560e75015b",
   "metadata": {},
   "outputs": [],
   "source": []
  }
 ],
 "metadata": {
  "kernelspec": {
   "display_name": "Python 3 (ipykernel)",
   "language": "python",
   "name": "python3"
  },
  "language_info": {
   "codemirror_mode": {
    "name": "ipython",
    "version": 3
   },
   "file_extension": ".py",
   "mimetype": "text/x-python",
   "name": "python",
   "nbconvert_exporter": "python",
   "pygments_lexer": "ipython3",
   "version": "3.8.8"
  }
 },
 "nbformat": 4,
 "nbformat_minor": 5
}

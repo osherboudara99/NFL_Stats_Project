{
 "cells": [
  {
   "cell_type": "code",
   "execution_count": 1,
   "id": "fece042e-d42d-467e-a8e1-fe1c0873c8ea",
   "metadata": {},
   "outputs": [],
   "source": [
    "import nfl_data_py as nfl\n",
    "import plotly.express as px\n",
    "import pandas as pd\n",
    "import numpy as np"
   ]
  },
  {
   "cell_type": "code",
   "execution_count": 2,
   "id": "114f01b4-8a0d-42b0-8229-b6e07cf4239d",
   "metadata": {},
   "outputs": [
    {
     "name": "stdout",
     "output_type": "stream",
     "text": [
      "Downcasting floats.\n"
     ]
    }
   ],
   "source": [
    "years = list(iter(range(1999, 2025)))\n",
    "all_data = nfl.import_weekly_data(years)"
   ]
  },
  {
   "cell_type": "code",
   "execution_count": 3,
   "id": "7cb5d2d2-9fce-4845-a2a4-4ed323142c16",
   "metadata": {},
   "outputs": [
    {
     "data": {
      "text/plain": [
       "array(['MIA', 'CLE', 'TB', 'DAL', 'KC', 'WAS', 'NYG', 'CHI', 'NE', 'ATL',\n",
       "       'NYJ', 'BAL', 'DEN', 'JAX', 'NO', 'CIN', 'DET', 'ARI', 'CAR', 'SF',\n",
       "       'LAC', 'PIT', 'PHI', 'SEA', 'GB', 'LV', 'LA', 'TEN', 'MIN', 'BUF',\n",
       "       'IND', 'HOU'], dtype=object)"
      ]
     },
     "execution_count": 3,
     "metadata": {},
     "output_type": "execute_result"
    }
   ],
   "source": [
    "all_data.recent_team.unique()"
   ]
  },
  {
   "cell_type": "code",
   "execution_count": 4,
   "id": "d5a865cd-0684-421c-b6bd-dd07461bfc64",
   "metadata": {},
   "outputs": [
    {
     "data": {
      "text/plain": [
       "array(['RB', 'QB', 'WR', 'TE', 'FB', 'P', 'LS', 'G', 'K', 'CB', 'DB',\n",
       "       None, 'LB', 'T', 'MLB', 'FS', 'SS', 'C', 'ILB', 'OLB', 'DT', 'NT',\n",
       "       'OG', 'OL', 'DE', 'OT', 'DL', 'S', 'HB'], dtype=object)"
      ]
     },
     "execution_count": 4,
     "metadata": {},
     "output_type": "execute_result"
    }
   ],
   "source": [
    "all_data.position.unique()"
   ]
  },
  {
   "cell_type": "code",
   "execution_count": 5,
   "id": "478893e1-0c3c-415f-99fa-7a2ba57efc5a",
   "metadata": {},
   "outputs": [
    {
     "data": {
      "text/plain": [
       "array(['RB', 'QB', 'WR', 'TE', 'SPEC', 'OL', 'DB', None, 'LB', 'DL'],\n",
       "      dtype=object)"
      ]
     },
     "execution_count": 5,
     "metadata": {},
     "output_type": "execute_result"
    }
   ],
   "source": [
    "all_data.position_group.unique()"
   ]
  },
  {
   "cell_type": "code",
   "execution_count": 6,
   "id": "6d7c7ad0-f1ec-401a-ac60-f5cd54e3342e",
   "metadata": {},
   "outputs": [],
   "source": [
    "all_data.rename(columns={'recent_team':'team_abbrev'}, inplace=True)\n",
    "\n",
    "all_data['team_abbrev'] = all_data['team_abbrev'].replace('LA', 'LAR')"
   ]
  },
  {
   "cell_type": "code",
   "execution_count": 7,
   "id": "b7de7e64-0213-4e60-a2e8-110447c8f321",
   "metadata": {},
   "outputs": [],
   "source": [
    "coors = pd.read_csv('NFL_Teams_Coordinates.csv')"
   ]
  },
  {
   "cell_type": "code",
   "execution_count": 8,
   "id": "89e7fe40-099a-46db-935b-7b1a1e701914",
   "metadata": {},
   "outputs": [
    {
     "data": {
      "text/plain": [
       "player_id                           0\n",
       "player_name                     67380\n",
       "player_display_name                 3\n",
       "position                           72\n",
       "position_group                     72\n",
       "headshot_url                    59092\n",
       "team_abbrev                         0\n",
       "season                              0\n",
       "week                                0\n",
       "season_type                         0\n",
       "opponent_team                       0\n",
       "completions                         0\n",
       "attempts                            0\n",
       "passing_yards                       0\n",
       "passing_tds                         0\n",
       "interceptions                       0\n",
       "sacks                               0\n",
       "sack_yards                          0\n",
       "sack_fumbles                        0\n",
       "sack_fumbles_lost                   0\n",
       "passing_air_yards                   0\n",
       "passing_yards_after_catch           0\n",
       "passing_first_downs                 0\n",
       "passing_epa                    115272\n",
       "passing_2pt_conversions             0\n",
       "pacr                           115715\n",
       "dakota                         117331\n",
       "carries                             0\n",
       "rushing_yards                       0\n",
       "rushing_tds                         0\n",
       "rushing_fumbles                     0\n",
       "rushing_fumbles_lost                0\n",
       "rushing_first_downs                 0\n",
       "rushing_epa                     77439\n",
       "rushing_2pt_conversions             0\n",
       "receptions                          0\n",
       "targets                             0\n",
       "receiving_yards                     0\n",
       "receiving_tds                       0\n",
       "receiving_fumbles                   0\n",
       "receiving_fumbles_lost              0\n",
       "receiving_air_yards                 0\n",
       "receiving_yards_after_catch         0\n",
       "receiving_first_downs               0\n",
       "receiving_epa                   26995\n",
       "receiving_2pt_conversions           0\n",
       "racr                            29791\n",
       "target_share                    26995\n",
       "air_yards_share                 53622\n",
       "wopr                            53622\n",
       "special_teams_tds                   0\n",
       "fantasy_points                      0\n",
       "fantasy_points_ppr                  0\n",
       "team_full_name                      0\n",
       "city                                0\n",
       "lat                                 0\n",
       "lon                                 0\n",
       "dtype: int64"
      ]
     },
     "execution_count": 8,
     "metadata": {},
     "output_type": "execute_result"
    }
   ],
   "source": [
    "all_data = all_data.merge(coors, on=['team_abbrev'])\n",
    "all_data.isnull().sum()"
   ]
  },
  {
   "cell_type": "code",
   "execution_count": 9,
   "id": "6464e356-e876-4cf7-bf2d-8672cd691ff8",
   "metadata": {},
   "outputs": [
    {
     "data": {
      "text/plain": [
       "Index(['player_id', 'player_name', 'player_display_name', 'position',\n",
       "       'position_group', 'headshot_url', 'team_abbrev', 'season', 'week',\n",
       "       'season_type', 'opponent_team', 'completions', 'attempts',\n",
       "       'passing_yards', 'passing_tds', 'interceptions', 'sacks', 'sack_yards',\n",
       "       'sack_fumbles', 'sack_fumbles_lost', 'passing_air_yards',\n",
       "       'passing_yards_after_catch', 'passing_first_downs', 'passing_epa',\n",
       "       'passing_2pt_conversions', 'pacr', 'dakota', 'carries', 'rushing_yards',\n",
       "       'rushing_tds', 'rushing_fumbles', 'rushing_fumbles_lost',\n",
       "       'rushing_first_downs', 'rushing_epa', 'rushing_2pt_conversions',\n",
       "       'receptions', 'targets', 'receiving_yards', 'receiving_tds',\n",
       "       'receiving_fumbles', 'receiving_fumbles_lost', 'receiving_air_yards',\n",
       "       'receiving_yards_after_catch', 'receiving_first_downs', 'receiving_epa',\n",
       "       'receiving_2pt_conversions', 'racr', 'target_share', 'air_yards_share',\n",
       "       'wopr', 'special_teams_tds', 'fantasy_points', 'fantasy_points_ppr',\n",
       "       'team_full_name', 'city', 'lat', 'lon'],\n",
       "      dtype='object')"
      ]
     },
     "execution_count": 9,
     "metadata": {},
     "output_type": "execute_result"
    }
   ],
   "source": [
    "all_data.columns"
   ]
  },
  {
   "cell_type": "code",
   "execution_count": 10,
   "id": "7dba10bd-7ebb-4ca9-9b0f-45327c5a52d1",
   "metadata": {},
   "outputs": [],
   "source": [
    "team_yearly_agg = all_data[['team_abbrev','team_full_name', 'city', 'lat', 'lon', 'season','completions', 'attempts',\n",
    "       'passing_yards', 'passing_tds', 'interceptions', 'sacks', 'sack_yards',\n",
    "       'sack_fumbles', 'sack_fumbles_lost', 'passing_air_yards',\n",
    "       'passing_yards_after_catch', 'passing_first_downs',\n",
    "       'passing_2pt_conversions', 'carries', 'rushing_yards',\n",
    "       'rushing_tds', 'rushing_fumbles', 'rushing_fumbles_lost',\n",
    "       'rushing_first_downs', 'rushing_2pt_conversions',\n",
    "       'receptions', 'targets', 'receiving_yards', 'receiving_tds',\n",
    "       'receiving_fumbles', 'receiving_fumbles_lost', 'receiving_air_yards',\n",
    "       'receiving_yards_after_catch', 'receiving_first_downs',\n",
    "       'receiving_2pt_conversions', 'special_teams_tds', 'fantasy_points', 'fantasy_points_ppr']].groupby(['team_abbrev','team_full_name', 'city', 'lat', 'lon','season']).sum().reset_index()"
   ]
  },
  {
   "cell_type": "code",
   "execution_count": 11,
   "id": "fa1816b1-e065-4a16-8ba4-807d31ac2735",
   "metadata": {},
   "outputs": [
    {
     "data": {
      "text/plain": [
       "Index(['team_abbrev', 'team_full_name', 'city', 'lat', 'lon', 'season',\n",
       "       'completions', 'attempts', 'passing_yards', 'passing_tds',\n",
       "       'interceptions', 'sacks', 'sack_yards', 'sack_fumbles',\n",
       "       'sack_fumbles_lost', 'passing_air_yards', 'passing_yards_after_catch',\n",
       "       'passing_first_downs', 'passing_2pt_conversions', 'carries',\n",
       "       'rushing_yards', 'rushing_tds', 'rushing_fumbles',\n",
       "       'rushing_fumbles_lost', 'rushing_first_downs',\n",
       "       'rushing_2pt_conversions', 'receptions', 'targets', 'receiving_yards',\n",
       "       'receiving_tds', 'receiving_fumbles', 'receiving_fumbles_lost',\n",
       "       'receiving_air_yards', 'receiving_yards_after_catch',\n",
       "       'receiving_first_downs', 'receiving_2pt_conversions',\n",
       "       'special_teams_tds', 'fantasy_points', 'fantasy_points_ppr'],\n",
       "      dtype='object')"
      ]
     },
     "execution_count": 11,
     "metadata": {},
     "output_type": "execute_result"
    }
   ],
   "source": [
    "team_yearly_agg.columns"
   ]
  },
  {
   "cell_type": "code",
   "execution_count": 17,
   "id": "1da2d379-c4ef-4fa9-81ce-dfb55dc82bb5",
   "metadata": {},
   "outputs": [],
   "source": [
    "mapplot = px.scatter_map(team_yearly_agg, lat='lat', lon='lon', zoom=2.25, hover_data=['team_abbrev', 'team_full_name', 'passing_yards', 'season'])"
   ]
  },
  {
   "cell_type": "code",
   "execution_count": 18,
   "id": "3bdd02c1-bbb8-4e44-8227-f814db3c6464",
   "metadata": {},
   "outputs": [
    {
     "data": {
      "application/vnd.plotly.v1+json": {
       "config": {
        "plotlyServerURL": "https://plot.ly"
       },
       "data": [
        {
         "customdata": [
          [
           "ARI",
           "Arizona Cardinals",
           3078,
           1999
          ],
          [
           "ARI",
           "Arizona Cardinals",
           3384,
           2000
          ],
          [
           "ARI",
           "Arizona Cardinals",
           3653,
           2001
          ],
          [
           "ARI",
           "Arizona Cardinals",
           3038,
           2002
          ],
          [
           "ARI",
           "Arizona Cardinals",
           3270,
           2003
          ],
          [
           "ARI",
           "Arizona Cardinals",
           3202,
           2004
          ],
          [
           "ARI",
           "Arizona Cardinals",
           4719,
           2005
          ],
          [
           "ARI",
           "Arizona Cardinals",
           3919,
           2006
          ],
          [
           "ARI",
           "Arizona Cardinals",
           4220,
           2007
          ],
          [
           "ARI",
           "Arizona Cardinals",
           6021,
           2008
          ],
          [
           "ARI",
           "Arizona Cardinals",
           4850,
           2009
          ],
          [
           "ARI",
           "Arizona Cardinals",
           3264,
           2010
          ],
          [
           "ARI",
           "Arizona Cardinals",
           3954,
           2011
          ],
          [
           "ARI",
           "Arizona Cardinals",
           3383,
           2012
          ],
          [
           "ARI",
           "Arizona Cardinals",
           4291,
           2013
          ],
          [
           "ARI",
           "Arizona Cardinals",
           4072,
           2014
          ],
          [
           "ARI",
           "Arizona Cardinals",
           5359,
           2015
          ],
          [
           "ARI",
           "Arizona Cardinals",
           4425,
           2016
          ],
          [
           "ARI",
           "Arizona Cardinals",
           3979,
           2017
          ],
          [
           "ARI",
           "Arizona Cardinals",
           2884,
           2018
          ],
          [
           "ARI",
           "Arizona Cardinals",
           3827,
           2019
          ],
          [
           "ARI",
           "Arizona Cardinals",
           4102,
           2020
          ],
          [
           "ARI",
           "Arizona Cardinals",
           4756,
           2021
          ],
          [
           "ARI",
           "Arizona Cardinals",
           3966,
           2022
          ],
          [
           "ARI",
           "Arizona Cardinals",
           3430,
           2023
          ],
          [
           "ARI",
           "Arizona Cardinals",
           2058,
           2024
          ],
          [
           "ATL",
           "Atlanta Falcons",
           3662,
           1999
          ],
          [
           "ATL",
           "Atlanta Falcons",
           3139,
           2000
          ],
          [
           "ATL",
           "Atlanta Falcons",
           3695,
           2001
          ],
          [
           "ATL",
           "Atlanta Falcons",
           3789,
           2002
          ],
          [
           "ATL",
           "Atlanta Falcons",
           2631,
           2003
          ],
          [
           "ATL",
           "Atlanta Falcons",
           2911,
           2004
          ],
          [
           "ATL",
           "Atlanta Falcons",
           2907,
           2005
          ],
          [
           "ATL",
           "Atlanta Falcons",
           2682,
           2006
          ],
          [
           "ATL",
           "Atlanta Falcons",
           3573,
           2007
          ],
          [
           "ATL",
           "Atlanta Falcons",
           3639,
           2008
          ],
          [
           "ATL",
           "Atlanta Falcons",
           3697,
           2009
          ],
          [
           "ATL",
           "Atlanta Falcons",
           3911,
           2010
          ],
          [
           "ATL",
           "Atlanta Falcons",
           4564,
           2011
          ],
          [
           "ATL",
           "Atlanta Falcons",
           5365,
           2012
          ],
          [
           "ATL",
           "Atlanta Falcons",
           4549,
           2013
          ],
          [
           "ATL",
           "Atlanta Falcons",
           4758,
           2014
          ],
          [
           "ATL",
           "Atlanta Falcons",
           4602,
           2015
          ],
          [
           "ATL",
           "Atlanta Falcons",
           5974,
           2016
          ],
          [
           "ATL",
           "Atlanta Falcons",
           4574,
           2017
          ],
          [
           "ATL",
           "Atlanta Falcons",
           4949,
           2018
          ],
          [
           "ATL",
           "Atlanta Falcons",
           5049,
           2019
          ],
          [
           "ATL",
           "Atlanta Falcons",
           4620,
           2020
          ],
          [
           "ATL",
           "Atlanta Falcons",
           3987,
           2021
          ],
          [
           "ATL",
           "Atlanta Falcons",
           2927,
           2022
          ],
          [
           "ATL",
           "Atlanta Falcons",
           3775,
           2023
          ],
          [
           "ATL",
           "Atlanta Falcons",
           2845,
           2024
          ],
          [
           "BAL",
           "Baltimore Ravens",
           3116,
           1999
          ],
          [
           "BAL",
           "Baltimore Ravens",
           3643,
           2000
          ],
          [
           "BAL",
           "Baltimore Ravens",
           3881,
           2001
          ],
          [
           "BAL",
           "Baltimore Ravens",
           3118,
           2002
          ],
          [
           "BAL",
           "Baltimore Ravens",
           2731,
           2003
          ],
          [
           "BAL",
           "Baltimore Ravens",
           2559,
           2004
          ],
          [
           "BAL",
           "Baltimore Ravens",
           3381,
           2005
          ],
          [
           "BAL",
           "Baltimore Ravens",
           3708,
           2006
          ],
          [
           "BAL",
           "Baltimore Ravens",
           3308,
           2007
          ],
          [
           "BAL",
           "Baltimore Ravens",
           3522,
           2008
          ],
          [
           "BAL",
           "Baltimore Ravens",
           3860,
           2009
          ],
          [
           "BAL",
           "Baltimore Ravens",
           4019,
           2010
          ],
          [
           "BAL",
           "Baltimore Ravens",
           4111,
           2011
          ],
          [
           "BAL",
           "Baltimore Ravens",
           5136,
           2012
          ],
          [
           "BAL",
           "Baltimore Ravens",
           3914,
           2013
          ],
          [
           "BAL",
           "Baltimore Ravens",
           4537,
           2014
          ],
          [
           "BAL",
           "Baltimore Ravens",
           4449,
           2015
          ],
          [
           "BAL",
           "Baltimore Ravens",
           4343,
           2016
          ],
          [
           "BAL",
           "Baltimore Ravens",
           3235,
           2017
          ],
          [
           "BAL",
           "Baltimore Ravens",
           3902,
           2018
          ],
          [
           "BAL",
           "Baltimore Ravens",
           3715,
           2019
          ],
          [
           "BAL",
           "Baltimore Ravens",
           3320,
           2020
          ],
          [
           "BAL",
           "Baltimore Ravens",
           4267,
           2021
          ],
          [
           "BAL",
           "Baltimore Ravens",
           3428,
           2022
          ],
          [
           "BAL",
           "Baltimore Ravens",
           4305,
           2023
          ],
          [
           "BAL",
           "Baltimore Ravens",
           2877,
           2024
          ],
          [
           "BUF",
           "Buffalo Bills",
           3583,
           1999
          ],
          [
           "BUF",
           "Buffalo Bills",
           3678,
           2000
          ],
          [
           "BUF",
           "Buffalo Bills",
           3722,
           2001
          ],
          [
           "BUF",
           "Buffalo Bills",
           4364,
           2002
          ],
          [
           "BUF",
           "Buffalo Bills",
           3069,
           2003
          ],
          [
           "BUF",
           "Buffalo Bills",
           3032,
           2004
          ],
          [
           "BUF",
           "Buffalo Bills",
           2852,
           2005
          ],
          [
           "BUF",
           "Buffalo Bills",
           3050,
           2006
          ],
          [
           "BUF",
           "Buffalo Bills",
           2842,
           2007
          ],
          [
           "BUF",
           "Buffalo Bills",
           3302,
           2008
          ],
          [
           "BUF",
           "Buffalo Bills",
           2789,
           2009
          ],
          [
           "BUF",
           "Buffalo Bills",
           3363,
           2010
          ],
          [
           "BUF",
           "Buffalo Bills",
           3857,
           2011
          ],
          [
           "BUF",
           "Buffalo Bills",
           3430,
           2012
          ],
          [
           "BUF",
           "Buffalo Bills",
           3373,
           2013
          ],
          [
           "BUF",
           "Buffalo Bills",
           3856,
           2014
          ],
          [
           "BUF",
           "Buffalo Bills",
           3600,
           2015
          ],
          [
           "BUF",
           "Buffalo Bills",
           3250,
           2016
          ],
          [
           "BUF",
           "Buffalo Bills",
           3213,
           2017
          ],
          [
           "BUF",
           "Buffalo Bills",
           3052,
           2018
          ],
          [
           "BUF",
           "Buffalo Bills",
           3756,
           2019
          ],
          [
           "BUF",
           "Buffalo Bills",
           5603,
           2020
          ],
          [
           "BUF",
           "Buffalo Bills",
           5087,
           2021
          ],
          [
           "BUF",
           "Buffalo Bills",
           4907,
           2022
          ],
          [
           "BUF",
           "Buffalo Bills",
           4695,
           2023
          ],
          [
           "BUF",
           "Buffalo Bills",
           2548,
           2024
          ],
          [
           "CAR",
           "Carolina Panthers",
           4424,
           1999
          ],
          [
           "CAR",
           "Carolina Panthers",
           3811,
           2000
          ],
          [
           "CAR",
           "Carolina Panthers",
           3098,
           2001
          ],
          [
           "CAR",
           "Carolina Panthers",
           2981,
           2002
          ],
          [
           "CAR",
           "Carolina Panthers",
           4225,
           2003
          ],
          [
           "CAR",
           "Carolina Panthers",
           3889,
           2004
          ],
          [
           "CAR",
           "Carolina Panthers",
           4140,
           2005
          ],
          [
           "CAR",
           "Carolina Panthers",
           3486,
           2006
          ],
          [
           "CAR",
           "Carolina Panthers",
           2918,
           2007
          ],
          [
           "CAR",
           "Carolina Panthers",
           3489,
           2008
          ],
          [
           "CAR",
           "Carolina Panthers",
           3070,
           2009
          ],
          [
           "CAR",
           "Carolina Panthers",
           2635,
           2010
          ],
          [
           "CAR",
           "Carolina Panthers",
           4089,
           2011
          ],
          [
           "CAR",
           "Carolina Panthers",
           3927,
           2012
          ],
          [
           "CAR",
           "Carolina Panthers",
           3646,
           2013
          ],
          [
           "CAR",
           "Carolina Panthers",
           4272,
           2014
          ],
          [
           "CAR",
           "Carolina Panthers",
           4634,
           2015
          ],
          [
           "CAR",
           "Carolina Panthers",
           3962,
           2016
          ],
          [
           "CAR",
           "Carolina Panthers",
           3668,
           2017
          ],
          [
           "CAR",
           "Carolina Panthers",
           4071,
           2018
          ],
          [
           "CAR",
           "Carolina Panthers",
           4134,
           2019
          ],
          [
           "CAR",
           "Carolina Panthers",
           4129,
           2020
          ],
          [
           "CAR",
           "Carolina Panthers",
           3573,
           2021
          ],
          [
           "CAR",
           "Carolina Panthers",
           3246,
           2022
          ],
          [
           "CAR",
           "Carolina Panthers",
           3245,
           2023
          ],
          [
           "CAR",
           "Carolina Panthers",
           1809,
           2024
          ],
          [
           "CHI",
           "Chicago Bears",
           4306,
           1999
          ],
          [
           "CHI",
           "Chicago Bears",
           2973,
           2000
          ],
          [
           "CHI",
           "Chicago Bears",
           3161,
           2001
          ],
          [
           "CHI",
           "Chicago Bears",
           3316,
           2002
          ],
          [
           "CHI",
           "Chicago Bears",
           2905,
           2003
          ],
          [
           "CHI",
           "Chicago Bears",
           2641,
           2004
          ],
          [
           "CHI",
           "Chicago Bears",
           2393,
           2005
          ],
          [
           "CHI",
           "Chicago Bears",
           4041,
           2006
          ],
          [
           "CHI",
           "Chicago Bears",
           3698,
           2007
          ],
          [
           "CHI",
           "Chicago Bears",
           3236,
           2008
          ],
          [
           "CHI",
           "Chicago Bears",
           3677,
           2009
          ],
          [
           "CHI",
           "Chicago Bears",
           3904,
           2010
          ],
          [
           "CHI",
           "Chicago Bears",
           3346,
           2011
          ],
          [
           "CHI",
           "Chicago Bears",
           3298,
           2012
          ],
          [
           "CHI",
           "Chicago Bears",
           4450,
           2013
          ],
          [
           "CHI",
           "Chicago Bears",
           4035,
           2014
          ],
          [
           "CHI",
           "Chicago Bears",
           3843,
           2015
          ],
          [
           "CHI",
           "Chicago Bears",
           4139,
           2016
          ],
          [
           "CHI",
           "Chicago Bears",
           3085,
           2017
          ],
          [
           "CHI",
           "Chicago Bears",
           4050,
           2018
          ],
          [
           "CHI",
           "Chicago Bears",
           3573,
           2019
          ],
          [
           "CHI",
           "Chicago Bears",
           4124,
           2020
          ],
          [
           "CHI",
           "Chicago Bears",
           3635,
           2021
          ],
          [
           "CHI",
           "Chicago Bears",
           2598,
           2022
          ],
          [
           "CHI",
           "Chicago Bears",
           3421,
           2023
          ],
          [
           "CHI",
           "Chicago Bears",
           2016,
           2024
          ],
          [
           "CIN",
           "Cincinnati Bengals",
           3452,
           1999
          ],
          [
           "CIN",
           "Cincinnati Bengals",
           2212,
           2000
          ],
          [
           "CIN",
           "Cincinnati Bengals",
           3291,
           2001
          ],
          [
           "CIN",
           "Cincinnati Bengals",
           3732,
           2002
          ],
          [
           "CIN",
           "Cincinnati Bengals",
           3605,
           2003
          ],
          [
           "CIN",
           "Cincinnati Bengals",
           3520,
           2004
          ],
          [
           "CIN",
           "Cincinnati Bengals",
           4198,
           2005
          ],
          [
           "CIN",
           "Cincinnati Bengals",
           4067,
           2006
          ],
          [
           "CIN",
           "Cincinnati Bengals",
           4130,
           2007
          ],
          [
           "CIN",
           "Cincinnati Bengals",
           2682,
           2008
          ],
          [
           "CIN",
           "Cincinnati Bengals",
           3280,
           2009
          ],
          [
           "CIN",
           "Cincinnati Bengals",
           3988,
           2010
          ],
          [
           "CIN",
           "Cincinnati Bengals",
           3764,
           2011
          ],
          [
           "CIN",
           "Cincinnati Bengals",
           3934,
           2012
          ],
          [
           "CIN",
           "Cincinnati Bengals",
           4652,
           2013
          ],
          [
           "CIN",
           "Cincinnati Bengals",
           3706,
           2014
          ],
          [
           "CIN",
           "Cincinnati Bengals",
           4316,
           2015
          ],
          [
           "CIN",
           "Cincinnati Bengals",
           4206,
           2016
          ],
          [
           "CIN",
           "Cincinnati Bengals",
           3386,
           2017
          ],
          [
           "CIN",
           "Cincinnati Bengals",
           3569,
           2018
          ],
          [
           "CIN",
           "Cincinnati Bengals",
           3994,
           2019
          ],
          [
           "CIN",
           "Cincinnati Bengals",
           3793,
           2020
          ],
          [
           "CIN",
           "Cincinnati Bengals",
           5917,
           2021
          ],
          [
           "CIN",
           "Cincinnati Bengals",
           5241,
           2022
          ],
          [
           "CIN",
           "Cincinnati Bengals",
           4257,
           2023
          ],
          [
           "CIN",
           "Cincinnati Bengals",
           3028,
           2024
          ],
          [
           "CLE",
           "Cleveland Browns",
           2959,
           1999
          ],
          [
           "CLE",
           "Cleveland Browns",
           2712,
           2000
          ],
          [
           "CLE",
           "Cleveland Browns",
           3154,
           2001
          ],
          [
           "CLE",
           "Cleveland Browns",
           4094,
           2002
          ],
          [
           "CLE",
           "Cleveland Browns",
           3116,
           2003
          ],
          [
           "CLE",
           "Cleveland Browns",
           3076,
           2004
          ],
          [
           "CLE",
           "Cleveland Browns",
           3323,
           2005
          ],
          [
           "CLE",
           "Cleveland Browns",
           3242,
           2006
          ],
          [
           "CLE",
           "Cleveland Browns",
           3865,
           2007
          ],
          [
           "CLE",
           "Cleveland Browns",
           2541,
           2008
          ],
          [
           "CLE",
           "Cleveland Browns",
           2255,
           2009
          ],
          [
           "CLE",
           "Cleveland Browns",
           3203,
           2010
          ],
          [
           "CLE",
           "Cleveland Browns",
           3300,
           2011
          ],
          [
           "CLE",
           "Cleveland Browns",
           3668,
           2012
          ],
          [
           "CLE",
           "Cleveland Browns",
           4372,
           2013
          ],
          [
           "CLE",
           "Cleveland Browns",
           3678,
           2014
          ],
          [
           "CLE",
           "Cleveland Browns",
           4156,
           2015
          ],
          [
           "CLE",
           "Cleveland Browns",
           3693,
           2016
          ],
          [
           "CLE",
           "Cleveland Browns",
           3537,
           2017
          ],
          [
           "CLE",
           "Cleveland Browns",
           4261,
           2018
          ],
          [
           "CLE",
           "Cleveland Browns",
           3903,
           2019
          ],
          [
           "CLE",
           "Cleveland Browns",
           4168,
           2020
          ],
          [
           "CLE",
           "Cleveland Browns",
           3619,
           2021
          ],
          [
           "CLE",
           "Cleveland Browns",
           3710,
           2022
          ],
          [
           "CLE",
           "Cleveland Browns",
           4318,
           2023
          ],
          [
           "CLE",
           "Cleveland Browns",
           2496,
           2024
          ],
          [
           "DAL",
           "Dallas Cowboys",
           3520,
           1999
          ],
          [
           "DAL",
           "Dallas Cowboys",
           2717,
           2000
          ],
          [
           "DAL",
           "Dallas Cowboys",
           2408,
           2001
          ],
          [
           "DAL",
           "Dallas Cowboys",
           3020,
           2002
          ],
          [
           "DAL",
           "Dallas Cowboys",
           3501,
           2003
          ],
          [
           "DAL",
           "Dallas Cowboys",
           3636,
           2004
          ],
          [
           "DAL",
           "Dallas Cowboys",
           3639,
           2005
          ],
          [
           "DAL",
           "Dallas Cowboys",
           4256,
           2006
          ],
          [
           "DAL",
           "Dallas Cowboys",
           4491,
           2007
          ],
          [
           "DAL",
           "Dallas Cowboys",
           3988,
           2008
          ],
          [
           "DAL",
           "Dallas Cowboys",
           4925,
           2009
          ],
          [
           "DAL",
           "Dallas Cowboys",
           4208,
           2010
          ],
          [
           "DAL",
           "Dallas Cowboys",
           4453,
           2011
          ],
          [
           "DAL",
           "Dallas Cowboys",
           4992,
           2012
          ],
          [
           "DAL",
           "Dallas Cowboys",
           4226,
           2013
          ],
          [
           "DAL",
           "Dallas Cowboys",
           4492,
           2014
          ],
          [
           "DAL",
           "Dallas Cowboys",
           3677,
           2015
          ],
          [
           "DAL",
           "Dallas Cowboys",
           4101,
           2016
          ],
          [
           "DAL",
           "Dallas Cowboys",
           3326,
           2017
          ],
          [
           "DAL",
           "Dallas Cowboys",
           4377,
           2018
          ],
          [
           "DAL",
           "Dallas Cowboys",
           4902,
           2019
          ],
          [
           "DAL",
           "Dallas Cowboys",
           4511,
           2020
          ],
          [
           "DAL",
           "Dallas Cowboys",
           5233,
           2021
          ],
          [
           "DAL",
           "Dallas Cowboys",
           4422,
           2022
          ],
          [
           "DAL",
           "Dallas Cowboys",
           5063,
           2023
          ],
          [
           "DAL",
           "Dallas Cowboys",
           2569,
           2024
          ],
          [
           "DEN",
           "Denver Broncos",
           3605,
           1999
          ],
          [
           "DEN",
           "Denver Broncos",
           4550,
           2000
          ],
          [
           "DEN",
           "Denver Broncos",
           3208,
           2001
          ],
          [
           "DEN",
           "Denver Broncos",
           4139,
           2002
          ],
          [
           "DEN",
           "Denver Broncos",
           3308,
           2003
          ],
          [
           "DEN",
           "Denver Broncos",
           4373,
           2004
          ],
          [
           "DEN",
           "Denver Broncos",
           3793,
           2005
          ],
          [
           "DEN",
           "Denver Broncos",
           2995,
           2006
          ],
          [
           "DEN",
           "Denver Broncos",
           3759,
           2007
          ],
          [
           "DEN",
           "Denver Broncos",
           4544,
           2008
          ],
          [
           "DEN",
           "Denver Broncos",
           3825,
           2009
          ],
          [
           "DEN",
           "Denver Broncos",
           4306,
           2010
          ],
          [
           "DEN",
           "Denver Broncos",
           3160,
           2011
          ],
          [
           "DEN",
           "Denver Broncos",
           4961,
           2012
          ],
          [
           "DEN",
           "Denver Broncos",
           6482,
           2013
          ],
          [
           "DEN",
           "Denver Broncos",
           4990,
           2014
          ],
          [
           "DEN",
           "Denver Broncos",
           4755,
           2015
          ],
          [
           "DEN",
           "Denver Broncos",
           3914,
           2016
          ],
          [
           "DEN",
           "Denver Broncos",
           3668,
           2017
          ],
          [
           "DEN",
           "Denver Broncos",
           3930,
           2018
          ],
          [
           "DEN",
           "Denver Broncos",
           3401,
           2019
          ],
          [
           "DEN",
           "Denver Broncos",
           3673,
           2020
          ],
          [
           "DEN",
           "Denver Broncos",
           3856,
           2021
          ],
          [
           "DEN",
           "Denver Broncos",
           4007,
           2022
          ],
          [
           "DEN",
           "Denver Broncos",
           3566,
           2023
          ],
          [
           "DEN",
           "Denver Broncos",
           2308,
           2024
          ],
          [
           "DET",
           "Detroit Lions",
           4270,
           1999
          ],
          [
           "DET",
           "Detroit Lions",
           2967,
           2000
          ],
          [
           "DET",
           "Detroit Lions",
           3969,
           2001
          ],
          [
           "DET",
           "Detroit Lions",
           3168,
           2002
          ],
          [
           "DET",
           "Detroit Lions",
           2988,
           2003
          ],
          [
           "DET",
           "Detroit Lions",
           3124,
           2004
          ],
          [
           "DET",
           "Detroit Lions",
           3021,
           2005
          ],
          [
           "DET",
           "Detroit Lions",
           4208,
           2006
          ],
          [
           "DET",
           "Detroit Lions",
           4214,
           2007
          ],
          [
           "DET",
           "Detroit Lions",
           3299,
           2008
          ],
          [
           "DET",
           "Detroit Lions",
           3471,
           2009
          ],
          [
           "DET",
           "Detroit Lions",
           4001,
           2010
          ],
          [
           "DET",
           "Detroit Lions",
           5513,
           2011
          ],
          [
           "DET",
           "Detroit Lions",
           5139,
           2012
          ],
          [
           "DET",
           "Detroit Lions",
           4650,
           2013
          ],
          [
           "DET",
           "Detroit Lions",
           4607,
           2014
          ],
          [
           "DET",
           "Detroit Lions",
           4463,
           2015
          ],
          [
           "DET",
           "Detroit Lions",
           4532,
           2016
          ],
          [
           "DET",
           "Detroit Lions",
           4470,
           2017
          ],
          [
           "DET",
           "Detroit Lions",
           3844,
           2018
          ],
          [
           "DET",
           "Detroit Lions",
           4187,
           2019
          ],
          [
           "DET",
           "Detroit Lions",
           4397,
           2020
          ],
          [
           "DET",
           "Detroit Lions",
           3884,
           2021
          ],
          [
           "DET",
           "Detroit Lions",
           4444,
           2022
          ],
          [
           "DET",
           "Detroit Lions",
           5443,
           2023
          ],
          [
           "DET",
           "Detroit Lions",
           2581,
           2024
          ],
          [
           "GB",
           "Green Bay Packers",
           4109,
           1999
          ],
          [
           "GB",
           "Green Bay Packers",
           3868,
           2000
          ],
          [
           "GB",
           "Green Bay Packers",
           4471,
           2001
          ],
          [
           "GB",
           "Green Bay Packers",
           4070,
           2002
          ],
          [
           "GB",
           "Green Bay Packers",
           3876,
           2003
          ],
          [
           "GB",
           "Green Bay Packers",
           4764,
           2004
          ],
          [
           "GB",
           "Green Bay Packers",
           3964,
           2005
          ],
          [
           "GB",
           "Green Bay Packers",
           3947,
           2006
          ],
          [
           "GB",
           "Green Bay Packers",
           4872,
           2007
          ],
          [
           "GB",
           "Green Bay Packers",
           4044,
           2008
          ],
          [
           "GB",
           "Green Bay Packers",
           4914,
           2009
          ],
          [
           "GB",
           "Green Bay Packers",
           5449,
           2010
          ],
          [
           "GB",
           "Green Bay Packers",
           5418,
           2011
          ],
          [
           "GB",
           "Green Bay Packers",
           4873,
           2012
          ],
          [
           "GB",
           "Green Bay Packers",
           4715,
           2013
          ],
          [
           "GB",
           "Green Bay Packers",
           4941,
           2014
          ],
          [
           "GB",
           "Green Bay Packers",
           4296,
           2015
          ],
          [
           "GB",
           "Green Bay Packers",
           5449,
           2016
          ],
          [
           "GB",
           "Green Bay Packers",
           3532,
           2017
          ],
          [
           "GB",
           "Green Bay Packers",
           4629,
           2018
          ],
          [
           "GB",
           "Green Bay Packers",
           4586,
           2019
          ],
          [
           "GB",
           "Green Bay Packers",
           4941,
           2020
          ],
          [
           "GB",
           "Green Bay Packers",
           4751,
           2021
          ],
          [
           "GB",
           "Green Bay Packers",
           3890,
           2022
          ],
          [
           "GB",
           "Green Bay Packers",
           4676,
           2023
          ],
          [
           "GB",
           "Green Bay Packers",
           2461,
           2024
          ],
          [
           "HOU",
           "Houston Texans",
           2636,
           2002
          ],
          [
           "HOU",
           "Houston Texans",
           2841,
           2003
          ],
          [
           "HOU",
           "Houston Texans",
           3555,
           2004
          ],
          [
           "HOU",
           "Houston Texans",
           2661,
           2005
          ],
          [
           "HOU",
           "Houston Texans",
           3030,
           2006
          ],
          [
           "HOU",
           "Houston Texans",
           3925,
           2007
          ],
          [
           "HOU",
           "Houston Texans",
           4474,
           2008
          ],
          [
           "HOU",
           "Houston Texans",
           4803,
           2009
          ],
          [
           "HOU",
           "Houston Texans",
           4370,
           2010
          ],
          [
           "HOU",
           "Houston Texans",
           4039,
           2011
          ],
          [
           "HOU",
           "Houston Texans",
           4651,
           2012
          ],
          [
           "HOU",
           "Houston Texans",
           4183,
           2013
          ],
          [
           "HOU",
           "Houston Texans",
           3460,
           2014
          ],
          [
           "HOU",
           "Houston Texans",
           4215,
           2015
          ],
          [
           "HOU",
           "Houston Texans",
           3783,
           2016
          ],
          [
           "HOU",
           "Houston Texans",
           3644,
           2017
          ],
          [
           "HOU",
           "Houston Texans",
           4400,
           2018
          ],
          [
           "HOU",
           "Houston Texans",
           4718,
           2019
          ],
          [
           "HOU",
           "Houston Texans",
           4843,
           2020
          ],
          [
           "HOU",
           "Houston Texans",
           3630,
           2021
          ],
          [
           "HOU",
           "Houston Texans",
           3642,
           2022
          ],
          [
           "HOU",
           "Houston Texans",
           5033,
           2023
          ],
          [
           "HOU",
           "Houston Texans",
           2720,
           2024
          ],
          [
           "IND",
           "Indianapolis Colts",
           4321,
           1999
          ],
          [
           "IND",
           "Indianapolis Colts",
           4582,
           2000
          ],
          [
           "IND",
           "Indianapolis Colts",
           4227,
           2001
          ],
          [
           "IND",
           "Indianapolis Colts",
           4337,
           2002
          ],
          [
           "IND",
           "Indianapolis Colts",
           5224,
           2003
          ],
          [
           "IND",
           "Indianapolis Colts",
           5427,
           2004
          ],
          [
           "IND",
           "Indianapolis Colts",
           4481,
           2005
          ],
          [
           "IND",
           "Indianapolis Colts",
           5415,
           2006
          ],
          [
           "IND",
           "Indianapolis Colts",
           4574,
           2007
          ],
          [
           "IND",
           "Indianapolis Colts",
           4490,
           2008
          ],
          [
           "IND",
           "Indianapolis Colts",
           5561,
           2009
          ],
          [
           "IND",
           "Indianapolis Colts",
           4925,
           2010
          ],
          [
           "IND",
           "Indianapolis Colts",
           3223,
           2011
          ],
          [
           "IND",
           "Indianapolis Colts",
           4662,
           2012
          ],
          [
           "IND",
           "Indianapolis Colts",
           4726,
           2013
          ],
          [
           "IND",
           "Indianapolis Colts",
           5829,
           2014
          ],
          [
           "IND",
           "Indianapolis Colts",
           3928,
           2015
          ],
          [
           "IND",
           "Indianapolis Colts",
           4491,
           2016
          ],
          [
           "IND",
           "Indianapolis Colts",
           3226,
           2017
          ],
          [
           "IND",
           "Indianapolis Colts",
           5020,
           2018
          ],
          [
           "IND",
           "Indianapolis Colts",
           3314,
           2019
          ],
          [
           "IND",
           "Indianapolis Colts",
           4495,
           2020
          ],
          [
           "IND",
           "Indianapolis Colts",
           3588,
           2021
          ],
          [
           "IND",
           "Indianapolis Colts",
           3855,
           2022
          ],
          [
           "IND",
           "Indianapolis Colts",
           3882,
           2023
          ],
          [
           "IND",
           "Indianapolis Colts",
           2421,
           2024
          ],
          [
           "JAX",
           "Jacksonville Jaguars",
           4202,
           1999
          ],
          [
           "JAX",
           "Jacksonville Jaguars",
           3947,
           2000
          ],
          [
           "JAX",
           "Jacksonville Jaguars",
           3670,
           2001
          ],
          [
           "JAX",
           "Jacksonville Jaguars",
           3019,
           2002
          ],
          [
           "JAX",
           "Jacksonville Jaguars",
           3421,
           2003
          ],
          [
           "JAX",
           "Jacksonville Jaguars",
           3315,
           2004
          ],
          [
           "JAX",
           "Jacksonville Jaguars",
           3599,
           2005
          ],
          [
           "JAX",
           "Jacksonville Jaguars",
           3059,
           2006
          ],
          [
           "JAX",
           "Jacksonville Jaguars",
           3913,
           2007
          ],
          [
           "JAX",
           "Jacksonville Jaguars",
           3620,
           2008
          ],
          [
           "JAX",
           "Jacksonville Jaguars",
           3599,
           2009
          ],
          [
           "JAX",
           "Jacksonville Jaguars",
           3356,
           2010
          ],
          [
           "JAX",
           "Jacksonville Jaguars",
           2510,
           2011
          ],
          [
           "JAX",
           "Jacksonville Jaguars",
           3746,
           2012
          ],
          [
           "JAX",
           "Jacksonville Jaguars",
           3751,
           2013
          ],
          [
           "JAX",
           "Jacksonville Jaguars",
           3451,
           2014
          ],
          [
           "JAX",
           "Jacksonville Jaguars",
           4428,
           2015
          ],
          [
           "JAX",
           "Jacksonville Jaguars",
           3925,
           2016
          ],
          [
           "JAX",
           "Jacksonville Jaguars",
           4310,
           2017
          ],
          [
           "JAX",
           "Jacksonville Jaguars",
           3431,
           2018
          ],
          [
           "JAX",
           "Jacksonville Jaguars",
           4023,
           2019
          ],
          [
           "JAX",
           "Jacksonville Jaguars",
           3955,
           2020
          ],
          [
           "JAX",
           "Jacksonville Jaguars",
           3674,
           2021
          ],
          [
           "JAX",
           "Jacksonville Jaguars",
           4653,
           2022
          ],
          [
           "JAX",
           "Jacksonville Jaguars",
           4377,
           2023
          ],
          [
           "JAX",
           "Jacksonville Jaguars",
           2281,
           2024
          ],
          [
           "KC",
           "Kansas City Chiefs",
           3380,
           1999
          ],
          [
           "KC",
           "Kansas City Chiefs",
           4087,
           2000
          ],
          [
           "KC",
           "Kansas City Chiefs",
           3863,
           2001
          ],
          [
           "KC",
           "Kansas City Chiefs",
           3763,
           2002
          ],
          [
           "KC",
           "Kansas City Chiefs",
           4325,
           2003
          ],
          [
           "KC",
           "Kansas City Chiefs",
           4631,
           2004
          ],
          [
           "KC",
           "Kansas City Chiefs",
           4014,
           2005
          ],
          [
           "KC",
           "Kansas City Chiefs",
           3350,
           2006
          ],
          [
           "KC",
           "Kansas City Chiefs",
           3525,
           2007
          ],
          [
           "KC",
           "Kansas City Chiefs",
           3358,
           2008
          ],
          [
           "KC",
           "Kansas City Chiefs",
           3183,
           2009
          ],
          [
           "KC",
           "Kansas City Chiefs",
           3259,
           2010
          ],
          [
           "KC",
           "Kansas City Chiefs",
           3288,
           2011
          ],
          [
           "KC",
           "Kansas City Chiefs",
           2937,
           2012
          ],
          [
           "KC",
           "Kansas City Chiefs",
           3939,
           2013
          ],
          [
           "KC",
           "Kansas City Chiefs",
           3428,
           2014
          ],
          [
           "KC",
           "Kansas City Chiefs",
           3929,
           2015
          ],
          [
           "KC",
           "Kansas City Chiefs",
           4086,
           2016
          ],
          [
           "KC",
           "Kansas City Chiefs",
           4590,
           2017
          ],
          [
           "KC",
           "Kansas City Chiefs",
           5699,
           2018
          ],
          [
           "KC",
           "Kansas City Chiefs",
           5591,
           2019
          ],
          [
           "KC",
           "Kansas City Chiefs",
           5921,
           2020
          ],
          [
           "KC",
           "Kansas City Chiefs",
           5996,
           2021
          ],
          [
           "KC",
           "Kansas City Chiefs",
           5976,
           2022
          ],
          [
           "KC",
           "Kansas City Chiefs",
           5434,
           2023
          ],
          [
           "KC",
           "Kansas City Chiefs",
           2404,
           2024
          ],
          [
           "LAC",
           "Los Angeles Chargers",
           3501,
           1999
          ],
          [
           "LAC",
           "Los Angeles Chargers",
           3266,
           2000
          ],
          [
           "LAC",
           "Los Angeles Chargers",
           3685,
           2001
          ],
          [
           "LAC",
           "Los Angeles Chargers",
           3368,
           2002
          ],
          [
           "LAC",
           "Los Angeles Chargers",
           3226,
           2003
          ],
          [
           "LAC",
           "Los Angeles Chargers",
           3825,
           2004
          ],
          [
           "LAC",
           "Los Angeles Chargers",
           3738,
           2005
          ],
          [
           "LAC",
           "Los Angeles Chargers",
           3641,
           2006
          ],
          [
           "LAC",
           "Los Angeles Chargers",
           3990,
           2007
          ],
          [
           "LAC",
           "Los Angeles Chargers",
           4529,
           2008
          ],
          [
           "LAC",
           "Los Angeles Chargers",
           4804,
           2009
          ],
          [
           "LAC",
           "Los Angeles Chargers",
           4746,
           2010
          ],
          [
           "LAC",
           "Los Angeles Chargers",
           4624,
           2011
          ],
          [
           "LAC",
           "Los Angeles Chargers",
           3606,
           2012
          ],
          [
           "LAC",
           "Los Angeles Chargers",
           4823,
           2013
          ],
          [
           "LAC",
           "Los Angeles Chargers",
           4296,
           2014
          ],
          [
           "LAC",
           "Los Angeles Chargers",
           4855,
           2015
          ],
          [
           "LAC",
           "Los Angeles Chargers",
           4386,
           2016
          ],
          [
           "LAC",
           "Los Angeles Chargers",
           4551,
           2017
          ],
          [
           "LAC",
           "Los Angeles Chargers",
           4807,
           2018
          ],
          [
           "LAC",
           "Los Angeles Chargers",
           4648,
           2019
          ],
          [
           "LAC",
           "Los Angeles Chargers",
           4548,
           2020
          ],
          [
           "LAC",
           "Los Angeles Chargers",
           5014,
           2021
          ],
          [
           "LAC",
           "Los Angeles Chargers",
           5064,
           2022
          ],
          [
           "LAC",
           "Los Angeles Chargers",
           4312,
           2023
          ],
          [
           "LAC",
           "Los Angeles Chargers",
           2210,
           2024
          ],
          [
           "LAR",
           "Los Angeles Rams",
           5206,
           1999
          ],
          [
           "LAR",
           "Los Angeles Rams",
           5730,
           2000
          ],
          [
           "LAR",
           "Los Angeles Rams",
           5696,
           2001
          ],
          [
           "LAR",
           "Los Angeles Rams",
           4480,
           2002
          ],
          [
           "LAR",
           "Los Angeles Rams",
           4619,
           2003
          ],
          [
           "LAR",
           "Los Angeles Rams",
           5224,
           2004
          ],
          [
           "LAR",
           "Los Angeles Rams",
           4351,
           2005
          ],
          [
           "LAR",
           "Los Angeles Rams",
           4328,
           2006
          ],
          [
           "LAR",
           "Los Angeles Rams",
           3561,
           2007
          ],
          [
           "LAR",
           "Los Angeles Rams",
           3275,
           2008
          ],
          [
           "LAR",
           "Los Angeles Rams",
           2962,
           2009
          ],
          [
           "LAR",
           "Los Angeles Rams",
           3512,
           2010
          ],
          [
           "LAR",
           "Los Angeles Rams",
           3258,
           2011
          ],
          [
           "LAR",
           "Los Angeles Rams",
           3783,
           2012
          ],
          [
           "LAR",
           "Los Angeles Rams",
           3360,
           2013
          ],
          [
           "LAR",
           "Los Angeles Rams",
           3695,
           2014
          ],
          [
           "LAR",
           "Los Angeles Rams",
           2931,
           2015
          ],
          [
           "LAR",
           "Los Angeles Rams",
           3313,
           2016
          ],
          [
           "LAR",
           "Los Angeles Rams",
           4282,
           2017
          ],
          [
           "LAR",
           "Los Angeles Rams",
           5454,
           2018
          ],
          [
           "LAR",
           "Los Angeles Rams",
           4669,
           2019
          ],
          [
           "LAR",
           "Los Angeles Rams",
           4541,
           2020
          ],
          [
           "LAR",
           "Los Angeles Rams",
           6121,
           2021
          ],
          [
           "LAR",
           "Los Angeles Rams",
           3506,
           2022
          ],
          [
           "LAR",
           "Los Angeles Rams",
           4667,
           2023
          ],
          [
           "LAR",
           "Los Angeles Rams",
           2557,
           2024
          ],
          [
           "LV",
           "Las Vegas Raiders",
           3829,
           1999
          ],
          [
           "LV",
           "Las Vegas Raiders",
           3658,
           2000
          ],
          [
           "LV",
           "Las Vegas Raiders",
           4315,
           2001
          ],
          [
           "LV",
           "Las Vegas Raiders",
           5530,
           2002
          ],
          [
           "LV",
           "Las Vegas Raiders",
           2984,
           2003
          ],
          [
           "LV",
           "Las Vegas Raiders",
           4019,
           2004
          ],
          [
           "LV",
           "Las Vegas Raiders",
           3883,
           2005
          ],
          [
           "LV",
           "Las Vegas Raiders",
           2850,
           2006
          ],
          [
           "LV",
           "Las Vegas Raiders",
           2894,
           2007
          ],
          [
           "LV",
           "Las Vegas Raiders",
           2639,
           2008
          ],
          [
           "LV",
           "Las Vegas Raiders",
           2875,
           2009
          ],
          [
           "LV",
           "Las Vegas Raiders",
           3472,
           2010
          ],
          [
           "LV",
           "Las Vegas Raiders",
           4119,
           2011
          ],
          [
           "LV",
           "Las Vegas Raiders",
           4292,
           2012
          ],
          [
           "LV",
           "Las Vegas Raiders",
           3629,
           2013
          ],
          [
           "LV",
           "Las Vegas Raiders",
           3456,
           2014
          ],
          [
           "LV",
           "Las Vegas Raiders",
           4129,
           2015
          ],
          [
           "LV",
           "Las Vegas Raiders",
           4298,
           2016
          ],
          [
           "LV",
           "Las Vegas Raiders",
           3761,
           2017
          ],
          [
           "LV",
           "Las Vegas Raiders",
           4057,
           2018
          ],
          [
           "LV",
           "Las Vegas Raiders",
           4110,
           2019
          ],
          [
           "LV",
           "Las Vegas Raiders",
           4383,
           2020
          ],
          [
           "LV",
           "Las Vegas Raiders",
           5118,
           2021
          ],
          [
           "LV",
           "Las Vegas Raiders",
           4182,
           2022
          ],
          [
           "LV",
           "Las Vegas Raiders",
           3666,
           2023
          ],
          [
           "LV",
           "Las Vegas Raiders",
           2312,
           2024
          ],
          [
           "MIA",
           "Miami Dolphins",
           3995,
           1999
          ],
          [
           "MIA",
           "Miami Dolphins",
           2910,
           2000
          ],
          [
           "MIA",
           "Miami Dolphins",
           3415,
           2001
          ],
          [
           "MIA",
           "Miami Dolphins",
           3069,
           2002
          ],
          [
           "MIA",
           "Miami Dolphins",
           3001,
           2003
          ],
          [
           "MIA",
           "Miami Dolphins",
           3391,
           2004
          ],
          [
           "MIA",
           "Miami Dolphins",
           3458,
           2005
          ],
          [
           "MIA",
           "Miami Dolphins",
           3577,
           2006
          ],
          [
           "MIA",
           "Miami Dolphins",
           3319,
           2007
          ],
          [
           "MIA",
           "Miami Dolphins",
           4003,
           2008
          ],
          [
           "MIA",
           "Miami Dolphins",
           3396,
           2009
          ],
          [
           "MIA",
           "Miami Dolphins",
           3752,
           2010
          ],
          [
           "MIA",
           "Miami Dolphins",
           3425,
           2011
          ],
          [
           "MIA",
           "Miami Dolphins",
           3425,
           2012
          ],
          [
           "MIA",
           "Miami Dolphins",
           3966,
           2013
          ],
          [
           "MIA",
           "Miami Dolphins",
           4066,
           2014
          ],
          [
           "MIA",
           "Miami Dolphins",
           4231,
           2015
          ],
          [
           "MIA",
           "Miami Dolphins",
           4005,
           2016
          ],
          [
           "MIA",
           "Miami Dolphins",
           3792,
           2017
          ],
          [
           "MIA",
           "Miami Dolphins",
           3309,
           2018
          ],
          [
           "MIA",
           "Miami Dolphins",
           4117,
           2019
          ],
          [
           "MIA",
           "Miami Dolphins",
           3937,
           2020
          ],
          [
           "MIA",
           "Miami Dolphins",
           3936,
           2021
          ],
          [
           "MIA",
           "Miami Dolphins",
           4985,
           2022
          ],
          [
           "MIA",
           "Miami Dolphins",
           4897,
           2023
          ],
          [
           "MIA",
           "Miami Dolphins",
           2160,
           2024
          ],
          [
           "MIN",
           "Minnesota Vikings",
           4867,
           1999
          ],
          [
           "MIN",
           "Minnesota Vikings",
           4373,
           2000
          ],
          [
           "MIN",
           "Minnesota Vikings",
           3854,
           2001
          ],
          [
           "MIN",
           "Minnesota Vikings",
           3951,
           2002
          ],
          [
           "MIN",
           "Minnesota Vikings",
           4169,
           2003
          ],
          [
           "MIN",
           "Minnesota Vikings",
           5354,
           2004
          ],
          [
           "MIN",
           "Minnesota Vikings",
           3449,
           2005
          ],
          [
           "MIN",
           "Minnesota Vikings",
           3402,
           2006
          ],
          [
           "MIN",
           "Minnesota Vikings",
           2934,
           2007
          ],
          [
           "MIN",
           "Minnesota Vikings",
           3381,
           2008
          ],
          [
           "MIN",
           "Minnesota Vikings",
           4947,
           2009
          ],
          [
           "MIN",
           "Minnesota Vikings",
           3327,
           2010
          ],
          [
           "MIN",
           "Minnesota Vikings",
           3255,
           2011
          ],
          [
           "MIN",
           "Minnesota Vikings",
           3115,
           2012
          ],
          [
           "MIN",
           "Minnesota Vikings",
           3645,
           2013
          ],
          [
           "MIN",
           "Minnesota Vikings",
           3566,
           2014
          ],
          [
           "MIN",
           "Minnesota Vikings",
           3392,
           2015
          ],
          [
           "MIN",
           "Minnesota Vikings",
           4119,
           2016
          ],
          [
           "MIN",
           "Minnesota Vikings",
           4518,
           2017
          ],
          [
           "MIN",
           "Minnesota Vikings",
           4298,
           2018
          ],
          [
           "MIN",
           "Minnesota Vikings",
           4143,
           2019
          ],
          [
           "MIN",
           "Minnesota Vikings",
           4265,
           2020
          ],
          [
           "MIN",
           "Minnesota Vikings",
           4450,
           2021
          ],
          [
           "MIN",
           "Minnesota Vikings",
           5089,
           2022
          ],
          [
           "MIN",
           "Minnesota Vikings",
           4700,
           2023
          ],
          [
           "MIN",
           "Minnesota Vikings",
           2433,
           2024
          ],
          [
           "NE",
           "New England Patriots",
           3969,
           1999
          ],
          [
           "NE",
           "New England Patriots",
           3417,
           2000
          ],
          [
           "NE",
           "New England Patriots",
           4000,
           2001
          ],
          [
           "NE",
           "New England Patriots",
           3767,
           2002
          ],
          [
           "NE",
           "New England Patriots",
           4443,
           2003
          ],
          [
           "NE",
           "New England Patriots",
           4335,
           2004
          ],
          [
           "NE",
           "New England Patriots",
           4864,
           2005
          ],
          [
           "NE",
           "New England Patriots",
           4318,
           2006
          ],
          [
           "NE",
           "New England Patriots",
           5596,
           2007
          ],
          [
           "NE",
           "New England Patriots",
           3790,
           2008
          ],
          [
           "NE",
           "New England Patriots",
           4694,
           2009
          ],
          [
           "NE",
           "New England Patriots",
           4321,
           2010
          ],
          [
           "NE",
           "New England Patriots",
           6135,
           2011
          ],
          [
           "NE",
           "New England Patriots",
           5508,
           2012
          ],
          [
           "NE",
           "New England Patriots",
           4818,
           2013
          ],
          [
           "NE",
           "New England Patriots",
           5263,
           2014
          ],
          [
           "NE",
           "New England Patriots",
           5424,
           2015
          ],
          [
           "NE",
           "New England Patriots",
           5593,
           2016
          ],
          [
           "NE",
           "New England Patriots",
           5771,
           2017
          ],
          [
           "NE",
           "New England Patriots",
           5358,
           2018
          ],
          [
           "NE",
           "New England Patriots",
           4362,
           2019
          ],
          [
           "NE",
           "New England Patriots",
           3124,
           2020
          ],
          [
           "NE",
           "New England Patriots",
           4330,
           2021
          ],
          [
           "NE",
           "New England Patriots",
           3815,
           2022
          ],
          [
           "NE",
           "New England Patriots",
           3392,
           2023
          ],
          [
           "NE",
           "New England Patriots",
           2064,
           2024
          ],
          [
           "NO",
           "New Orleans Saints",
           3570,
           1999
          ],
          [
           "NO",
           "New Orleans Saints",
           4076,
           2000
          ],
          [
           "NO",
           "New Orleans Saints",
           3844,
           2001
          ],
          [
           "NO",
           "New Orleans Saints",
           3685,
           2002
          ],
          [
           "NO",
           "New Orleans Saints",
           3641,
           2003
          ],
          [
           "NO",
           "New Orleans Saints",
           3810,
           2004
          ],
          [
           "NO",
           "New Orleans Saints",
           3604,
           2005
          ],
          [
           "NO",
           "New Orleans Saints",
           5229,
           2006
          ],
          [
           "NO",
           "New Orleans Saints",
           4428,
           2007
          ],
          [
           "NO",
           "New Orleans Saints",
           5069,
           2008
          ],
          [
           "NO",
           "New Orleans Saints",
           5222,
           2009
          ],
          [
           "NO",
           "New Orleans Saints",
           5040,
           2010
          ],
          [
           "NO",
           "New Orleans Saints",
           6492,
           2011
          ],
          [
           "NO",
           "New Orleans Saints",
           5187,
           2012
          ],
          [
           "NO",
           "New Orleans Saints",
           5721,
           2013
          ],
          [
           "NO",
           "New Orleans Saints",
           4952,
           2014
          ],
          [
           "NO",
           "New Orleans Saints",
           5205,
           2015
          ],
          [
           "NO",
           "New Orleans Saints",
           5258,
           2016
          ],
          [
           "NO",
           "New Orleans Saints",
           5004,
           2017
          ],
          [
           "NO",
           "New Orleans Saints",
           4724,
           2018
          ],
          [
           "NO",
           "New Orleans Saints",
           4689,
           2019
          ],
          [
           "NO",
           "New Orleans Saints",
           4400,
           2020
          ],
          [
           "NO",
           "New Orleans Saints",
           3437,
           2021
          ],
          [
           "NO",
           "New Orleans Saints",
           3969,
           2022
          ],
          [
           "NO",
           "New Orleans Saints",
           4225,
           2023
          ],
          [
           "NO",
           "New Orleans Saints",
           2511,
           2024
          ],
          [
           "NYG",
           "New York Giants",
           4015,
           1999
          ],
          [
           "NYG",
           "New York Giants",
           4198,
           2000
          ],
          [
           "NYG",
           "New York Giants",
           3764,
           2001
          ],
          [
           "NYG",
           "New York Giants",
           4445,
           2002
          ],
          [
           "NYG",
           "New York Giants",
           3642,
           2003
          ],
          [
           "NYG",
           "New York Giants",
           3097,
           2004
          ],
          [
           "NYG",
           "New York Giants",
           3875,
           2005
          ],
          [
           "NYG",
           "New York Giants",
           3405,
           2006
          ],
          [
           "NYG",
           "New York Giants",
           4233,
           2007
          ],
          [
           "NYG",
           "New York Giants",
           3522,
           2008
          ],
          [
           "NYG",
           "New York Giants",
           4246,
           2009
          ],
          [
           "NYG",
           "New York Giants",
           4002,
           2010
          ],
          [
           "NYG",
           "New York Giants",
           6152,
           2011
          ],
          [
           "NYG",
           "New York Giants",
           3967,
           2012
          ],
          [
           "NYG",
           "New York Giants",
           3875,
           2013
          ],
          [
           "NYG",
           "New York Giants",
           4470,
           2014
          ],
          [
           "NYG",
           "New York Giants",
           4500,
           2015
          ],
          [
           "NYG",
           "New York Giants",
           4326,
           2016
          ],
          [
           "NYG",
           "New York Giants",
           3680,
           2017
          ],
          [
           "NYG",
           "New York Giants",
           4405,
           2018
          ],
          [
           "NYG",
           "New York Giants",
           4070,
           2019
          ],
          [
           "NYG",
           "New York Giants",
           3336,
           2020
          ],
          [
           "NYG",
           "New York Giants",
           3463,
           2021
          ],
          [
           "NYG",
           "New York Giants",
           3867,
           2022
          ],
          [
           "NYG",
           "New York Giants",
           3351,
           2023
          ],
          [
           "NYG",
           "New York Giants",
           2076,
           2024
          ],
          [
           "NYJ",
           "New York Jets",
           2972,
           1999
          ],
          [
           "NYJ",
           "New York Jets",
           3983,
           2000
          ],
          [
           "NYJ",
           "New York Jets",
           3139,
           2001
          ],
          [
           "NYJ",
           "New York Jets",
           4024,
           2002
          ],
          [
           "NYJ",
           "New York Jets",
           3524,
           2003
          ],
          [
           "NYJ",
           "New York Jets",
           3692,
           2004
          ],
          [
           "NYJ",
           "New York Jets",
           2989,
           2005
          ],
          [
           "NYJ",
           "New York Jets",
           3651,
           2006
          ],
          [
           "NYJ",
           "New York Jets",
           3331,
           2007
          ],
          [
           "NYJ",
           "New York Jets",
           3516,
           2008
          ],
          [
           "NYJ",
           "New York Jets",
           3180,
           2009
          ],
          [
           "NYJ",
           "New York Jets",
           4036,
           2010
          ],
          [
           "NYJ",
           "New York Jets",
           3542,
           2011
          ],
          [
           "NYJ",
           "New York Jets",
           3178,
           2012
          ],
          [
           "NYJ",
           "New York Jets",
           3270,
           2013
          ],
          [
           "NYJ",
           "New York Jets",
           3206,
           2014
          ],
          [
           "NYJ",
           "New York Jets",
           4170,
           2015
          ],
          [
           "NYJ",
           "New York Jets",
           3645,
           2016
          ],
          [
           "NYJ",
           "New York Jets",
           3501,
           2017
          ],
          [
           "NYJ",
           "New York Jets",
           3404,
           2018
          ],
          [
           "NYJ",
           "New York Jets",
           3443,
           2019
          ],
          [
           "NYJ",
           "New York Jets",
           3115,
           2020
          ],
          [
           "NYJ",
           "New York Jets",
           3959,
           2021
          ],
          [
           "NYJ",
           "New York Jets",
           4040,
           2022
          ],
          [
           "NYJ",
           "New York Jets",
           3373,
           2023
          ],
          [
           "NYJ",
           "New York Jets",
           2478,
           2024
          ],
          [
           "PHI",
           "Philadelphia Eagles",
           2372,
           1999
          ],
          [
           "PHI",
           "Philadelphia Eagles",
           3676,
           2000
          ],
          [
           "PHI",
           "Philadelphia Eagles",
           4054,
           2001
          ],
          [
           "PHI",
           "Philadelphia Eagles",
           4096,
           2002
          ],
          [
           "PHI",
           "Philadelphia Eagles",
           3716,
           2003
          ],
          [
           "PHI",
           "Philadelphia Eagles",
           5034,
           2004
          ],
          [
           "PHI",
           "Philadelphia Eagles",
           3903,
           2005
          ],
          [
           "PHI",
           "Philadelphia Eagles",
           4667,
           2006
          ],
          [
           "PHI",
           "Philadelphia Eagles",
           4005,
           2007
          ],
          [
           "PHI",
           "Philadelphia Eagles",
           4950,
           2008
          ],
          [
           "PHI",
           "Philadelphia Eagles",
           4686,
           2009
          ],
          [
           "PHI",
           "Philadelphia Eagles",
           4507,
           2010
          ],
          [
           "PHI",
           "Philadelphia Eagles",
           4276,
           2011
          ],
          [
           "PHI",
           "Philadelphia Eagles",
           4075,
           2012
          ],
          [
           "PHI",
           "Philadelphia Eagles",
           4601,
           2013
          ],
          [
           "PHI",
           "Philadelphia Eagles",
           4581,
           2014
          ],
          [
           "PHI",
           "Philadelphia Eagles",
           4341,
           2015
          ],
          [
           "PHI",
           "Philadelphia Eagles",
           3798,
           2016
          ],
          [
           "PHI",
           "Philadelphia Eagles",
           4939,
           2017
          ],
          [
           "PHI",
           "Philadelphia Eagles",
           4991,
           2018
          ],
          [
           "PHI",
           "Philadelphia Eagles",
           4240,
           2019
          ],
          [
           "PHI",
           "Philadelphia Eagles",
           3728,
           2020
          ],
          [
           "PHI",
           "Philadelphia Eagles",
           3843,
           2021
          ],
          [
           "PHI",
           "Philadelphia Eagles",
           4943,
           2022
          ],
          [
           "PHI",
           "Philadelphia Eagles",
           4317,
           2023
          ],
          [
           "PHI",
           "Philadelphia Eagles",
           2202,
           2024
          ],
          [
           "PIT",
           "Pittsburgh Steelers",
           3047,
           1999
          ],
          [
           "PIT",
           "Pittsburgh Steelers",
           2705,
           2000
          ],
          [
           "PIT",
           "Pittsburgh Steelers",
           3704,
           2001
          ],
          [
           "PIT",
           "Pittsburgh Steelers",
           4669,
           2002
          ],
          [
           "PIT",
           "Pittsburgh Steelers",
           3548,
           2003
          ],
          [
           "PIT",
           "Pittsburgh Steelers",
           3377,
           2004
          ],
          [
           "PIT",
           "Pittsburgh Steelers",
           3950,
           2005
          ],
          [
           "PIT",
           "Pittsburgh Steelers",
           4026,
           2006
          ],
          [
           "PIT",
           "Pittsburgh Steelers",
           3759,
           2007
          ],
          [
           "PIT",
           "Pittsburgh Steelers",
           4312,
           2008
          ],
          [
           "PIT",
           "Pittsburgh Steelers",
           4496,
           2009
          ],
          [
           "PIT",
           "Pittsburgh Steelers",
           4512,
           2010
          ],
          [
           "PIT",
           "Pittsburgh Steelers",
           4622,
           2011
          ],
          [
           "PIT",
           "Pittsburgh Steelers",
           4012,
           2012
          ],
          [
           "PIT",
           "Pittsburgh Steelers",
           4306,
           2013
          ],
          [
           "PIT",
           "Pittsburgh Steelers",
           5353,
           2014
          ],
          [
           "PIT",
           "Pittsburgh Steelers",
           5401,
           2015
          ],
          [
           "PIT",
           "Pittsburgh Steelers",
           5112,
           2016
          ],
          [
           "PIT",
           "Pittsburgh Steelers",
           5011,
           2017
          ],
          [
           "PIT",
           "Pittsburgh Steelers",
           5174,
           2018
          ],
          [
           "PIT",
           "Pittsburgh Steelers",
           3214,
           2019
          ],
          [
           "PIT",
           "Pittsburgh Steelers",
           4630,
           2020
          ],
          [
           "PIT",
           "Pittsburgh Steelers",
           4232,
           2021
          ],
          [
           "PIT",
           "Pittsburgh Steelers",
           3661,
           2022
          ],
          [
           "PIT",
           "Pittsburgh Steelers",
           3650,
           2023
          ],
          [
           "PIT",
           "Pittsburgh Steelers",
           2337,
           2024
          ],
          [
           "SEA",
           "Seattle Seahawks",
           3759,
           1999
          ],
          [
           "SEA",
           "Seattle Seahawks",
           3151,
           2000
          ],
          [
           "SEA",
           "Seattle Seahawks",
           3164,
           2001
          ],
          [
           "SEA",
           "Seattle Seahawks",
           4257,
           2002
          ],
          [
           "SEA",
           "Seattle Seahawks",
           4180,
           2003
          ],
          [
           "SEA",
           "Seattle Seahawks",
           4064,
           2004
          ],
          [
           "SEA",
           "Seattle Seahawks",
           4335,
           2005
          ],
          [
           "SEA",
           "Seattle Seahawks",
           3804,
           2006
          ],
          [
           "SEA",
           "Seattle Seahawks",
           4604,
           2007
          ],
          [
           "SEA",
           "Seattle Seahawks",
           2831,
           2008
          ],
          [
           "SEA",
           "Seattle Seahawks",
           3771,
           2009
          ],
          [
           "SEA",
           "Seattle Seahawks",
           4063,
           2010
          ],
          [
           "SEA",
           "Seattle Seahawks",
           3444,
           2011
          ],
          [
           "SEA",
           "Seattle Seahawks",
           3806,
           2012
          ],
          [
           "SEA",
           "Seattle Seahawks",
           4032,
           2013
          ],
          [
           "SEA",
           "Seattle Seahawks",
           4235,
           2014
          ],
          [
           "SEA",
           "Seattle Seahawks",
           4569,
           2015
          ],
          [
           "SEA",
           "Seattle Seahawks",
           4871,
           2016
          ],
          [
           "SEA",
           "Seattle Seahawks",
           3979,
           2017
          ],
          [
           "SEA",
           "Seattle Seahawks",
           3681,
           2018
          ],
          [
           "SEA",
           "Seattle Seahawks",
           4712,
           2019
          ],
          [
           "SEA",
           "Seattle Seahawks",
           4419,
           2020
          ],
          [
           "SEA",
           "Seattle Seahawks",
           3815,
           2021
          ],
          [
           "SEA",
           "Seattle Seahawks",
           4535,
           2022
          ],
          [
           "SEA",
           "Seattle Seahawks",
           4167,
           2023
          ],
          [
           "SEA",
           "Seattle Seahawks",
           2816,
           2024
          ],
          [
           "SF",
           "San Francisco 49ers",
           3498,
           1999
          ],
          [
           "SF",
           "San Francisco 49ers",
           4360,
           2000
          ],
          [
           "SF",
           "San Francisco 49ers",
           3792,
           2001
          ],
          [
           "SF",
           "San Francisco 49ers",
           4125,
           2002
          ],
          [
           "SF",
           "San Francisco 49ers",
           3566,
           2003
          ],
          [
           "SF",
           "San Francisco 49ers",
           3455,
           2004
          ],
          [
           "SF",
           "San Francisco 49ers",
           2190,
           2005
          ],
          [
           "SF",
           "San Francisco 49ers",
           2901,
           2006
          ],
          [
           "SF",
           "San Francisco 49ers",
           2685,
           2007
          ],
          [
           "SF",
           "San Francisco 49ers",
           3724,
           2008
          ],
          [
           "SF",
           "San Francisco 49ers",
           3293,
           2009
          ],
          [
           "SF",
           "San Francisco 49ers",
           3613,
           2010
          ],
          [
           "SF",
           "San Francisco 49ers",
           3688,
           2011
          ],
          [
           "SF",
           "San Francisco 49ers",
           4349,
           2012
          ],
          [
           "SF",
           "San Francisco 49ers",
           3786,
           2013
          ],
          [
           "SF",
           "San Francisco 49ers",
           3407,
           2014
          ],
          [
           "SF",
           "San Francisco 49ers",
           3646,
           2015
          ],
          [
           "SF",
           "San Francisco 49ers",
           3166,
           2016
          ],
          [
           "SF",
           "San Francisco 49ers",
           4235,
           2017
          ],
          [
           "SF",
           "San Francisco 49ers",
           4247,
           2018
          ],
          [
           "SF",
           "San Francisco 49ers",
           4456,
           2019
          ],
          [
           "SF",
           "San Francisco 49ers",
           4320,
           2020
          ],
          [
           "SF",
           "San Francisco 49ers",
           4972,
           2021
          ],
          [
           "SF",
           "San Francisco 49ers",
           4692,
           2022
          ],
          [
           "SF",
           "San Francisco 49ers",
           5372,
           2023
          ],
          [
           "SF",
           "San Francisco 49ers",
           2613,
           2024
          ],
          [
           "TB",
           "Tampa Bay Buccaneers",
           2992,
           1999
          ],
          [
           "TB",
           "Tampa Bay Buccaneers",
           2895,
           2000
          ],
          [
           "TB",
           "Tampa Bay Buccaneers",
           3823,
           2001
          ],
          [
           "TB",
           "Tampa Bay Buccaneers",
           4356,
           2002
          ],
          [
           "TB",
           "Tampa Bay Buccaneers",
           3951,
           2003
          ],
          [
           "TB",
           "Tampa Bay Buccaneers",
           3773,
           2004
          ],
          [
           "TB",
           "Tampa Bay Buccaneers",
           3369,
           2005
          ],
          [
           "TB",
           "Tampa Bay Buccaneers",
           2994,
           2006
          ],
          [
           "TB",
           "Tampa Bay Buccaneers",
           3786,
           2007
          ],
          [
           "TB",
           "Tampa Bay Buccaneers",
           3788,
           2008
          ],
          [
           "TB",
           "Tampa Bay Buccaneers",
           3136,
           2009
          ],
          [
           "TB",
           "Tampa Bay Buccaneers",
           3564,
           2010
          ],
          [
           "TB",
           "Tampa Bay Buccaneers",
           3838,
           2011
          ],
          [
           "TB",
           "Tampa Bay Buccaneers",
           4144,
           2012
          ],
          [
           "TB",
           "Tampa Bay Buccaneers",
           3181,
           2013
          ],
          [
           "TB",
           "Tampa Bay Buccaneers",
           3623,
           2014
          ],
          [
           "TB",
           "Tampa Bay Buccaneers",
           4042,
           2015
          ],
          [
           "TB",
           "Tampa Bay Buccaneers",
           4165,
           2016
          ],
          [
           "TB",
           "Tampa Bay Buccaneers",
           4607,
           2017
          ],
          [
           "TB",
           "Tampa Bay Buccaneers",
           5358,
           2018
          ],
          [
           "TB",
           "Tampa Bay Buccaneers",
           5127,
           2019
          ],
          [
           "TB",
           "Tampa Bay Buccaneers",
           5837,
           2020
          ],
          [
           "TB",
           "Tampa Bay Buccaneers",
           5983,
           2021
          ],
          [
           "TB",
           "Tampa Bay Buccaneers",
           5097,
           2022
          ],
          [
           "TB",
           "Tampa Bay Buccaneers",
           4730,
           2023
          ],
          [
           "TB",
           "Tampa Bay Buccaneers",
           2505,
           2024
          ],
          [
           "TEN",
           "Tennessee Titans",
           4086,
           1999
          ],
          [
           "TEN",
           "Tennessee Titans",
           3513,
           2000
          ],
          [
           "TEN",
           "Tennessee Titans",
           3867,
           2001
          ],
          [
           "TEN",
           "Tennessee Titans",
           3973,
           2002
          ],
          [
           "TEN",
           "Tennessee Titans",
           4431,
           2003
          ],
          [
           "TEN",
           "Tennessee Titans",
           3932,
           2004
          ],
          [
           "TEN",
           "Tennessee Titans",
           3797,
           2005
          ],
          [
           "TEN",
           "Tennessee Titans",
           2748,
           2006
          ],
          [
           "TEN",
           "Tennessee Titans",
           3215,
           2007
          ],
          [
           "TEN",
           "Tennessee Titans",
           3188,
           2008
          ],
          [
           "TEN",
           "Tennessee Titans",
           3104,
           2009
          ],
          [
           "TEN",
           "Tennessee Titans",
           3278,
           2010
          ],
          [
           "TEN",
           "Tennessee Titans",
           4113,
           2011
          ],
          [
           "TEN",
           "Tennessee Titans",
           3577,
           2012
          ],
          [
           "TEN",
           "Tennessee Titans",
           3710,
           2013
          ],
          [
           "TEN",
           "Tennessee Titans",
           3738,
           2014
          ],
          [
           "TEN",
           "Tennessee Titans",
           3893,
           2015
          ],
          [
           "TEN",
           "Tennessee Titans",
           3720,
           2016
          ],
          [
           "TEN",
           "Tennessee Titans",
           3863,
           2017
          ],
          [
           "TEN",
           "Tennessee Titans",
           3255,
           2018
          ],
          [
           "TEN",
           "Tennessee Titans",
           4360,
           2019
          ],
          [
           "TEN",
           "Tennessee Titans",
           3991,
           2020
          ],
          [
           "TEN",
           "Tennessee Titans",
           3965,
           2021
          ],
          [
           "TEN",
           "Tennessee Titans",
           3227,
           2022
          ],
          [
           "TEN",
           "Tennessee Titans",
           3512,
           2023
          ],
          [
           "TEN",
           "Tennessee Titans",
           1975,
           2024
          ],
          [
           "WAS",
           "Washington Commanders",
           4402,
           1999
          ],
          [
           "WAS",
           "Washington Commanders",
           3876,
           2000
          ],
          [
           "WAS",
           "Washington Commanders",
           2716,
           2001
          ],
          [
           "WAS",
           "Washington Commanders",
           3523,
           2002
          ],
          [
           "WAS",
           "Washington Commanders",
           3276,
           2003
          ],
          [
           "WAS",
           "Washington Commanders",
           2874,
           2004
          ],
          [
           "WAS",
           "Washington Commanders",
           3629,
           2005
          ],
          [
           "WAS",
           "Washington Commanders",
           3174,
           2006
          ],
          [
           "WAS",
           "Washington Commanders",
           3888,
           2007
          ],
          [
           "WAS",
           "Washington Commanders",
           3291,
           2008
          ],
          [
           "WAS",
           "Washington Commanders",
           3797,
           2009
          ],
          [
           "WAS",
           "Washington Commanders",
           4261,
           2010
          ],
          [
           "WAS",
           "Washington Commanders",
           4058,
           2011
          ],
          [
           "WAS",
           "Washington Commanders",
           3781,
           2012
          ],
          [
           "WAS",
           "Washington Commanders",
           4057,
           2013
          ],
          [
           "WAS",
           "Washington Commanders",
           4461,
           2014
          ],
          [
           "WAS",
           "Washington Commanders",
           4623,
           2015
          ],
          [
           "WAS",
           "Washington Commanders",
           4948,
           2016
          ],
          [
           "WAS",
           "Washington Commanders",
           4093,
           2017
          ],
          [
           "WAS",
           "Washington Commanders",
           3287,
           2018
          ],
          [
           "WAS",
           "Washington Commanders",
           3205,
           2019
          ],
          [
           "WAS",
           "Washington Commanders",
           4102,
           2020
          ],
          [
           "WAS",
           "Washington Commanders",
           3746,
           2021
          ],
          [
           "WAS",
           "Washington Commanders",
           3783,
           2022
          ],
          [
           "WAS",
           "Washington Commanders",
           4174,
           2023
          ],
          [
           "WAS",
           "Washington Commanders",
           2541,
           2024
          ]
         ],
         "hovertemplate": "lat=%{lat}<br>lon=%{lon}<br>team_abbrev=%{customdata[0]}<br>team_full_name=%{customdata[1]}<br>passing_yards=%{customdata[2]}<br>season=%{customdata[3]}<extra></extra>",
         "lat": [
          33.527,
          33.527,
          33.527,
          33.527,
          33.527,
          33.527,
          33.527,
          33.527,
          33.527,
          33.527,
          33.527,
          33.527,
          33.527,
          33.527,
          33.527,
          33.527,
          33.527,
          33.527,
          33.527,
          33.527,
          33.527,
          33.527,
          33.527,
          33.527,
          33.527,
          33.527,
          33.755,
          33.755,
          33.755,
          33.755,
          33.755,
          33.755,
          33.755,
          33.755,
          33.755,
          33.755,
          33.755,
          33.755,
          33.755,
          33.755,
          33.755,
          33.755,
          33.755,
          33.755,
          33.755,
          33.755,
          33.755,
          33.755,
          33.755,
          33.755,
          33.755,
          33.755,
          39.2904,
          39.2904,
          39.2904,
          39.2904,
          39.2904,
          39.2904,
          39.2904,
          39.2904,
          39.2904,
          39.2904,
          39.2904,
          39.2904,
          39.2904,
          39.2904,
          39.2904,
          39.2904,
          39.2904,
          39.2904,
          39.2904,
          39.2904,
          39.2904,
          39.2904,
          39.2904,
          39.2904,
          39.2904,
          39.2904,
          42.7738,
          42.7738,
          42.7738,
          42.7738,
          42.7738,
          42.7738,
          42.7738,
          42.7738,
          42.7738,
          42.7738,
          42.7738,
          42.7738,
          42.7738,
          42.7738,
          42.7738,
          42.7738,
          42.7738,
          42.7738,
          42.7738,
          42.7738,
          42.7738,
          42.7738,
          42.7738,
          42.7738,
          42.7738,
          42.7738,
          35.2271,
          35.2271,
          35.2271,
          35.2271,
          35.2271,
          35.2271,
          35.2271,
          35.2271,
          35.2271,
          35.2271,
          35.2271,
          35.2271,
          35.2271,
          35.2271,
          35.2271,
          35.2271,
          35.2271,
          35.2271,
          35.2271,
          35.2271,
          35.2271,
          35.2271,
          35.2271,
          35.2271,
          35.2271,
          35.2271,
          41.8623,
          41.8623,
          41.8623,
          41.8623,
          41.8623,
          41.8623,
          41.8623,
          41.8623,
          41.8623,
          41.8623,
          41.8623,
          41.8623,
          41.8623,
          41.8623,
          41.8623,
          41.8623,
          41.8623,
          41.8623,
          41.8623,
          41.8623,
          41.8623,
          41.8623,
          41.8623,
          41.8623,
          41.8623,
          41.8623,
          39.0957,
          39.0957,
          39.0957,
          39.0957,
          39.0957,
          39.0957,
          39.0957,
          39.0957,
          39.0957,
          39.0957,
          39.0957,
          39.0957,
          39.0957,
          39.0957,
          39.0957,
          39.0957,
          39.0957,
          39.0957,
          39.0957,
          39.0957,
          39.0957,
          39.0957,
          39.0957,
          39.0957,
          39.0957,
          39.0957,
          41.4993,
          41.4993,
          41.4993,
          41.4993,
          41.4993,
          41.4993,
          41.4993,
          41.4993,
          41.4993,
          41.4993,
          41.4993,
          41.4993,
          41.4993,
          41.4993,
          41.4993,
          41.4993,
          41.4993,
          41.4993,
          41.4993,
          41.4993,
          41.4993,
          41.4993,
          41.4993,
          41.4993,
          41.4993,
          41.4993,
          32.7512,
          32.7512,
          32.7512,
          32.7512,
          32.7512,
          32.7512,
          32.7512,
          32.7512,
          32.7512,
          32.7512,
          32.7512,
          32.7512,
          32.7512,
          32.7512,
          32.7512,
          32.7512,
          32.7512,
          32.7512,
          32.7512,
          32.7512,
          32.7512,
          32.7512,
          32.7512,
          32.7512,
          32.7512,
          32.7512,
          39.7392,
          39.7392,
          39.7392,
          39.7392,
          39.7392,
          39.7392,
          39.7392,
          39.7392,
          39.7392,
          39.7392,
          39.7392,
          39.7392,
          39.7392,
          39.7392,
          39.7392,
          39.7392,
          39.7392,
          39.7392,
          39.7392,
          39.7392,
          39.7392,
          39.7392,
          39.7392,
          39.7392,
          39.7392,
          39.7392,
          42.3314,
          42.3314,
          42.3314,
          42.3314,
          42.3314,
          42.3314,
          42.3314,
          42.3314,
          42.3314,
          42.3314,
          42.3314,
          42.3314,
          42.3314,
          42.3314,
          42.3314,
          42.3314,
          42.3314,
          42.3314,
          42.3314,
          42.3314,
          42.3314,
          42.3314,
          42.3314,
          42.3314,
          42.3314,
          42.3314,
          44.5133,
          44.5133,
          44.5133,
          44.5133,
          44.5133,
          44.5133,
          44.5133,
          44.5133,
          44.5133,
          44.5133,
          44.5133,
          44.5133,
          44.5133,
          44.5133,
          44.5133,
          44.5133,
          44.5133,
          44.5133,
          44.5133,
          44.5133,
          44.5133,
          44.5133,
          44.5133,
          44.5133,
          44.5133,
          44.5133,
          29.7604,
          29.7604,
          29.7604,
          29.7604,
          29.7604,
          29.7604,
          29.7604,
          29.7604,
          29.7604,
          29.7604,
          29.7604,
          29.7604,
          29.7604,
          29.7604,
          29.7604,
          29.7604,
          29.7604,
          29.7604,
          29.7604,
          29.7604,
          29.7604,
          29.7604,
          29.7604,
          39.7684,
          39.7684,
          39.7684,
          39.7684,
          39.7684,
          39.7684,
          39.7684,
          39.7684,
          39.7684,
          39.7684,
          39.7684,
          39.7684,
          39.7684,
          39.7684,
          39.7684,
          39.7684,
          39.7684,
          39.7684,
          39.7684,
          39.7684,
          39.7684,
          39.7684,
          39.7684,
          39.7684,
          39.7684,
          39.7684,
          30.3322,
          30.3322,
          30.3322,
          30.3322,
          30.3322,
          30.3322,
          30.3322,
          30.3322,
          30.3322,
          30.3322,
          30.3322,
          30.3322,
          30.3322,
          30.3322,
          30.3322,
          30.3322,
          30.3322,
          30.3322,
          30.3322,
          30.3322,
          30.3322,
          30.3322,
          30.3322,
          30.3322,
          30.3322,
          30.3322,
          39.0997,
          39.0997,
          39.0997,
          39.0997,
          39.0997,
          39.0997,
          39.0997,
          39.0997,
          39.0997,
          39.0997,
          39.0997,
          39.0997,
          39.0997,
          39.0997,
          39.0997,
          39.0997,
          39.0997,
          39.0997,
          39.0997,
          39.0997,
          39.0997,
          39.0997,
          39.0997,
          39.0997,
          39.0997,
          39.0997,
          33.9581,
          33.9581,
          33.9581,
          33.9581,
          33.9581,
          33.9581,
          33.9581,
          33.9581,
          33.9581,
          33.9581,
          33.9581,
          33.9581,
          33.9581,
          33.9581,
          33.9581,
          33.9581,
          33.9581,
          33.9581,
          33.9581,
          33.9581,
          33.9581,
          33.9581,
          33.9581,
          33.9581,
          33.9581,
          33.9581,
          33.9581,
          33.9581,
          33.9581,
          33.9581,
          33.9581,
          33.9581,
          33.9581,
          33.9581,
          33.9581,
          33.9581,
          33.9581,
          33.9581,
          33.9581,
          33.9581,
          33.9581,
          33.9581,
          33.9581,
          33.9581,
          33.9581,
          33.9581,
          33.9581,
          33.9581,
          33.9581,
          33.9581,
          33.9581,
          33.9581,
          36.094,
          36.094,
          36.094,
          36.094,
          36.094,
          36.094,
          36.094,
          36.094,
          36.094,
          36.094,
          36.094,
          36.094,
          36.094,
          36.094,
          36.094,
          36.094,
          36.094,
          36.094,
          36.094,
          36.094,
          36.094,
          36.094,
          36.094,
          36.094,
          36.094,
          36.094,
          25.958,
          25.958,
          25.958,
          25.958,
          25.958,
          25.958,
          25.958,
          25.958,
          25.958,
          25.958,
          25.958,
          25.958,
          25.958,
          25.958,
          25.958,
          25.958,
          25.958,
          25.958,
          25.958,
          25.958,
          25.958,
          25.958,
          25.958,
          25.958,
          25.958,
          25.958,
          44.9778,
          44.9778,
          44.9778,
          44.9778,
          44.9778,
          44.9778,
          44.9778,
          44.9778,
          44.9778,
          44.9778,
          44.9778,
          44.9778,
          44.9778,
          44.9778,
          44.9778,
          44.9778,
          44.9778,
          44.9778,
          44.9778,
          44.9778,
          44.9778,
          44.9778,
          44.9778,
          44.9778,
          44.9778,
          44.9778,
          42.0654,
          42.0654,
          42.0654,
          42.0654,
          42.0654,
          42.0654,
          42.0654,
          42.0654,
          42.0654,
          42.0654,
          42.0654,
          42.0654,
          42.0654,
          42.0654,
          42.0654,
          42.0654,
          42.0654,
          42.0654,
          42.0654,
          42.0654,
          42.0654,
          42.0654,
          42.0654,
          42.0654,
          42.0654,
          42.0654,
          29.9511,
          29.9511,
          29.9511,
          29.9511,
          29.9511,
          29.9511,
          29.9511,
          29.9511,
          29.9511,
          29.9511,
          29.9511,
          29.9511,
          29.9511,
          29.9511,
          29.9511,
          29.9511,
          29.9511,
          29.9511,
          29.9511,
          29.9511,
          29.9511,
          29.9511,
          29.9511,
          29.9511,
          29.9511,
          29.9511,
          40.8136,
          40.8136,
          40.8136,
          40.8136,
          40.8136,
          40.8136,
          40.8136,
          40.8136,
          40.8136,
          40.8136,
          40.8136,
          40.8136,
          40.8136,
          40.8136,
          40.8136,
          40.8136,
          40.8136,
          40.8136,
          40.8136,
          40.8136,
          40.8136,
          40.8136,
          40.8136,
          40.8136,
          40.8136,
          40.8136,
          40.8136,
          40.8136,
          40.8136,
          40.8136,
          40.8136,
          40.8136,
          40.8136,
          40.8136,
          40.8136,
          40.8136,
          40.8136,
          40.8136,
          40.8136,
          40.8136,
          40.8136,
          40.8136,
          40.8136,
          40.8136,
          40.8136,
          40.8136,
          40.8136,
          40.8136,
          40.8136,
          40.8136,
          40.8136,
          40.8136,
          39.9526,
          39.9526,
          39.9526,
          39.9526,
          39.9526,
          39.9526,
          39.9526,
          39.9526,
          39.9526,
          39.9526,
          39.9526,
          39.9526,
          39.9526,
          39.9526,
          39.9526,
          39.9526,
          39.9526,
          39.9526,
          39.9526,
          39.9526,
          39.9526,
          39.9526,
          39.9526,
          39.9526,
          39.9526,
          39.9526,
          40.4406,
          40.4406,
          40.4406,
          40.4406,
          40.4406,
          40.4406,
          40.4406,
          40.4406,
          40.4406,
          40.4406,
          40.4406,
          40.4406,
          40.4406,
          40.4406,
          40.4406,
          40.4406,
          40.4406,
          40.4406,
          40.4406,
          40.4406,
          40.4406,
          40.4406,
          40.4406,
          40.4406,
          40.4406,
          40.4406,
          47.6062,
          47.6062,
          47.6062,
          47.6062,
          47.6062,
          47.6062,
          47.6062,
          47.6062,
          47.6062,
          47.6062,
          47.6062,
          47.6062,
          47.6062,
          47.6062,
          47.6062,
          47.6062,
          47.6062,
          47.6062,
          47.6062,
          47.6062,
          47.6062,
          47.6062,
          47.6062,
          47.6062,
          47.6062,
          47.6062,
          37.4043,
          37.4043,
          37.4043,
          37.4043,
          37.4043,
          37.4043,
          37.4043,
          37.4043,
          37.4043,
          37.4043,
          37.4043,
          37.4043,
          37.4043,
          37.4043,
          37.4043,
          37.4043,
          37.4043,
          37.4043,
          37.4043,
          37.4043,
          37.4043,
          37.4043,
          37.4043,
          37.4043,
          37.4043,
          37.4043,
          27.9506,
          27.9506,
          27.9506,
          27.9506,
          27.9506,
          27.9506,
          27.9506,
          27.9506,
          27.9506,
          27.9506,
          27.9506,
          27.9506,
          27.9506,
          27.9506,
          27.9506,
          27.9506,
          27.9506,
          27.9506,
          27.9506,
          27.9506,
          27.9506,
          27.9506,
          27.9506,
          27.9506,
          27.9506,
          27.9506,
          36.1627,
          36.1627,
          36.1627,
          36.1627,
          36.1627,
          36.1627,
          36.1627,
          36.1627,
          36.1627,
          36.1627,
          36.1627,
          36.1627,
          36.1627,
          36.1627,
          36.1627,
          36.1627,
          36.1627,
          36.1627,
          36.1627,
          36.1627,
          36.1627,
          36.1627,
          36.1627,
          36.1627,
          36.1627,
          36.1627,
          38.9076,
          38.9076,
          38.9076,
          38.9076,
          38.9076,
          38.9076,
          38.9076,
          38.9076,
          38.9076,
          38.9076,
          38.9076,
          38.9076,
          38.9076,
          38.9076,
          38.9076,
          38.9076,
          38.9076,
          38.9076,
          38.9076,
          38.9076,
          38.9076,
          38.9076,
          38.9076,
          38.9076,
          38.9076,
          38.9076
         ],
         "legendgroup": "",
         "lon": [
          -112.2626,
          -112.2626,
          -112.2626,
          -112.2626,
          -112.2626,
          -112.2626,
          -112.2626,
          -112.2626,
          -112.2626,
          -112.2626,
          -112.2626,
          -112.2626,
          -112.2626,
          -112.2626,
          -112.2626,
          -112.2626,
          -112.2626,
          -112.2626,
          -112.2626,
          -112.2626,
          -112.2626,
          -112.2626,
          -112.2626,
          -112.2626,
          -112.2626,
          -112.2626,
          -84.39,
          -84.39,
          -84.39,
          -84.39,
          -84.39,
          -84.39,
          -84.39,
          -84.39,
          -84.39,
          -84.39,
          -84.39,
          -84.39,
          -84.39,
          -84.39,
          -84.39,
          -84.39,
          -84.39,
          -84.39,
          -84.39,
          -84.39,
          -84.39,
          -84.39,
          -84.39,
          -84.39,
          -84.39,
          -84.39,
          -76.6122,
          -76.6122,
          -76.6122,
          -76.6122,
          -76.6122,
          -76.6122,
          -76.6122,
          -76.6122,
          -76.6122,
          -76.6122,
          -76.6122,
          -76.6122,
          -76.6122,
          -76.6122,
          -76.6122,
          -76.6122,
          -76.6122,
          -76.6122,
          -76.6122,
          -76.6122,
          -76.6122,
          -76.6122,
          -76.6122,
          -76.6122,
          -76.6122,
          -76.6122,
          -78.7866,
          -78.7866,
          -78.7866,
          -78.7866,
          -78.7866,
          -78.7866,
          -78.7866,
          -78.7866,
          -78.7866,
          -78.7866,
          -78.7866,
          -78.7866,
          -78.7866,
          -78.7866,
          -78.7866,
          -78.7866,
          -78.7866,
          -78.7866,
          -78.7866,
          -78.7866,
          -78.7866,
          -78.7866,
          -78.7866,
          -78.7866,
          -78.7866,
          -78.7866,
          -80.8431,
          -80.8431,
          -80.8431,
          -80.8431,
          -80.8431,
          -80.8431,
          -80.8431,
          -80.8431,
          -80.8431,
          -80.8431,
          -80.8431,
          -80.8431,
          -80.8431,
          -80.8431,
          -80.8431,
          -80.8431,
          -80.8431,
          -80.8431,
          -80.8431,
          -80.8431,
          -80.8431,
          -80.8431,
          -80.8431,
          -80.8431,
          -80.8431,
          -80.8431,
          -87.6167,
          -87.6167,
          -87.6167,
          -87.6167,
          -87.6167,
          -87.6167,
          -87.6167,
          -87.6167,
          -87.6167,
          -87.6167,
          -87.6167,
          -87.6167,
          -87.6167,
          -87.6167,
          -87.6167,
          -87.6167,
          -87.6167,
          -87.6167,
          -87.6167,
          -87.6167,
          -87.6167,
          -87.6167,
          -87.6167,
          -87.6167,
          -87.6167,
          -87.6167,
          -84.512,
          -84.512,
          -84.512,
          -84.512,
          -84.512,
          -84.512,
          -84.512,
          -84.512,
          -84.512,
          -84.512,
          -84.512,
          -84.512,
          -84.512,
          -84.512,
          -84.512,
          -84.512,
          -84.512,
          -84.512,
          -84.512,
          -84.512,
          -84.512,
          -84.512,
          -84.512,
          -84.512,
          -84.512,
          -84.512,
          -81.6944,
          -81.6944,
          -81.6944,
          -81.6944,
          -81.6944,
          -81.6944,
          -81.6944,
          -81.6944,
          -81.6944,
          -81.6944,
          -81.6944,
          -81.6944,
          -81.6944,
          -81.6944,
          -81.6944,
          -81.6944,
          -81.6944,
          -81.6944,
          -81.6944,
          -81.6944,
          -81.6944,
          -81.6944,
          -81.6944,
          -81.6944,
          -81.6944,
          -81.6944,
          -97.0918,
          -97.0918,
          -97.0918,
          -97.0918,
          -97.0918,
          -97.0918,
          -97.0918,
          -97.0918,
          -97.0918,
          -97.0918,
          -97.0918,
          -97.0918,
          -97.0918,
          -97.0918,
          -97.0918,
          -97.0918,
          -97.0918,
          -97.0918,
          -97.0918,
          -97.0918,
          -97.0918,
          -97.0918,
          -97.0918,
          -97.0918,
          -97.0918,
          -97.0918,
          -104.9903,
          -104.9903,
          -104.9903,
          -104.9903,
          -104.9903,
          -104.9903,
          -104.9903,
          -104.9903,
          -104.9903,
          -104.9903,
          -104.9903,
          -104.9903,
          -104.9903,
          -104.9903,
          -104.9903,
          -104.9903,
          -104.9903,
          -104.9903,
          -104.9903,
          -104.9903,
          -104.9903,
          -104.9903,
          -104.9903,
          -104.9903,
          -104.9903,
          -104.9903,
          -83.0458,
          -83.0458,
          -83.0458,
          -83.0458,
          -83.0458,
          -83.0458,
          -83.0458,
          -83.0458,
          -83.0458,
          -83.0458,
          -83.0458,
          -83.0458,
          -83.0458,
          -83.0458,
          -83.0458,
          -83.0458,
          -83.0458,
          -83.0458,
          -83.0458,
          -83.0458,
          -83.0458,
          -83.0458,
          -83.0458,
          -83.0458,
          -83.0458,
          -83.0458,
          -88.0158,
          -88.0158,
          -88.0158,
          -88.0158,
          -88.0158,
          -88.0158,
          -88.0158,
          -88.0158,
          -88.0158,
          -88.0158,
          -88.0158,
          -88.0158,
          -88.0158,
          -88.0158,
          -88.0158,
          -88.0158,
          -88.0158,
          -88.0158,
          -88.0158,
          -88.0158,
          -88.0158,
          -88.0158,
          -88.0158,
          -88.0158,
          -88.0158,
          -88.0158,
          -95.3698,
          -95.3698,
          -95.3698,
          -95.3698,
          -95.3698,
          -95.3698,
          -95.3698,
          -95.3698,
          -95.3698,
          -95.3698,
          -95.3698,
          -95.3698,
          -95.3698,
          -95.3698,
          -95.3698,
          -95.3698,
          -95.3698,
          -95.3698,
          -95.3698,
          -95.3698,
          -95.3698,
          -95.3698,
          -95.3698,
          -86.1581,
          -86.1581,
          -86.1581,
          -86.1581,
          -86.1581,
          -86.1581,
          -86.1581,
          -86.1581,
          -86.1581,
          -86.1581,
          -86.1581,
          -86.1581,
          -86.1581,
          -86.1581,
          -86.1581,
          -86.1581,
          -86.1581,
          -86.1581,
          -86.1581,
          -86.1581,
          -86.1581,
          -86.1581,
          -86.1581,
          -86.1581,
          -86.1581,
          -86.1581,
          -81.6557,
          -81.6557,
          -81.6557,
          -81.6557,
          -81.6557,
          -81.6557,
          -81.6557,
          -81.6557,
          -81.6557,
          -81.6557,
          -81.6557,
          -81.6557,
          -81.6557,
          -81.6557,
          -81.6557,
          -81.6557,
          -81.6557,
          -81.6557,
          -81.6557,
          -81.6557,
          -81.6557,
          -81.6557,
          -81.6557,
          -81.6557,
          -81.6557,
          -81.6557,
          -94.5786,
          -94.5786,
          -94.5786,
          -94.5786,
          -94.5786,
          -94.5786,
          -94.5786,
          -94.5786,
          -94.5786,
          -94.5786,
          -94.5786,
          -94.5786,
          -94.5786,
          -94.5786,
          -94.5786,
          -94.5786,
          -94.5786,
          -94.5786,
          -94.5786,
          -94.5786,
          -94.5786,
          -94.5786,
          -94.5786,
          -94.5786,
          -94.5786,
          -94.5786,
          -118.3411,
          -118.3411,
          -118.3411,
          -118.3411,
          -118.3411,
          -118.3411,
          -118.3411,
          -118.3411,
          -118.3411,
          -118.3411,
          -118.3411,
          -118.3411,
          -118.3411,
          -118.3411,
          -118.3411,
          -118.3411,
          -118.3411,
          -118.3411,
          -118.3411,
          -118.3411,
          -118.3411,
          -118.3411,
          -118.3411,
          -118.3411,
          -118.3411,
          -118.3411,
          -118.3414,
          -118.3414,
          -118.3414,
          -118.3414,
          -118.3414,
          -118.3414,
          -118.3414,
          -118.3414,
          -118.3414,
          -118.3414,
          -118.3414,
          -118.3414,
          -118.3414,
          -118.3414,
          -118.3414,
          -118.3414,
          -118.3414,
          -118.3414,
          -118.3414,
          -118.3414,
          -118.3414,
          -118.3414,
          -118.3414,
          -118.3414,
          -118.3414,
          -118.3414,
          -115.1537,
          -115.1537,
          -115.1537,
          -115.1537,
          -115.1537,
          -115.1537,
          -115.1537,
          -115.1537,
          -115.1537,
          -115.1537,
          -115.1537,
          -115.1537,
          -115.1537,
          -115.1537,
          -115.1537,
          -115.1537,
          -115.1537,
          -115.1537,
          -115.1537,
          -115.1537,
          -115.1537,
          -115.1537,
          -115.1537,
          -115.1537,
          -115.1537,
          -115.1537,
          -80.2382,
          -80.2382,
          -80.2382,
          -80.2382,
          -80.2382,
          -80.2382,
          -80.2382,
          -80.2382,
          -80.2382,
          -80.2382,
          -80.2382,
          -80.2382,
          -80.2382,
          -80.2382,
          -80.2382,
          -80.2382,
          -80.2382,
          -80.2382,
          -80.2382,
          -80.2382,
          -80.2382,
          -80.2382,
          -80.2382,
          -80.2382,
          -80.2382,
          -80.2382,
          -93.265,
          -93.265,
          -93.265,
          -93.265,
          -93.265,
          -93.265,
          -93.265,
          -93.265,
          -93.265,
          -93.265,
          -93.265,
          -93.265,
          -93.265,
          -93.265,
          -93.265,
          -93.265,
          -93.265,
          -93.265,
          -93.265,
          -93.265,
          -93.265,
          -93.265,
          -93.265,
          -93.265,
          -93.265,
          -93.265,
          -71.2482,
          -71.2482,
          -71.2482,
          -71.2482,
          -71.2482,
          -71.2482,
          -71.2482,
          -71.2482,
          -71.2482,
          -71.2482,
          -71.2482,
          -71.2482,
          -71.2482,
          -71.2482,
          -71.2482,
          -71.2482,
          -71.2482,
          -71.2482,
          -71.2482,
          -71.2482,
          -71.2482,
          -71.2482,
          -71.2482,
          -71.2482,
          -71.2482,
          -71.2482,
          -90.0715,
          -90.0715,
          -90.0715,
          -90.0715,
          -90.0715,
          -90.0715,
          -90.0715,
          -90.0715,
          -90.0715,
          -90.0715,
          -90.0715,
          -90.0715,
          -90.0715,
          -90.0715,
          -90.0715,
          -90.0715,
          -90.0715,
          -90.0715,
          -90.0715,
          -90.0715,
          -90.0715,
          -90.0715,
          -90.0715,
          -90.0715,
          -90.0715,
          -90.0715,
          -74.0742,
          -74.0742,
          -74.0742,
          -74.0742,
          -74.0742,
          -74.0742,
          -74.0742,
          -74.0742,
          -74.0742,
          -74.0742,
          -74.0742,
          -74.0742,
          -74.0742,
          -74.0742,
          -74.0742,
          -74.0742,
          -74.0742,
          -74.0742,
          -74.0742,
          -74.0742,
          -74.0742,
          -74.0742,
          -74.0742,
          -74.0742,
          -74.0742,
          -74.0742,
          -74.0738,
          -74.0738,
          -74.0738,
          -74.0738,
          -74.0738,
          -74.0738,
          -74.0738,
          -74.0738,
          -74.0738,
          -74.0738,
          -74.0738,
          -74.0738,
          -74.0738,
          -74.0738,
          -74.0738,
          -74.0738,
          -74.0738,
          -74.0738,
          -74.0738,
          -74.0738,
          -74.0738,
          -74.0738,
          -74.0738,
          -74.0738,
          -74.0738,
          -74.0738,
          -75.1652,
          -75.1652,
          -75.1652,
          -75.1652,
          -75.1652,
          -75.1652,
          -75.1652,
          -75.1652,
          -75.1652,
          -75.1652,
          -75.1652,
          -75.1652,
          -75.1652,
          -75.1652,
          -75.1652,
          -75.1652,
          -75.1652,
          -75.1652,
          -75.1652,
          -75.1652,
          -75.1652,
          -75.1652,
          -75.1652,
          -75.1652,
          -75.1652,
          -75.1652,
          -79.9959,
          -79.9959,
          -79.9959,
          -79.9959,
          -79.9959,
          -79.9959,
          -79.9959,
          -79.9959,
          -79.9959,
          -79.9959,
          -79.9959,
          -79.9959,
          -79.9959,
          -79.9959,
          -79.9959,
          -79.9959,
          -79.9959,
          -79.9959,
          -79.9959,
          -79.9959,
          -79.9959,
          -79.9959,
          -79.9959,
          -79.9959,
          -79.9959,
          -79.9959,
          -122.3321,
          -122.3321,
          -122.3321,
          -122.3321,
          -122.3321,
          -122.3321,
          -122.3321,
          -122.3321,
          -122.3321,
          -122.3321,
          -122.3321,
          -122.3321,
          -122.3321,
          -122.3321,
          -122.3321,
          -122.3321,
          -122.3321,
          -122.3321,
          -122.3321,
          -122.3321,
          -122.3321,
          -122.3321,
          -122.3321,
          -122.3321,
          -122.3321,
          -122.3321,
          -121.9714,
          -121.9714,
          -121.9714,
          -121.9714,
          -121.9714,
          -121.9714,
          -121.9714,
          -121.9714,
          -121.9714,
          -121.9714,
          -121.9714,
          -121.9714,
          -121.9714,
          -121.9714,
          -121.9714,
          -121.9714,
          -121.9714,
          -121.9714,
          -121.9714,
          -121.9714,
          -121.9714,
          -121.9714,
          -121.9714,
          -121.9714,
          -121.9714,
          -121.9714,
          -82.4572,
          -82.4572,
          -82.4572,
          -82.4572,
          -82.4572,
          -82.4572,
          -82.4572,
          -82.4572,
          -82.4572,
          -82.4572,
          -82.4572,
          -82.4572,
          -82.4572,
          -82.4572,
          -82.4572,
          -82.4572,
          -82.4572,
          -82.4572,
          -82.4572,
          -82.4572,
          -82.4572,
          -82.4572,
          -82.4572,
          -82.4572,
          -82.4572,
          -82.4572,
          -86.7816,
          -86.7816,
          -86.7816,
          -86.7816,
          -86.7816,
          -86.7816,
          -86.7816,
          -86.7816,
          -86.7816,
          -86.7816,
          -86.7816,
          -86.7816,
          -86.7816,
          -86.7816,
          -86.7816,
          -86.7816,
          -86.7816,
          -86.7816,
          -86.7816,
          -86.7816,
          -86.7816,
          -86.7816,
          -86.7816,
          -86.7816,
          -86.7816,
          -86.7816,
          -76.8642,
          -76.8642,
          -76.8642,
          -76.8642,
          -76.8642,
          -76.8642,
          -76.8642,
          -76.8642,
          -76.8642,
          -76.8642,
          -76.8642,
          -76.8642,
          -76.8642,
          -76.8642,
          -76.8642,
          -76.8642,
          -76.8642,
          -76.8642,
          -76.8642,
          -76.8642,
          -76.8642,
          -76.8642,
          -76.8642,
          -76.8642,
          -76.8642,
          -76.8642
         ],
         "marker": {
          "color": "#636efa"
         },
         "mode": "markers",
         "name": "",
         "showlegend": false,
         "subplot": "map",
         "type": "scattermap"
        }
       ],
       "layout": {
        "legend": {
         "tracegroupgap": 0
        },
        "map": {
         "center": {
          "lat": 37.60141978287093,
          "lon": -90.54504680337756
         },
         "domain": {
          "x": [
           0,
           1
          ],
          "y": [
           0,
           1
          ]
         },
         "zoom": 2.25
        },
        "mapbox": {
         "center": {
          "lat": 37.60141978287093,
          "lon": -90.54504680337756
         },
         "zoom": 2.25
        },
        "margin": {
         "t": 60
        },
        "template": {
         "data": {
          "bar": [
           {
            "error_x": {
             "color": "#2a3f5f"
            },
            "error_y": {
             "color": "#2a3f5f"
            },
            "marker": {
             "line": {
              "color": "#E5ECF6",
              "width": 0.5
             },
             "pattern": {
              "fillmode": "overlay",
              "size": 10,
              "solidity": 0.2
             }
            },
            "type": "bar"
           }
          ],
          "barpolar": [
           {
            "marker": {
             "line": {
              "color": "#E5ECF6",
              "width": 0.5
             },
             "pattern": {
              "fillmode": "overlay",
              "size": 10,
              "solidity": 0.2
             }
            },
            "type": "barpolar"
           }
          ],
          "carpet": [
           {
            "aaxis": {
             "endlinecolor": "#2a3f5f",
             "gridcolor": "white",
             "linecolor": "white",
             "minorgridcolor": "white",
             "startlinecolor": "#2a3f5f"
            },
            "baxis": {
             "endlinecolor": "#2a3f5f",
             "gridcolor": "white",
             "linecolor": "white",
             "minorgridcolor": "white",
             "startlinecolor": "#2a3f5f"
            },
            "type": "carpet"
           }
          ],
          "choropleth": [
           {
            "colorbar": {
             "outlinewidth": 0,
             "ticks": ""
            },
            "type": "choropleth"
           }
          ],
          "contour": [
           {
            "colorbar": {
             "outlinewidth": 0,
             "ticks": ""
            },
            "colorscale": [
             [
              0,
              "#0d0887"
             ],
             [
              0.1111111111111111,
              "#46039f"
             ],
             [
              0.2222222222222222,
              "#7201a8"
             ],
             [
              0.3333333333333333,
              "#9c179e"
             ],
             [
              0.4444444444444444,
              "#bd3786"
             ],
             [
              0.5555555555555556,
              "#d8576b"
             ],
             [
              0.6666666666666666,
              "#ed7953"
             ],
             [
              0.7777777777777778,
              "#fb9f3a"
             ],
             [
              0.8888888888888888,
              "#fdca26"
             ],
             [
              1,
              "#f0f921"
             ]
            ],
            "type": "contour"
           }
          ],
          "contourcarpet": [
           {
            "colorbar": {
             "outlinewidth": 0,
             "ticks": ""
            },
            "type": "contourcarpet"
           }
          ],
          "heatmap": [
           {
            "colorbar": {
             "outlinewidth": 0,
             "ticks": ""
            },
            "colorscale": [
             [
              0,
              "#0d0887"
             ],
             [
              0.1111111111111111,
              "#46039f"
             ],
             [
              0.2222222222222222,
              "#7201a8"
             ],
             [
              0.3333333333333333,
              "#9c179e"
             ],
             [
              0.4444444444444444,
              "#bd3786"
             ],
             [
              0.5555555555555556,
              "#d8576b"
             ],
             [
              0.6666666666666666,
              "#ed7953"
             ],
             [
              0.7777777777777778,
              "#fb9f3a"
             ],
             [
              0.8888888888888888,
              "#fdca26"
             ],
             [
              1,
              "#f0f921"
             ]
            ],
            "type": "heatmap"
           }
          ],
          "heatmapgl": [
           {
            "colorbar": {
             "outlinewidth": 0,
             "ticks": ""
            },
            "colorscale": [
             [
              0,
              "#0d0887"
             ],
             [
              0.1111111111111111,
              "#46039f"
             ],
             [
              0.2222222222222222,
              "#7201a8"
             ],
             [
              0.3333333333333333,
              "#9c179e"
             ],
             [
              0.4444444444444444,
              "#bd3786"
             ],
             [
              0.5555555555555556,
              "#d8576b"
             ],
             [
              0.6666666666666666,
              "#ed7953"
             ],
             [
              0.7777777777777778,
              "#fb9f3a"
             ],
             [
              0.8888888888888888,
              "#fdca26"
             ],
             [
              1,
              "#f0f921"
             ]
            ],
            "type": "heatmapgl"
           }
          ],
          "histogram": [
           {
            "marker": {
             "pattern": {
              "fillmode": "overlay",
              "size": 10,
              "solidity": 0.2
             }
            },
            "type": "histogram"
           }
          ],
          "histogram2d": [
           {
            "colorbar": {
             "outlinewidth": 0,
             "ticks": ""
            },
            "colorscale": [
             [
              0,
              "#0d0887"
             ],
             [
              0.1111111111111111,
              "#46039f"
             ],
             [
              0.2222222222222222,
              "#7201a8"
             ],
             [
              0.3333333333333333,
              "#9c179e"
             ],
             [
              0.4444444444444444,
              "#bd3786"
             ],
             [
              0.5555555555555556,
              "#d8576b"
             ],
             [
              0.6666666666666666,
              "#ed7953"
             ],
             [
              0.7777777777777778,
              "#fb9f3a"
             ],
             [
              0.8888888888888888,
              "#fdca26"
             ],
             [
              1,
              "#f0f921"
             ]
            ],
            "type": "histogram2d"
           }
          ],
          "histogram2dcontour": [
           {
            "colorbar": {
             "outlinewidth": 0,
             "ticks": ""
            },
            "colorscale": [
             [
              0,
              "#0d0887"
             ],
             [
              0.1111111111111111,
              "#46039f"
             ],
             [
              0.2222222222222222,
              "#7201a8"
             ],
             [
              0.3333333333333333,
              "#9c179e"
             ],
             [
              0.4444444444444444,
              "#bd3786"
             ],
             [
              0.5555555555555556,
              "#d8576b"
             ],
             [
              0.6666666666666666,
              "#ed7953"
             ],
             [
              0.7777777777777778,
              "#fb9f3a"
             ],
             [
              0.8888888888888888,
              "#fdca26"
             ],
             [
              1,
              "#f0f921"
             ]
            ],
            "type": "histogram2dcontour"
           }
          ],
          "mesh3d": [
           {
            "colorbar": {
             "outlinewidth": 0,
             "ticks": ""
            },
            "type": "mesh3d"
           }
          ],
          "parcoords": [
           {
            "line": {
             "colorbar": {
              "outlinewidth": 0,
              "ticks": ""
             }
            },
            "type": "parcoords"
           }
          ],
          "pie": [
           {
            "automargin": true,
            "type": "pie"
           }
          ],
          "scatter": [
           {
            "fillpattern": {
             "fillmode": "overlay",
             "size": 10,
             "solidity": 0.2
            },
            "type": "scatter"
           }
          ],
          "scatter3d": [
           {
            "line": {
             "colorbar": {
              "outlinewidth": 0,
              "ticks": ""
             }
            },
            "marker": {
             "colorbar": {
              "outlinewidth": 0,
              "ticks": ""
             }
            },
            "type": "scatter3d"
           }
          ],
          "scattercarpet": [
           {
            "marker": {
             "colorbar": {
              "outlinewidth": 0,
              "ticks": ""
             }
            },
            "type": "scattercarpet"
           }
          ],
          "scattergeo": [
           {
            "marker": {
             "colorbar": {
              "outlinewidth": 0,
              "ticks": ""
             }
            },
            "type": "scattergeo"
           }
          ],
          "scattergl": [
           {
            "marker": {
             "colorbar": {
              "outlinewidth": 0,
              "ticks": ""
             }
            },
            "type": "scattergl"
           }
          ],
          "scattermapbox": [
           {
            "marker": {
             "colorbar": {
              "outlinewidth": 0,
              "ticks": ""
             }
            },
            "type": "scattermapbox"
           }
          ],
          "scatterpolar": [
           {
            "marker": {
             "colorbar": {
              "outlinewidth": 0,
              "ticks": ""
             }
            },
            "type": "scatterpolar"
           }
          ],
          "scatterpolargl": [
           {
            "marker": {
             "colorbar": {
              "outlinewidth": 0,
              "ticks": ""
             }
            },
            "type": "scatterpolargl"
           }
          ],
          "scatterternary": [
           {
            "marker": {
             "colorbar": {
              "outlinewidth": 0,
              "ticks": ""
             }
            },
            "type": "scatterternary"
           }
          ],
          "surface": [
           {
            "colorbar": {
             "outlinewidth": 0,
             "ticks": ""
            },
            "colorscale": [
             [
              0,
              "#0d0887"
             ],
             [
              0.1111111111111111,
              "#46039f"
             ],
             [
              0.2222222222222222,
              "#7201a8"
             ],
             [
              0.3333333333333333,
              "#9c179e"
             ],
             [
              0.4444444444444444,
              "#bd3786"
             ],
             [
              0.5555555555555556,
              "#d8576b"
             ],
             [
              0.6666666666666666,
              "#ed7953"
             ],
             [
              0.7777777777777778,
              "#fb9f3a"
             ],
             [
              0.8888888888888888,
              "#fdca26"
             ],
             [
              1,
              "#f0f921"
             ]
            ],
            "type": "surface"
           }
          ],
          "table": [
           {
            "cells": {
             "fill": {
              "color": "#EBF0F8"
             },
             "line": {
              "color": "white"
             }
            },
            "header": {
             "fill": {
              "color": "#C8D4E3"
             },
             "line": {
              "color": "white"
             }
            },
            "type": "table"
           }
          ]
         },
         "layout": {
          "annotationdefaults": {
           "arrowcolor": "#2a3f5f",
           "arrowhead": 0,
           "arrowwidth": 1
          },
          "autotypenumbers": "strict",
          "coloraxis": {
           "colorbar": {
            "outlinewidth": 0,
            "ticks": ""
           }
          },
          "colorscale": {
           "diverging": [
            [
             0,
             "#8e0152"
            ],
            [
             0.1,
             "#c51b7d"
            ],
            [
             0.2,
             "#de77ae"
            ],
            [
             0.3,
             "#f1b6da"
            ],
            [
             0.4,
             "#fde0ef"
            ],
            [
             0.5,
             "#f7f7f7"
            ],
            [
             0.6,
             "#e6f5d0"
            ],
            [
             0.7,
             "#b8e186"
            ],
            [
             0.8,
             "#7fbc41"
            ],
            [
             0.9,
             "#4d9221"
            ],
            [
             1,
             "#276419"
            ]
           ],
           "sequential": [
            [
             0,
             "#0d0887"
            ],
            [
             0.1111111111111111,
             "#46039f"
            ],
            [
             0.2222222222222222,
             "#7201a8"
            ],
            [
             0.3333333333333333,
             "#9c179e"
            ],
            [
             0.4444444444444444,
             "#bd3786"
            ],
            [
             0.5555555555555556,
             "#d8576b"
            ],
            [
             0.6666666666666666,
             "#ed7953"
            ],
            [
             0.7777777777777778,
             "#fb9f3a"
            ],
            [
             0.8888888888888888,
             "#fdca26"
            ],
            [
             1,
             "#f0f921"
            ]
           ],
           "sequentialminus": [
            [
             0,
             "#0d0887"
            ],
            [
             0.1111111111111111,
             "#46039f"
            ],
            [
             0.2222222222222222,
             "#7201a8"
            ],
            [
             0.3333333333333333,
             "#9c179e"
            ],
            [
             0.4444444444444444,
             "#bd3786"
            ],
            [
             0.5555555555555556,
             "#d8576b"
            ],
            [
             0.6666666666666666,
             "#ed7953"
            ],
            [
             0.7777777777777778,
             "#fb9f3a"
            ],
            [
             0.8888888888888888,
             "#fdca26"
            ],
            [
             1,
             "#f0f921"
            ]
           ]
          },
          "colorway": [
           "#636efa",
           "#EF553B",
           "#00cc96",
           "#ab63fa",
           "#FFA15A",
           "#19d3f3",
           "#FF6692",
           "#B6E880",
           "#FF97FF",
           "#FECB52"
          ],
          "font": {
           "color": "#2a3f5f"
          },
          "geo": {
           "bgcolor": "white",
           "lakecolor": "white",
           "landcolor": "#E5ECF6",
           "showlakes": true,
           "showland": true,
           "subunitcolor": "white"
          },
          "hoverlabel": {
           "align": "left"
          },
          "hovermode": "closest",
          "mapbox": {
           "style": "light"
          },
          "paper_bgcolor": "white",
          "plot_bgcolor": "#E5ECF6",
          "polar": {
           "angularaxis": {
            "gridcolor": "white",
            "linecolor": "white",
            "ticks": ""
           },
           "bgcolor": "#E5ECF6",
           "radialaxis": {
            "gridcolor": "white",
            "linecolor": "white",
            "ticks": ""
           }
          },
          "scene": {
           "xaxis": {
            "backgroundcolor": "#E5ECF6",
            "gridcolor": "white",
            "gridwidth": 2,
            "linecolor": "white",
            "showbackground": true,
            "ticks": "",
            "zerolinecolor": "white"
           },
           "yaxis": {
            "backgroundcolor": "#E5ECF6",
            "gridcolor": "white",
            "gridwidth": 2,
            "linecolor": "white",
            "showbackground": true,
            "ticks": "",
            "zerolinecolor": "white"
           },
           "zaxis": {
            "backgroundcolor": "#E5ECF6",
            "gridcolor": "white",
            "gridwidth": 2,
            "linecolor": "white",
            "showbackground": true,
            "ticks": "",
            "zerolinecolor": "white"
           }
          },
          "shapedefaults": {
           "line": {
            "color": "#2a3f5f"
           }
          },
          "ternary": {
           "aaxis": {
            "gridcolor": "white",
            "linecolor": "white",
            "ticks": ""
           },
           "baxis": {
            "gridcolor": "white",
            "linecolor": "white",
            "ticks": ""
           },
           "bgcolor": "#E5ECF6",
           "caxis": {
            "gridcolor": "white",
            "linecolor": "white",
            "ticks": ""
           }
          },
          "title": {
           "x": 0.05
          },
          "xaxis": {
           "automargin": true,
           "gridcolor": "white",
           "linecolor": "white",
           "ticks": "",
           "title": {
            "standoff": 15
           },
           "zerolinecolor": "white",
           "zerolinewidth": 2
          },
          "yaxis": {
           "automargin": true,
           "gridcolor": "white",
           "linecolor": "white",
           "ticks": "",
           "title": {
            "standoff": 15
           },
           "zerolinecolor": "white",
           "zerolinewidth": 2
          }
         }
        }
       }
      },
      "image/png": "[encoded data removed]",
      "text/html": [
       "<div>                            <div id=\"954353bf-f0ad-4dd3-b3b1-91c01ae44231\" class=\"plotly-graph-div\" style=\"height:525px; width:100%;\"></div>            <script type=\"text/javascript\">                require([\"plotly\"], function(Plotly) {                    window.PLOTLYENV=window.PLOTLYENV || {};                                    if (document.getElementById(\"954353bf-f0ad-4dd3-b3b1-91c01ae44231\")) {                    Plotly.newPlot(                        \"954353bf-f0ad-4dd3-b3b1-91c01ae44231\",                        [{\"customdata\":[[\"ARI\",\"Arizona Cardinals\",3078.0,1999],[\"ARI\",\"Arizona Cardinals\",3384.0,2000],[\"ARI\",\"Arizona Cardinals\",3653.0,2001],[\"ARI\",\"Arizona Cardinals\",3038.0,2002],[\"ARI\",\"Arizona Cardinals\",3270.0,2003],[\"ARI\",\"Arizona Cardinals\",3202.0,2004],[\"ARI\",\"Arizona Cardinals\",4719.0,2005],[\"ARI\",\"Arizona Cardinals\",3919.0,2006],[\"ARI\",\"Arizona Cardinals\",4220.0,2007],[\"ARI\",\"Arizona Cardinals\",6021.0,2008],[\"ARI\",\"Arizona Cardinals\",4850.0,2009],[\"ARI\",\"Arizona Cardinals\",3264.0,2010],[\"ARI\",\"Arizona Cardinals\",3954.0,2011],[\"ARI\",\"Arizona Cardinals\",3383.0,2012],[\"ARI\",\"Arizona Cardinals\",4291.0,2013],[\"ARI\",\"Arizona Cardinals\",4072.0,2014],[\"ARI\",\"Arizona Cardinals\",5359.0,2015],[\"ARI\",\"Arizona Cardinals\",4425.0,2016],[\"ARI\",\"Arizona Cardinals\",3979.0,2017],[\"ARI\",\"Arizona Cardinals\",2884.0,2018],[\"ARI\",\"Arizona Cardinals\",3827.0,2019],[\"ARI\",\"Arizona Cardinals\",4102.0,2020],[\"ARI\",\"Arizona Cardinals\",4756.0,2021],[\"ARI\",\"Arizona Cardinals\",3966.0,2022],[\"ARI\",\"Arizona Cardinals\",3430.0,2023],[\"ARI\",\"Arizona Cardinals\",2058.0,2024],[\"ATL\",\"Atlanta Falcons\",3662.0,1999],[\"ATL\",\"Atlanta Falcons\",3139.0,2000],[\"ATL\",\"Atlanta Falcons\",3695.0,2001],[\"ATL\",\"Atlanta Falcons\",3789.0,2002],[\"ATL\",\"Atlanta Falcons\",2631.0,2003],[\"ATL\",\"Atlanta Falcons\",2911.0,2004],[\"ATL\",\"Atlanta Falcons\",2907.0,2005],[\"ATL\",\"Atlanta Falcons\",2682.0,2006],[\"ATL\",\"Atlanta Falcons\",3573.0,2007],[\"ATL\",\"Atlanta Falcons\",3639.0,2008],[\"ATL\",\"Atlanta Falcons\",3697.0,2009],[\"ATL\",\"Atlanta Falcons\",3911.0,2010],[\"ATL\",\"Atlanta Falcons\",4564.0,2011],[\"ATL\",\"Atlanta Falcons\",5365.0,2012],[\"ATL\",\"Atlanta Falcons\",4549.0,2013],[\"ATL\",\"Atlanta Falcons\",4758.0,2014],[\"ATL\",\"Atlanta Falcons\",4602.0,2015],[\"ATL\",\"Atlanta Falcons\",5974.0,2016],[\"ATL\",\"Atlanta Falcons\",4574.0,2017],[\"ATL\",\"Atlanta Falcons\",4949.0,2018],[\"ATL\",\"Atlanta Falcons\",5049.0,2019],[\"ATL\",\"Atlanta Falcons\",4620.0,2020],[\"ATL\",\"Atlanta Falcons\",3987.0,2021],[\"ATL\",\"Atlanta Falcons\",2927.0,2022],[\"ATL\",\"Atlanta Falcons\",3775.0,2023],[\"ATL\",\"Atlanta Falcons\",2845.0,2024],[\"BAL\",\"Baltimore Ravens\",3116.0,1999],[\"BAL\",\"Baltimore Ravens\",3643.0,2000],[\"BAL\",\"Baltimore Ravens\",3881.0,2001],[\"BAL\",\"Baltimore Ravens\",3118.0,2002],[\"BAL\",\"Baltimore Ravens\",2731.0,2003],[\"BAL\",\"Baltimore Ravens\",2559.0,2004],[\"BAL\",\"Baltimore Ravens\",3381.0,2005],[\"BAL\",\"Baltimore Ravens\",3708.0,2006],[\"BAL\",\"Baltimore Ravens\",3308.0,2007],[\"BAL\",\"Baltimore Ravens\",3522.0,2008],[\"BAL\",\"Baltimore Ravens\",3860.0,2009],[\"BAL\",\"Baltimore Ravens\",4019.0,2010],[\"BAL\",\"Baltimore Ravens\",4111.0,2011],[\"BAL\",\"Baltimore Ravens\",5136.0,2012],[\"BAL\",\"Baltimore Ravens\",3914.0,2013],[\"BAL\",\"Baltimore Ravens\",4537.0,2014],[\"BAL\",\"Baltimore Ravens\",4449.0,2015],[\"BAL\",\"Baltimore Ravens\",4343.0,2016],[\"BAL\",\"Baltimore Ravens\",3235.0,2017],[\"BAL\",\"Baltimore Ravens\",3902.0,2018],[\"BAL\",\"Baltimore Ravens\",3715.0,2019],[\"BAL\",\"Baltimore Ravens\",3320.0,2020],[\"BAL\",\"Baltimore Ravens\",4267.0,2021],[\"BAL\",\"Baltimore Ravens\",3428.0,2022],[\"BAL\",\"Baltimore Ravens\",4305.0,2023],[\"BAL\",\"Baltimore Ravens\",2877.0,2024],[\"BUF\",\"Buffalo Bills\",3583.0,1999],[\"BUF\",\"Buffalo Bills\",3678.0,2000],[\"BUF\",\"Buffalo Bills\",3722.0,2001],[\"BUF\",\"Buffalo Bills\",4364.0,2002],[\"BUF\",\"Buffalo Bills\",3069.0,2003],[\"BUF\",\"Buffalo Bills\",3032.0,2004],[\"BUF\",\"Buffalo Bills\",2852.0,2005],[\"BUF\",\"Buffalo Bills\",3050.0,2006],[\"BUF\",\"Buffalo Bills\",2842.0,2007],[\"BUF\",\"Buffalo Bills\",3302.0,2008],[\"BUF\",\"Buffalo Bills\",2789.0,2009],[\"BUF\",\"Buffalo Bills\",3363.0,2010],[\"BUF\",\"Buffalo Bills\",3857.0,2011],[\"BUF\",\"Buffalo Bills\",3430.0,2012],[\"BUF\",\"Buffalo Bills\",3373.0,2013],[\"BUF\",\"Buffalo Bills\",3856.0,2014],[\"BUF\",\"Buffalo Bills\",3600.0,2015],[\"BUF\",\"Buffalo Bills\",3250.0,2016],[\"BUF\",\"Buffalo Bills\",3213.0,2017],[\"BUF\",\"Buffalo Bills\",3052.0,2018],[\"BUF\",\"Buffalo Bills\",3756.0,2019],[\"BUF\",\"Buffalo Bills\",5603.0,2020],[\"BUF\",\"Buffalo Bills\",5087.0,2021],[\"BUF\",\"Buffalo Bills\",4907.0,2022],[\"BUF\",\"Buffalo Bills\",4695.0,2023],[\"BUF\",\"Buffalo Bills\",2548.0,2024],[\"CAR\",\"Carolina Panthers\",4424.0,1999],[\"CAR\",\"Carolina Panthers\",3811.0,2000],[\"CAR\",\"Carolina Panthers\",3098.0,2001],[\"CAR\",\"Carolina Panthers\",2981.0,2002],[\"CAR\",\"Carolina Panthers\",4225.0,2003],[\"CAR\",\"Carolina Panthers\",3889.0,2004],[\"CAR\",\"Carolina Panthers\",4140.0,2005],[\"CAR\",\"Carolina Panthers\",3486.0,2006],[\"CAR\",\"Carolina Panthers\",2918.0,2007],[\"CAR\",\"Carolina Panthers\",3489.0,2008],[\"CAR\",\"Carolina Panthers\",3070.0,2009],[\"CAR\",\"Carolina Panthers\",2635.0,2010],[\"CAR\",\"Carolina Panthers\",4089.0,2011],[\"CAR\",\"Carolina Panthers\",3927.0,2012],[\"CAR\",\"Carolina Panthers\",3646.0,2013],[\"CAR\",\"Carolina Panthers\",4272.0,2014],[\"CAR\",\"Carolina Panthers\",4634.0,2015],[\"CAR\",\"Carolina Panthers\",3962.0,2016],[\"CAR\",\"Carolina Panthers\",3668.0,2017],[\"CAR\",\"Carolina Panthers\",4071.0,2018],[\"CAR\",\"Carolina Panthers\",4134.0,2019],[\"CAR\",\"Carolina Panthers\",4129.0,2020],[\"CAR\",\"Carolina Panthers\",3573.0,2021],[\"CAR\",\"Carolina Panthers\",3246.0,2022],[\"CAR\",\"Carolina Panthers\",3245.0,2023],[\"CAR\",\"Carolina Panthers\",1809.0,2024],[\"CHI\",\"Chicago Bears\",4306.0,1999],[\"CHI\",\"Chicago Bears\",2973.0,2000],[\"CHI\",\"Chicago Bears\",3161.0,2001],[\"CHI\",\"Chicago Bears\",3316.0,2002],[\"CHI\",\"Chicago Bears\",2905.0,2003],[\"CHI\",\"Chicago Bears\",2641.0,2004],[\"CHI\",\"Chicago Bears\",2393.0,2005],[\"CHI\",\"Chicago Bears\",4041.0,2006],[\"CHI\",\"Chicago Bears\",3698.0,2007],[\"CHI\",\"Chicago Bears\",3236.0,2008],[\"CHI\",\"Chicago Bears\",3677.0,2009],[\"CHI\",\"Chicago Bears\",3904.0,2010],[\"CHI\",\"Chicago Bears\",3346.0,2011],[\"CHI\",\"Chicago Bears\",3298.0,2012],[\"CHI\",\"Chicago Bears\",4450.0,2013],[\"CHI\",\"Chicago Bears\",4035.0,2014],[\"CHI\",\"Chicago Bears\",3843.0,2015],[\"CHI\",\"Chicago Bears\",4139.0,2016],[\"CHI\",\"Chicago Bears\",3085.0,2017],[\"CHI\",\"Chicago Bears\",4050.0,2018],[\"CHI\",\"Chicago Bears\",3573.0,2019],[\"CHI\",\"Chicago Bears\",4124.0,2020],[\"CHI\",\"Chicago Bears\",3635.0,2021],[\"CHI\",\"Chicago Bears\",2598.0,2022],[\"CHI\",\"Chicago Bears\",3421.0,2023],[\"CHI\",\"Chicago Bears\",2016.0,2024],[\"CIN\",\"Cincinnati Bengals\",3452.0,1999],[\"CIN\",\"Cincinnati Bengals\",2212.0,2000],[\"CIN\",\"Cincinnati Bengals\",3291.0,2001],[\"CIN\",\"Cincinnati Bengals\",3732.0,2002],[\"CIN\",\"Cincinnati Bengals\",3605.0,2003],[\"CIN\",\"Cincinnati Bengals\",3520.0,2004],[\"CIN\",\"Cincinnati Bengals\",4198.0,2005],[\"CIN\",\"Cincinnati Bengals\",4067.0,2006],[\"CIN\",\"Cincinnati Bengals\",4130.0,2007],[\"CIN\",\"Cincinnati Bengals\",2682.0,2008],[\"CIN\",\"Cincinnati Bengals\",3280.0,2009],[\"CIN\",\"Cincinnati Bengals\",3988.0,2010],[\"CIN\",\"Cincinnati Bengals\",3764.0,2011],[\"CIN\",\"Cincinnati Bengals\",3934.0,2012],[\"CIN\",\"Cincinnati Bengals\",4652.0,2013],[\"CIN\",\"Cincinnati Bengals\",3706.0,2014],[\"CIN\",\"Cincinnati Bengals\",4316.0,2015],[\"CIN\",\"Cincinnati Bengals\",4206.0,2016],[\"CIN\",\"Cincinnati Bengals\",3386.0,2017],[\"CIN\",\"Cincinnati Bengals\",3569.0,2018],[\"CIN\",\"Cincinnati Bengals\",3994.0,2019],[\"CIN\",\"Cincinnati Bengals\",3793.0,2020],[\"CIN\",\"Cincinnati Bengals\",5917.0,2021],[\"CIN\",\"Cincinnati Bengals\",5241.0,2022],[\"CIN\",\"Cincinnati Bengals\",4257.0,2023],[\"CIN\",\"Cincinnati Bengals\",3028.0,2024],[\"CLE\",\"Cleveland Browns\",2959.0,1999],[\"CLE\",\"Cleveland Browns\",2712.0,2000],[\"CLE\",\"Cleveland Browns\",3154.0,2001],[\"CLE\",\"Cleveland Browns\",4094.0,2002],[\"CLE\",\"Cleveland Browns\",3116.0,2003],[\"CLE\",\"Cleveland Browns\",3076.0,2004],[\"CLE\",\"Cleveland Browns\",3323.0,2005],[\"CLE\",\"Cleveland Browns\",3242.0,2006],[\"CLE\",\"Cleveland Browns\",3865.0,2007],[\"CLE\",\"Cleveland Browns\",2541.0,2008],[\"CLE\",\"Cleveland Browns\",2255.0,2009],[\"CLE\",\"Cleveland Browns\",3203.0,2010],[\"CLE\",\"Cleveland Browns\",3300.0,2011],[\"CLE\",\"Cleveland Browns\",3668.0,2012],[\"CLE\",\"Cleveland Browns\",4372.0,2013],[\"CLE\",\"Cleveland Browns\",3678.0,2014],[\"CLE\",\"Cleveland Browns\",4156.0,2015],[\"CLE\",\"Cleveland Browns\",3693.0,2016],[\"CLE\",\"Cleveland Browns\",3537.0,2017],[\"CLE\",\"Cleveland Browns\",4261.0,2018],[\"CLE\",\"Cleveland Browns\",3903.0,2019],[\"CLE\",\"Cleveland Browns\",4168.0,2020],[\"CLE\",\"Cleveland Browns\",3619.0,2021],[\"CLE\",\"Cleveland Browns\",3710.0,2022],[\"CLE\",\"Cleveland Browns\",4318.0,2023],[\"CLE\",\"Cleveland Browns\",2496.0,2024],[\"DAL\",\"Dallas Cowboys\",3520.0,1999],[\"DAL\",\"Dallas Cowboys\",2717.0,2000],[\"DAL\",\"Dallas Cowboys\",2408.0,2001],[\"DAL\",\"Dallas Cowboys\",3020.0,2002],[\"DAL\",\"Dallas Cowboys\",3501.0,2003],[\"DAL\",\"Dallas Cowboys\",3636.0,2004],[\"DAL\",\"Dallas Cowboys\",3639.0,2005],[\"DAL\",\"Dallas Cowboys\",4256.0,2006],[\"DAL\",\"Dallas Cowboys\",4491.0,2007],[\"DAL\",\"Dallas Cowboys\",3988.0,2008],[\"DAL\",\"Dallas Cowboys\",4925.0,2009],[\"DAL\",\"Dallas Cowboys\",4208.0,2010],[\"DAL\",\"Dallas Cowboys\",4453.0,2011],[\"DAL\",\"Dallas Cowboys\",4992.0,2012],[\"DAL\",\"Dallas Cowboys\",4226.0,2013],[\"DAL\",\"Dallas Cowboys\",4492.0,2014],[\"DAL\",\"Dallas Cowboys\",3677.0,2015],[\"DAL\",\"Dallas Cowboys\",4101.0,2016],[\"DAL\",\"Dallas Cowboys\",3326.0,2017],[\"DAL\",\"Dallas Cowboys\",4377.0,2018],[\"DAL\",\"Dallas Cowboys\",4902.0,2019],[\"DAL\",\"Dallas Cowboys\",4511.0,2020],[\"DAL\",\"Dallas Cowboys\",5233.0,2021],[\"DAL\",\"Dallas Cowboys\",4422.0,2022],[\"DAL\",\"Dallas Cowboys\",5063.0,2023],[\"DAL\",\"Dallas Cowboys\",2569.0,2024],[\"DEN\",\"Denver Broncos\",3605.0,1999],[\"DEN\",\"Denver Broncos\",4550.0,2000],[\"DEN\",\"Denver Broncos\",3208.0,2001],[\"DEN\",\"Denver Broncos\",4139.0,2002],[\"DEN\",\"Denver Broncos\",3308.0,2003],[\"DEN\",\"Denver Broncos\",4373.0,2004],[\"DEN\",\"Denver Broncos\",3793.0,2005],[\"DEN\",\"Denver Broncos\",2995.0,2006],[\"DEN\",\"Denver Broncos\",3759.0,2007],[\"DEN\",\"Denver Broncos\",4544.0,2008],[\"DEN\",\"Denver Broncos\",3825.0,2009],[\"DEN\",\"Denver Broncos\",4306.0,2010],[\"DEN\",\"Denver Broncos\",3160.0,2011],[\"DEN\",\"Denver Broncos\",4961.0,2012],[\"DEN\",\"Denver Broncos\",6482.0,2013],[\"DEN\",\"Denver Broncos\",4990.0,2014],[\"DEN\",\"Denver Broncos\",4755.0,2015],[\"DEN\",\"Denver Broncos\",3914.0,2016],[\"DEN\",\"Denver Broncos\",3668.0,2017],[\"DEN\",\"Denver Broncos\",3930.0,2018],[\"DEN\",\"Denver Broncos\",3401.0,2019],[\"DEN\",\"Denver Broncos\",3673.0,2020],[\"DEN\",\"Denver Broncos\",3856.0,2021],[\"DEN\",\"Denver Broncos\",4007.0,2022],[\"DEN\",\"Denver Broncos\",3566.0,2023],[\"DEN\",\"Denver Broncos\",2308.0,2024],[\"DET\",\"Detroit Lions\",4270.0,1999],[\"DET\",\"Detroit Lions\",2967.0,2000],[\"DET\",\"Detroit Lions\",3969.0,2001],[\"DET\",\"Detroit Lions\",3168.0,2002],[\"DET\",\"Detroit Lions\",2988.0,2003],[\"DET\",\"Detroit Lions\",3124.0,2004],[\"DET\",\"Detroit Lions\",3021.0,2005],[\"DET\",\"Detroit Lions\",4208.0,2006],[\"DET\",\"Detroit Lions\",4214.0,2007],[\"DET\",\"Detroit Lions\",3299.0,2008],[\"DET\",\"Detroit Lions\",3471.0,2009],[\"DET\",\"Detroit Lions\",4001.0,2010],[\"DET\",\"Detroit Lions\",5513.0,2011],[\"DET\",\"Detroit Lions\",5139.0,2012],[\"DET\",\"Detroit Lions\",4650.0,2013],[\"DET\",\"Detroit Lions\",4607.0,2014],[\"DET\",\"Detroit Lions\",4463.0,2015],[\"DET\",\"Detroit Lions\",4532.0,2016],[\"DET\",\"Detroit Lions\",4470.0,2017],[\"DET\",\"Detroit Lions\",3844.0,2018],[\"DET\",\"Detroit Lions\",4187.0,2019],[\"DET\",\"Detroit Lions\",4397.0,2020],[\"DET\",\"Detroit Lions\",3884.0,2021],[\"DET\",\"Detroit Lions\",4444.0,2022],[\"DET\",\"Detroit Lions\",5443.0,2023],[\"DET\",\"Detroit Lions\",2581.0,2024],[\"GB\",\"Green Bay Packers\",4109.0,1999],[\"GB\",\"Green Bay Packers\",3868.0,2000],[\"GB\",\"Green Bay Packers\",4471.0,2001],[\"GB\",\"Green Bay Packers\",4070.0,2002],[\"GB\",\"Green Bay Packers\",3876.0,2003],[\"GB\",\"Green Bay Packers\",4764.0,2004],[\"GB\",\"Green Bay Packers\",3964.0,2005],[\"GB\",\"Green Bay Packers\",3947.0,2006],[\"GB\",\"Green Bay Packers\",4872.0,2007],[\"GB\",\"Green Bay Packers\",4044.0,2008],[\"GB\",\"Green Bay Packers\",4914.0,2009],[\"GB\",\"Green Bay Packers\",5449.0,2010],[\"GB\",\"Green Bay Packers\",5418.0,2011],[\"GB\",\"Green Bay Packers\",4873.0,2012],[\"GB\",\"Green Bay Packers\",4715.0,2013],[\"GB\",\"Green Bay Packers\",4941.0,2014],[\"GB\",\"Green Bay Packers\",4296.0,2015],[\"GB\",\"Green Bay Packers\",5449.0,2016],[\"GB\",\"Green Bay Packers\",3532.0,2017],[\"GB\",\"Green Bay Packers\",4629.0,2018],[\"GB\",\"Green Bay Packers\",4586.0,2019],[\"GB\",\"Green Bay Packers\",4941.0,2020],[\"GB\",\"Green Bay Packers\",4751.0,2021],[\"GB\",\"Green Bay Packers\",3890.0,2022],[\"GB\",\"Green Bay Packers\",4676.0,2023],[\"GB\",\"Green Bay Packers\",2461.0,2024],[\"HOU\",\"Houston Texans\",2636.0,2002],[\"HOU\",\"Houston Texans\",2841.0,2003],[\"HOU\",\"Houston Texans\",3555.0,2004],[\"HOU\",\"Houston Texans\",2661.0,2005],[\"HOU\",\"Houston Texans\",3030.0,2006],[\"HOU\",\"Houston Texans\",3925.0,2007],[\"HOU\",\"Houston Texans\",4474.0,2008],[\"HOU\",\"Houston Texans\",4803.0,2009],[\"HOU\",\"Houston Texans\",4370.0,2010],[\"HOU\",\"Houston Texans\",4039.0,2011],[\"HOU\",\"Houston Texans\",4651.0,2012],[\"HOU\",\"Houston Texans\",4183.0,2013],[\"HOU\",\"Houston Texans\",3460.0,2014],[\"HOU\",\"Houston Texans\",4215.0,2015],[\"HOU\",\"Houston Texans\",3783.0,2016],[\"HOU\",\"Houston Texans\",3644.0,2017],[\"HOU\",\"Houston Texans\",4400.0,2018],[\"HOU\",\"Houston Texans\",4718.0,2019],[\"HOU\",\"Houston Texans\",4843.0,2020],[\"HOU\",\"Houston Texans\",3630.0,2021],[\"HOU\",\"Houston Texans\",3642.0,2022],[\"HOU\",\"Houston Texans\",5033.0,2023],[\"HOU\",\"Houston Texans\",2720.0,2024],[\"IND\",\"Indianapolis Colts\",4321.0,1999],[\"IND\",\"Indianapolis Colts\",4582.0,2000],[\"IND\",\"Indianapolis Colts\",4227.0,2001],[\"IND\",\"Indianapolis Colts\",4337.0,2002],[\"IND\",\"Indianapolis Colts\",5224.0,2003],[\"IND\",\"Indianapolis Colts\",5427.0,2004],[\"IND\",\"Indianapolis Colts\",4481.0,2005],[\"IND\",\"Indianapolis Colts\",5415.0,2006],[\"IND\",\"Indianapolis Colts\",4574.0,2007],[\"IND\",\"Indianapolis Colts\",4490.0,2008],[\"IND\",\"Indianapolis Colts\",5561.0,2009],[\"IND\",\"Indianapolis Colts\",4925.0,2010],[\"IND\",\"Indianapolis Colts\",3223.0,2011],[\"IND\",\"Indianapolis Colts\",4662.0,2012],[\"IND\",\"Indianapolis Colts\",4726.0,2013],[\"IND\",\"Indianapolis Colts\",5829.0,2014],[\"IND\",\"Indianapolis Colts\",3928.0,2015],[\"IND\",\"Indianapolis Colts\",4491.0,2016],[\"IND\",\"Indianapolis Colts\",3226.0,2017],[\"IND\",\"Indianapolis Colts\",5020.0,2018],[\"IND\",\"Indianapolis Colts\",3314.0,2019],[\"IND\",\"Indianapolis Colts\",4495.0,2020],[\"IND\",\"Indianapolis Colts\",3588.0,2021],[\"IND\",\"Indianapolis Colts\",3855.0,2022],[\"IND\",\"Indianapolis Colts\",3882.0,2023],[\"IND\",\"Indianapolis Colts\",2421.0,2024],[\"JAX\",\"Jacksonville Jaguars\",4202.0,1999],[\"JAX\",\"Jacksonville Jaguars\",3947.0,2000],[\"JAX\",\"Jacksonville Jaguars\",3670.0,2001],[\"JAX\",\"Jacksonville Jaguars\",3019.0,2002],[\"JAX\",\"Jacksonville Jaguars\",3421.0,2003],[\"JAX\",\"Jacksonville Jaguars\",3315.0,2004],[\"JAX\",\"Jacksonville Jaguars\",3599.0,2005],[\"JAX\",\"Jacksonville Jaguars\",3059.0,2006],[\"JAX\",\"Jacksonville Jaguars\",3913.0,2007],[\"JAX\",\"Jacksonville Jaguars\",3620.0,2008],[\"JAX\",\"Jacksonville Jaguars\",3599.0,2009],[\"JAX\",\"Jacksonville Jaguars\",3356.0,2010],[\"JAX\",\"Jacksonville Jaguars\",2510.0,2011],[\"JAX\",\"Jacksonville Jaguars\",3746.0,2012],[\"JAX\",\"Jacksonville Jaguars\",3751.0,2013],[\"JAX\",\"Jacksonville Jaguars\",3451.0,2014],[\"JAX\",\"Jacksonville Jaguars\",4428.0,2015],[\"JAX\",\"Jacksonville Jaguars\",3925.0,2016],[\"JAX\",\"Jacksonville Jaguars\",4310.0,2017],[\"JAX\",\"Jacksonville Jaguars\",3431.0,2018],[\"JAX\",\"Jacksonville Jaguars\",4023.0,2019],[\"JAX\",\"Jacksonville Jaguars\",3955.0,2020],[\"JAX\",\"Jacksonville Jaguars\",3674.0,2021],[\"JAX\",\"Jacksonville Jaguars\",4653.0,2022],[\"JAX\",\"Jacksonville Jaguars\",4377.0,2023],[\"JAX\",\"Jacksonville Jaguars\",2281.0,2024],[\"KC\",\"Kansas City Chiefs\",3380.0,1999],[\"KC\",\"Kansas City Chiefs\",4087.0,2000],[\"KC\",\"Kansas City Chiefs\",3863.0,2001],[\"KC\",\"Kansas City Chiefs\",3763.0,2002],[\"KC\",\"Kansas City Chiefs\",4325.0,2003],[\"KC\",\"Kansas City Chiefs\",4631.0,2004],[\"KC\",\"Kansas City Chiefs\",4014.0,2005],[\"KC\",\"Kansas City Chiefs\",3350.0,2006],[\"KC\",\"Kansas City Chiefs\",3525.0,2007],[\"KC\",\"Kansas City Chiefs\",3358.0,2008],[\"KC\",\"Kansas City Chiefs\",3183.0,2009],[\"KC\",\"Kansas City Chiefs\",3259.0,2010],[\"KC\",\"Kansas City Chiefs\",3288.0,2011],[\"KC\",\"Kansas City Chiefs\",2937.0,2012],[\"KC\",\"Kansas City Chiefs\",3939.0,2013],[\"KC\",\"Kansas City Chiefs\",3428.0,2014],[\"KC\",\"Kansas City Chiefs\",3929.0,2015],[\"KC\",\"Kansas City Chiefs\",4086.0,2016],[\"KC\",\"Kansas City Chiefs\",4590.0,2017],[\"KC\",\"Kansas City Chiefs\",5699.0,2018],[\"KC\",\"Kansas City Chiefs\",5591.0,2019],[\"KC\",\"Kansas City Chiefs\",5921.0,2020],[\"KC\",\"Kansas City Chiefs\",5996.0,2021],[\"KC\",\"Kansas City Chiefs\",5976.0,2022],[\"KC\",\"Kansas City Chiefs\",5434.0,2023],[\"KC\",\"Kansas City Chiefs\",2404.0,2024],[\"LAC\",\"Los Angeles Chargers\",3501.0,1999],[\"LAC\",\"Los Angeles Chargers\",3266.0,2000],[\"LAC\",\"Los Angeles Chargers\",3685.0,2001],[\"LAC\",\"Los Angeles Chargers\",3368.0,2002],[\"LAC\",\"Los Angeles Chargers\",3226.0,2003],[\"LAC\",\"Los Angeles Chargers\",3825.0,2004],[\"LAC\",\"Los Angeles Chargers\",3738.0,2005],[\"LAC\",\"Los Angeles Chargers\",3641.0,2006],[\"LAC\",\"Los Angeles Chargers\",3990.0,2007],[\"LAC\",\"Los Angeles Chargers\",4529.0,2008],[\"LAC\",\"Los Angeles Chargers\",4804.0,2009],[\"LAC\",\"Los Angeles Chargers\",4746.0,2010],[\"LAC\",\"Los Angeles Chargers\",4624.0,2011],[\"LAC\",\"Los Angeles Chargers\",3606.0,2012],[\"LAC\",\"Los Angeles Chargers\",4823.0,2013],[\"LAC\",\"Los Angeles Chargers\",4296.0,2014],[\"LAC\",\"Los Angeles Chargers\",4855.0,2015],[\"LAC\",\"Los Angeles Chargers\",4386.0,2016],[\"LAC\",\"Los Angeles Chargers\",4551.0,2017],[\"LAC\",\"Los Angeles Chargers\",4807.0,2018],[\"LAC\",\"Los Angeles Chargers\",4648.0,2019],[\"LAC\",\"Los Angeles Chargers\",4548.0,2020],[\"LAC\",\"Los Angeles Chargers\",5014.0,2021],[\"LAC\",\"Los Angeles Chargers\",5064.0,2022],[\"LAC\",\"Los Angeles Chargers\",4312.0,2023],[\"LAC\",\"Los Angeles Chargers\",2210.0,2024],[\"LAR\",\"Los Angeles Rams\",5206.0,1999],[\"LAR\",\"Los Angeles Rams\",5730.0,2000],[\"LAR\",\"Los Angeles Rams\",5696.0,2001],[\"LAR\",\"Los Angeles Rams\",4480.0,2002],[\"LAR\",\"Los Angeles Rams\",4619.0,2003],[\"LAR\",\"Los Angeles Rams\",5224.0,2004],[\"LAR\",\"Los Angeles Rams\",4351.0,2005],[\"LAR\",\"Los Angeles Rams\",4328.0,2006],[\"LAR\",\"Los Angeles Rams\",3561.0,2007],[\"LAR\",\"Los Angeles Rams\",3275.0,2008],[\"LAR\",\"Los Angeles Rams\",2962.0,2009],[\"LAR\",\"Los Angeles Rams\",3512.0,2010],[\"LAR\",\"Los Angeles Rams\",3258.0,2011],[\"LAR\",\"Los Angeles Rams\",3783.0,2012],[\"LAR\",\"Los Angeles Rams\",3360.0,2013],[\"LAR\",\"Los Angeles Rams\",3695.0,2014],[\"LAR\",\"Los Angeles Rams\",2931.0,2015],[\"LAR\",\"Los Angeles Rams\",3313.0,2016],[\"LAR\",\"Los Angeles Rams\",4282.0,2017],[\"LAR\",\"Los Angeles Rams\",5454.0,2018],[\"LAR\",\"Los Angeles Rams\",4669.0,2019],[\"LAR\",\"Los Angeles Rams\",4541.0,2020],[\"LAR\",\"Los Angeles Rams\",6121.0,2021],[\"LAR\",\"Los Angeles Rams\",3506.0,2022],[\"LAR\",\"Los Angeles Rams\",4667.0,2023],[\"LAR\",\"Los Angeles Rams\",2557.0,2024],[\"LV\",\"Las Vegas Raiders\",3829.0,1999],[\"LV\",\"Las Vegas Raiders\",3658.0,2000],[\"LV\",\"Las Vegas Raiders\",4315.0,2001],[\"LV\",\"Las Vegas Raiders\",5530.0,2002],[\"LV\",\"Las Vegas Raiders\",2984.0,2003],[\"LV\",\"Las Vegas Raiders\",4019.0,2004],[\"LV\",\"Las Vegas Raiders\",3883.0,2005],[\"LV\",\"Las Vegas Raiders\",2850.0,2006],[\"LV\",\"Las Vegas Raiders\",2894.0,2007],[\"LV\",\"Las Vegas Raiders\",2639.0,2008],[\"LV\",\"Las Vegas Raiders\",2875.0,2009],[\"LV\",\"Las Vegas Raiders\",3472.0,2010],[\"LV\",\"Las Vegas Raiders\",4119.0,2011],[\"LV\",\"Las Vegas Raiders\",4292.0,2012],[\"LV\",\"Las Vegas Raiders\",3629.0,2013],[\"LV\",\"Las Vegas Raiders\",3456.0,2014],[\"LV\",\"Las Vegas Raiders\",4129.0,2015],[\"LV\",\"Las Vegas Raiders\",4298.0,2016],[\"LV\",\"Las Vegas Raiders\",3761.0,2017],[\"LV\",\"Las Vegas Raiders\",4057.0,2018],[\"LV\",\"Las Vegas Raiders\",4110.0,2019],[\"LV\",\"Las Vegas Raiders\",4383.0,2020],[\"LV\",\"Las Vegas Raiders\",5118.0,2021],[\"LV\",\"Las Vegas Raiders\",4182.0,2022],[\"LV\",\"Las Vegas Raiders\",3666.0,2023],[\"LV\",\"Las Vegas Raiders\",2312.0,2024],[\"MIA\",\"Miami Dolphins\",3995.0,1999],[\"MIA\",\"Miami Dolphins\",2910.0,2000],[\"MIA\",\"Miami Dolphins\",3415.0,2001],[\"MIA\",\"Miami Dolphins\",3069.0,2002],[\"MIA\",\"Miami Dolphins\",3001.0,2003],[\"MIA\",\"Miami Dolphins\",3391.0,2004],[\"MIA\",\"Miami Dolphins\",3458.0,2005],[\"MIA\",\"Miami Dolphins\",3577.0,2006],[\"MIA\",\"Miami Dolphins\",3319.0,2007],[\"MIA\",\"Miami Dolphins\",4003.0,2008],[\"MIA\",\"Miami Dolphins\",3396.0,2009],[\"MIA\",\"Miami Dolphins\",3752.0,2010],[\"MIA\",\"Miami Dolphins\",3425.0,2011],[\"MIA\",\"Miami Dolphins\",3425.0,2012],[\"MIA\",\"Miami Dolphins\",3966.0,2013],[\"MIA\",\"Miami Dolphins\",4066.0,2014],[\"MIA\",\"Miami Dolphins\",4231.0,2015],[\"MIA\",\"Miami Dolphins\",4005.0,2016],[\"MIA\",\"Miami Dolphins\",3792.0,2017],[\"MIA\",\"Miami Dolphins\",3309.0,2018],[\"MIA\",\"Miami Dolphins\",4117.0,2019],[\"MIA\",\"Miami Dolphins\",3937.0,2020],[\"MIA\",\"Miami Dolphins\",3936.0,2021],[\"MIA\",\"Miami Dolphins\",4985.0,2022],[\"MIA\",\"Miami Dolphins\",4897.0,2023],[\"MIA\",\"Miami Dolphins\",2160.0,2024],[\"MIN\",\"Minnesota Vikings\",4867.0,1999],[\"MIN\",\"Minnesota Vikings\",4373.0,2000],[\"MIN\",\"Minnesota Vikings\",3854.0,2001],[\"MIN\",\"Minnesota Vikings\",3951.0,2002],[\"MIN\",\"Minnesota Vikings\",4169.0,2003],[\"MIN\",\"Minnesota Vikings\",5354.0,2004],[\"MIN\",\"Minnesota Vikings\",3449.0,2005],[\"MIN\",\"Minnesota Vikings\",3402.0,2006],[\"MIN\",\"Minnesota Vikings\",2934.0,2007],[\"MIN\",\"Minnesota Vikings\",3381.0,2008],[\"MIN\",\"Minnesota Vikings\",4947.0,2009],[\"MIN\",\"Minnesota Vikings\",3327.0,2010],[\"MIN\",\"Minnesota Vikings\",3255.0,2011],[\"MIN\",\"Minnesota Vikings\",3115.0,2012],[\"MIN\",\"Minnesota Vikings\",3645.0,2013],[\"MIN\",\"Minnesota Vikings\",3566.0,2014],[\"MIN\",\"Minnesota Vikings\",3392.0,2015],[\"MIN\",\"Minnesota Vikings\",4119.0,2016],[\"MIN\",\"Minnesota Vikings\",4518.0,2017],[\"MIN\",\"Minnesota Vikings\",4298.0,2018],[\"MIN\",\"Minnesota Vikings\",4143.0,2019],[\"MIN\",\"Minnesota Vikings\",4265.0,2020],[\"MIN\",\"Minnesota Vikings\",4450.0,2021],[\"MIN\",\"Minnesota Vikings\",5089.0,2022],[\"MIN\",\"Minnesota Vikings\",4700.0,2023],[\"MIN\",\"Minnesota Vikings\",2433.0,2024],[\"NE\",\"New England Patriots\",3969.0,1999],[\"NE\",\"New England Patriots\",3417.0,2000],[\"NE\",\"New England Patriots\",4000.0,2001],[\"NE\",\"New England Patriots\",3767.0,2002],[\"NE\",\"New England Patriots\",4443.0,2003],[\"NE\",\"New England Patriots\",4335.0,2004],[\"NE\",\"New England Patriots\",4864.0,2005],[\"NE\",\"New England Patriots\",4318.0,2006],[\"NE\",\"New England Patriots\",5596.0,2007],[\"NE\",\"New England Patriots\",3790.0,2008],[\"NE\",\"New England Patriots\",4694.0,2009],[\"NE\",\"New England Patriots\",4321.0,2010],[\"NE\",\"New England Patriots\",6135.0,2011],[\"NE\",\"New England Patriots\",5508.0,2012],[\"NE\",\"New England Patriots\",4818.0,2013],[\"NE\",\"New England Patriots\",5263.0,2014],[\"NE\",\"New England Patriots\",5424.0,2015],[\"NE\",\"New England Patriots\",5593.0,2016],[\"NE\",\"New England Patriots\",5771.0,2017],[\"NE\",\"New England Patriots\",5358.0,2018],[\"NE\",\"New England Patriots\",4362.0,2019],[\"NE\",\"New England Patriots\",3124.0,2020],[\"NE\",\"New England Patriots\",4330.0,2021],[\"NE\",\"New England Patriots\",3815.0,2022],[\"NE\",\"New England Patriots\",3392.0,2023],[\"NE\",\"New England Patriots\",2064.0,2024],[\"NO\",\"New Orleans Saints\",3570.0,1999],[\"NO\",\"New Orleans Saints\",4076.0,2000],[\"NO\",\"New Orleans Saints\",3844.0,2001],[\"NO\",\"New Orleans Saints\",3685.0,2002],[\"NO\",\"New Orleans Saints\",3641.0,2003],[\"NO\",\"New Orleans Saints\",3810.0,2004],[\"NO\",\"New Orleans Saints\",3604.0,2005],[\"NO\",\"New Orleans Saints\",5229.0,2006],[\"NO\",\"New Orleans Saints\",4428.0,2007],[\"NO\",\"New Orleans Saints\",5069.0,2008],[\"NO\",\"New Orleans Saints\",5222.0,2009],[\"NO\",\"New Orleans Saints\",5040.0,2010],[\"NO\",\"New Orleans Saints\",6492.0,2011],[\"NO\",\"New Orleans Saints\",5187.0,2012],[\"NO\",\"New Orleans Saints\",5721.0,2013],[\"NO\",\"New Orleans Saints\",4952.0,2014],[\"NO\",\"New Orleans Saints\",5205.0,2015],[\"NO\",\"New Orleans Saints\",5258.0,2016],[\"NO\",\"New Orleans Saints\",5004.0,2017],[\"NO\",\"New Orleans Saints\",4724.0,2018],[\"NO\",\"New Orleans Saints\",4689.0,2019],[\"NO\",\"New Orleans Saints\",4400.0,2020],[\"NO\",\"New Orleans Saints\",3437.0,2021],[\"NO\",\"New Orleans Saints\",3969.0,2022],[\"NO\",\"New Orleans Saints\",4225.0,2023],[\"NO\",\"New Orleans Saints\",2511.0,2024],[\"NYG\",\"New York Giants\",4015.0,1999],[\"NYG\",\"New York Giants\",4198.0,2000],[\"NYG\",\"New York Giants\",3764.0,2001],[\"NYG\",\"New York Giants\",4445.0,2002],[\"NYG\",\"New York Giants\",3642.0,2003],[\"NYG\",\"New York Giants\",3097.0,2004],[\"NYG\",\"New York Giants\",3875.0,2005],[\"NYG\",\"New York Giants\",3405.0,2006],[\"NYG\",\"New York Giants\",4233.0,2007],[\"NYG\",\"New York Giants\",3522.0,2008],[\"NYG\",\"New York Giants\",4246.0,2009],[\"NYG\",\"New York Giants\",4002.0,2010],[\"NYG\",\"New York Giants\",6152.0,2011],[\"NYG\",\"New York Giants\",3967.0,2012],[\"NYG\",\"New York Giants\",3875.0,2013],[\"NYG\",\"New York Giants\",4470.0,2014],[\"NYG\",\"New York Giants\",4500.0,2015],[\"NYG\",\"New York Giants\",4326.0,2016],[\"NYG\",\"New York Giants\",3680.0,2017],[\"NYG\",\"New York Giants\",4405.0,2018],[\"NYG\",\"New York Giants\",4070.0,2019],[\"NYG\",\"New York Giants\",3336.0,2020],[\"NYG\",\"New York Giants\",3463.0,2021],[\"NYG\",\"New York Giants\",3867.0,2022],[\"NYG\",\"New York Giants\",3351.0,2023],[\"NYG\",\"New York Giants\",2076.0,2024],[\"NYJ\",\"New York Jets\",2972.0,1999],[\"NYJ\",\"New York Jets\",3983.0,2000],[\"NYJ\",\"New York Jets\",3139.0,2001],[\"NYJ\",\"New York Jets\",4024.0,2002],[\"NYJ\",\"New York Jets\",3524.0,2003],[\"NYJ\",\"New York Jets\",3692.0,2004],[\"NYJ\",\"New York Jets\",2989.0,2005],[\"NYJ\",\"New York Jets\",3651.0,2006],[\"NYJ\",\"New York Jets\",3331.0,2007],[\"NYJ\",\"New York Jets\",3516.0,2008],[\"NYJ\",\"New York Jets\",3180.0,2009],[\"NYJ\",\"New York Jets\",4036.0,2010],[\"NYJ\",\"New York Jets\",3542.0,2011],[\"NYJ\",\"New York Jets\",3178.0,2012],[\"NYJ\",\"New York Jets\",3270.0,2013],[\"NYJ\",\"New York Jets\",3206.0,2014],[\"NYJ\",\"New York Jets\",4170.0,2015],[\"NYJ\",\"New York Jets\",3645.0,2016],[\"NYJ\",\"New York Jets\",3501.0,2017],[\"NYJ\",\"New York Jets\",3404.0,2018],[\"NYJ\",\"New York Jets\",3443.0,2019],[\"NYJ\",\"New York Jets\",3115.0,2020],[\"NYJ\",\"New York Jets\",3959.0,2021],[\"NYJ\",\"New York Jets\",4040.0,2022],[\"NYJ\",\"New York Jets\",3373.0,2023],[\"NYJ\",\"New York Jets\",2478.0,2024],[\"PHI\",\"Philadelphia Eagles\",2372.0,1999],[\"PHI\",\"Philadelphia Eagles\",3676.0,2000],[\"PHI\",\"Philadelphia Eagles\",4054.0,2001],[\"PHI\",\"Philadelphia Eagles\",4096.0,2002],[\"PHI\",\"Philadelphia Eagles\",3716.0,2003],[\"PHI\",\"Philadelphia Eagles\",5034.0,2004],[\"PHI\",\"Philadelphia Eagles\",3903.0,2005],[\"PHI\",\"Philadelphia Eagles\",4667.0,2006],[\"PHI\",\"Philadelphia Eagles\",4005.0,2007],[\"PHI\",\"Philadelphia Eagles\",4950.0,2008],[\"PHI\",\"Philadelphia Eagles\",4686.0,2009],[\"PHI\",\"Philadelphia Eagles\",4507.0,2010],[\"PHI\",\"Philadelphia Eagles\",4276.0,2011],[\"PHI\",\"Philadelphia Eagles\",4075.0,2012],[\"PHI\",\"Philadelphia Eagles\",4601.0,2013],[\"PHI\",\"Philadelphia Eagles\",4581.0,2014],[\"PHI\",\"Philadelphia Eagles\",4341.0,2015],[\"PHI\",\"Philadelphia Eagles\",3798.0,2016],[\"PHI\",\"Philadelphia Eagles\",4939.0,2017],[\"PHI\",\"Philadelphia Eagles\",4991.0,2018],[\"PHI\",\"Philadelphia Eagles\",4240.0,2019],[\"PHI\",\"Philadelphia Eagles\",3728.0,2020],[\"PHI\",\"Philadelphia Eagles\",3843.0,2021],[\"PHI\",\"Philadelphia Eagles\",4943.0,2022],[\"PHI\",\"Philadelphia Eagles\",4317.0,2023],[\"PHI\",\"Philadelphia Eagles\",2202.0,2024],[\"PIT\",\"Pittsburgh Steelers\",3047.0,1999],[\"PIT\",\"Pittsburgh Steelers\",2705.0,2000],[\"PIT\",\"Pittsburgh Steelers\",3704.0,2001],[\"PIT\",\"Pittsburgh Steelers\",4669.0,2002],[\"PIT\",\"Pittsburgh Steelers\",3548.0,2003],[\"PIT\",\"Pittsburgh Steelers\",3377.0,2004],[\"PIT\",\"Pittsburgh Steelers\",3950.0,2005],[\"PIT\",\"Pittsburgh Steelers\",4026.0,2006],[\"PIT\",\"Pittsburgh Steelers\",3759.0,2007],[\"PIT\",\"Pittsburgh Steelers\",4312.0,2008],[\"PIT\",\"Pittsburgh Steelers\",4496.0,2009],[\"PIT\",\"Pittsburgh Steelers\",4512.0,2010],[\"PIT\",\"Pittsburgh Steelers\",4622.0,2011],[\"PIT\",\"Pittsburgh Steelers\",4012.0,2012],[\"PIT\",\"Pittsburgh Steelers\",4306.0,2013],[\"PIT\",\"Pittsburgh Steelers\",5353.0,2014],[\"PIT\",\"Pittsburgh Steelers\",5401.0,2015],[\"PIT\",\"Pittsburgh Steelers\",5112.0,2016],[\"PIT\",\"Pittsburgh Steelers\",5011.0,2017],[\"PIT\",\"Pittsburgh Steelers\",5174.0,2018],[\"PIT\",\"Pittsburgh Steelers\",3214.0,2019],[\"PIT\",\"Pittsburgh Steelers\",4630.0,2020],[\"PIT\",\"Pittsburgh Steelers\",4232.0,2021],[\"PIT\",\"Pittsburgh Steelers\",3661.0,2022],[\"PIT\",\"Pittsburgh Steelers\",3650.0,2023],[\"PIT\",\"Pittsburgh Steelers\",2337.0,2024],[\"SEA\",\"Seattle Seahawks\",3759.0,1999],[\"SEA\",\"Seattle Seahawks\",3151.0,2000],[\"SEA\",\"Seattle Seahawks\",3164.0,2001],[\"SEA\",\"Seattle Seahawks\",4257.0,2002],[\"SEA\",\"Seattle Seahawks\",4180.0,2003],[\"SEA\",\"Seattle Seahawks\",4064.0,2004],[\"SEA\",\"Seattle Seahawks\",4335.0,2005],[\"SEA\",\"Seattle Seahawks\",3804.0,2006],[\"SEA\",\"Seattle Seahawks\",4604.0,2007],[\"SEA\",\"Seattle Seahawks\",2831.0,2008],[\"SEA\",\"Seattle Seahawks\",3771.0,2009],[\"SEA\",\"Seattle Seahawks\",4063.0,2010],[\"SEA\",\"Seattle Seahawks\",3444.0,2011],[\"SEA\",\"Seattle Seahawks\",3806.0,2012],[\"SEA\",\"Seattle Seahawks\",4032.0,2013],[\"SEA\",\"Seattle Seahawks\",4235.0,2014],[\"SEA\",\"Seattle Seahawks\",4569.0,2015],[\"SEA\",\"Seattle Seahawks\",4871.0,2016],[\"SEA\",\"Seattle Seahawks\",3979.0,2017],[\"SEA\",\"Seattle Seahawks\",3681.0,2018],[\"SEA\",\"Seattle Seahawks\",4712.0,2019],[\"SEA\",\"Seattle Seahawks\",4419.0,2020],[\"SEA\",\"Seattle Seahawks\",3815.0,2021],[\"SEA\",\"Seattle Seahawks\",4535.0,2022],[\"SEA\",\"Seattle Seahawks\",4167.0,2023],[\"SEA\",\"Seattle Seahawks\",2816.0,2024],[\"SF\",\"San Francisco 49ers\",3498.0,1999],[\"SF\",\"San Francisco 49ers\",4360.0,2000],[\"SF\",\"San Francisco 49ers\",3792.0,2001],[\"SF\",\"San Francisco 49ers\",4125.0,2002],[\"SF\",\"San Francisco 49ers\",3566.0,2003],[\"SF\",\"San Francisco 49ers\",3455.0,2004],[\"SF\",\"San Francisco 49ers\",2190.0,2005],[\"SF\",\"San Francisco 49ers\",2901.0,2006],[\"SF\",\"San Francisco 49ers\",2685.0,2007],[\"SF\",\"San Francisco 49ers\",3724.0,2008],[\"SF\",\"San Francisco 49ers\",3293.0,2009],[\"SF\",\"San Francisco 49ers\",3613.0,2010],[\"SF\",\"San Francisco 49ers\",3688.0,2011],[\"SF\",\"San Francisco 49ers\",4349.0,2012],[\"SF\",\"San Francisco 49ers\",3786.0,2013],[\"SF\",\"San Francisco 49ers\",3407.0,2014],[\"SF\",\"San Francisco 49ers\",3646.0,2015],[\"SF\",\"San Francisco 49ers\",3166.0,2016],[\"SF\",\"San Francisco 49ers\",4235.0,2017],[\"SF\",\"San Francisco 49ers\",4247.0,2018],[\"SF\",\"San Francisco 49ers\",4456.0,2019],[\"SF\",\"San Francisco 49ers\",4320.0,2020],[\"SF\",\"San Francisco 49ers\",4972.0,2021],[\"SF\",\"San Francisco 49ers\",4692.0,2022],[\"SF\",\"San Francisco 49ers\",5372.0,2023],[\"SF\",\"San Francisco 49ers\",2613.0,2024],[\"TB\",\"Tampa Bay Buccaneers\",2992.0,1999],[\"TB\",\"Tampa Bay Buccaneers\",2895.0,2000],[\"TB\",\"Tampa Bay Buccaneers\",3823.0,2001],[\"TB\",\"Tampa Bay Buccaneers\",4356.0,2002],[\"TB\",\"Tampa Bay Buccaneers\",3951.0,2003],[\"TB\",\"Tampa Bay Buccaneers\",3773.0,2004],[\"TB\",\"Tampa Bay Buccaneers\",3369.0,2005],[\"TB\",\"Tampa Bay Buccaneers\",2994.0,2006],[\"TB\",\"Tampa Bay Buccaneers\",3786.0,2007],[\"TB\",\"Tampa Bay Buccaneers\",3788.0,2008],[\"TB\",\"Tampa Bay Buccaneers\",3136.0,2009],[\"TB\",\"Tampa Bay Buccaneers\",3564.0,2010],[\"TB\",\"Tampa Bay Buccaneers\",3838.0,2011],[\"TB\",\"Tampa Bay Buccaneers\",4144.0,2012],[\"TB\",\"Tampa Bay Buccaneers\",3181.0,2013],[\"TB\",\"Tampa Bay Buccaneers\",3623.0,2014],[\"TB\",\"Tampa Bay Buccaneers\",4042.0,2015],[\"TB\",\"Tampa Bay Buccaneers\",4165.0,2016],[\"TB\",\"Tampa Bay Buccaneers\",4607.0,2017],[\"TB\",\"Tampa Bay Buccaneers\",5358.0,2018],[\"TB\",\"Tampa Bay Buccaneers\",5127.0,2019],[\"TB\",\"Tampa Bay Buccaneers\",5837.0,2020],[\"TB\",\"Tampa Bay Buccaneers\",5983.0,2021],[\"TB\",\"Tampa Bay Buccaneers\",5097.0,2022],[\"TB\",\"Tampa Bay Buccaneers\",4730.0,2023],[\"TB\",\"Tampa Bay Buccaneers\",2505.0,2024],[\"TEN\",\"Tennessee Titans\",4086.0,1999],[\"TEN\",\"Tennessee Titans\",3513.0,2000],[\"TEN\",\"Tennessee Titans\",3867.0,2001],[\"TEN\",\"Tennessee Titans\",3973.0,2002],[\"TEN\",\"Tennessee Titans\",4431.0,2003],[\"TEN\",\"Tennessee Titans\",3932.0,2004],[\"TEN\",\"Tennessee Titans\",3797.0,2005],[\"TEN\",\"Tennessee Titans\",2748.0,2006],[\"TEN\",\"Tennessee Titans\",3215.0,2007],[\"TEN\",\"Tennessee Titans\",3188.0,2008],[\"TEN\",\"Tennessee Titans\",3104.0,2009],[\"TEN\",\"Tennessee Titans\",3278.0,2010],[\"TEN\",\"Tennessee Titans\",4113.0,2011],[\"TEN\",\"Tennessee Titans\",3577.0,2012],[\"TEN\",\"Tennessee Titans\",3710.0,2013],[\"TEN\",\"Tennessee Titans\",3738.0,2014],[\"TEN\",\"Tennessee Titans\",3893.0,2015],[\"TEN\",\"Tennessee Titans\",3720.0,2016],[\"TEN\",\"Tennessee Titans\",3863.0,2017],[\"TEN\",\"Tennessee Titans\",3255.0,2018],[\"TEN\",\"Tennessee Titans\",4360.0,2019],[\"TEN\",\"Tennessee Titans\",3991.0,2020],[\"TEN\",\"Tennessee Titans\",3965.0,2021],[\"TEN\",\"Tennessee Titans\",3227.0,2022],[\"TEN\",\"Tennessee Titans\",3512.0,2023],[\"TEN\",\"Tennessee Titans\",1975.0,2024],[\"WAS\",\"Washington Commanders\",4402.0,1999],[\"WAS\",\"Washington Commanders\",3876.0,2000],[\"WAS\",\"Washington Commanders\",2716.0,2001],[\"WAS\",\"Washington Commanders\",3523.0,2002],[\"WAS\",\"Washington Commanders\",3276.0,2003],[\"WAS\",\"Washington Commanders\",2874.0,2004],[\"WAS\",\"Washington Commanders\",3629.0,2005],[\"WAS\",\"Washington Commanders\",3174.0,2006],[\"WAS\",\"Washington Commanders\",3888.0,2007],[\"WAS\",\"Washington Commanders\",3291.0,2008],[\"WAS\",\"Washington Commanders\",3797.0,2009],[\"WAS\",\"Washington Commanders\",4261.0,2010],[\"WAS\",\"Washington Commanders\",4058.0,2011],[\"WAS\",\"Washington Commanders\",3781.0,2012],[\"WAS\",\"Washington Commanders\",4057.0,2013],[\"WAS\",\"Washington Commanders\",4461.0,2014],[\"WAS\",\"Washington Commanders\",4623.0,2015],[\"WAS\",\"Washington Commanders\",4948.0,2016],[\"WAS\",\"Washington Commanders\",4093.0,2017],[\"WAS\",\"Washington Commanders\",3287.0,2018],[\"WAS\",\"Washington Commanders\",3205.0,2019],[\"WAS\",\"Washington Commanders\",4102.0,2020],[\"WAS\",\"Washington Commanders\",3746.0,2021],[\"WAS\",\"Washington Commanders\",3783.0,2022],[\"WAS\",\"Washington Commanders\",4174.0,2023],[\"WAS\",\"Washington Commanders\",2541.0,2024]],\"hovertemplate\":\"lat=%{lat}\\u003cbr\\u003elon=%{lon}\\u003cbr\\u003eteam_abbrev=%{customdata[0]}\\u003cbr\\u003eteam_full_name=%{customdata[1]}\\u003cbr\\u003epassing_yards=%{customdata[2]}\\u003cbr\\u003eseason=%{customdata[3]}\\u003cextra\\u003e\\u003c\\u002fextra\\u003e\",\"lat\":[33.527,33.527,33.527,33.527,33.527,33.527,33.527,33.527,33.527,33.527,33.527,33.527,33.527,33.527,33.527,33.527,33.527,33.527,33.527,33.527,33.527,33.527,33.527,33.527,33.527,33.527,33.755,33.755,33.755,33.755,33.755,33.755,33.755,33.755,33.755,33.755,33.755,33.755,33.755,33.755,33.755,33.755,33.755,33.755,33.755,33.755,33.755,33.755,33.755,33.755,33.755,33.755,39.2904,39.2904,39.2904,39.2904,39.2904,39.2904,39.2904,39.2904,39.2904,39.2904,39.2904,39.2904,39.2904,39.2904,39.2904,39.2904,39.2904,39.2904,39.2904,39.2904,39.2904,39.2904,39.2904,39.2904,39.2904,39.2904,42.7738,42.7738,42.7738,42.7738,42.7738,42.7738,42.7738,42.7738,42.7738,42.7738,42.7738,42.7738,42.7738,42.7738,42.7738,42.7738,42.7738,42.7738,42.7738,42.7738,42.7738,42.7738,42.7738,42.7738,42.7738,42.7738,35.2271,35.2271,35.2271,35.2271,35.2271,35.2271,35.2271,35.2271,35.2271,35.2271,35.2271,35.2271,35.2271,35.2271,35.2271,35.2271,35.2271,35.2271,35.2271,35.2271,35.2271,35.2271,35.2271,35.2271,35.2271,35.2271,41.8623,41.8623,41.8623,41.8623,41.8623,41.8623,41.8623,41.8623,41.8623,41.8623,41.8623,41.8623,41.8623,41.8623,41.8623,41.8623,41.8623,41.8623,41.8623,41.8623,41.8623,41.8623,41.8623,41.8623,41.8623,41.8623,39.0957,39.0957,39.0957,39.0957,39.0957,39.0957,39.0957,39.0957,39.0957,39.0957,39.0957,39.0957,39.0957,39.0957,39.0957,39.0957,39.0957,39.0957,39.0957,39.0957,39.0957,39.0957,39.0957,39.0957,39.0957,39.0957,41.4993,41.4993,41.4993,41.4993,41.4993,41.4993,41.4993,41.4993,41.4993,41.4993,41.4993,41.4993,41.4993,41.4993,41.4993,41.4993,41.4993,41.4993,41.4993,41.4993,41.4993,41.4993,41.4993,41.4993,41.4993,41.4993,32.7512,32.7512,32.7512,32.7512,32.7512,32.7512,32.7512,32.7512,32.7512,32.7512,32.7512,32.7512,32.7512,32.7512,32.7512,32.7512,32.7512,32.7512,32.7512,32.7512,32.7512,32.7512,32.7512,32.7512,32.7512,32.7512,39.7392,39.7392,39.7392,39.7392,39.7392,39.7392,39.7392,39.7392,39.7392,39.7392,39.7392,39.7392,39.7392,39.7392,39.7392,39.7392,39.7392,39.7392,39.7392,39.7392,39.7392,39.7392,39.7392,39.7392,39.7392,39.7392,42.3314,42.3314,42.3314,42.3314,42.3314,42.3314,42.3314,42.3314,42.3314,42.3314,42.3314,42.3314,42.3314,42.3314,42.3314,42.3314,42.3314,42.3314,42.3314,42.3314,42.3314,42.3314,42.3314,42.3314,42.3314,42.3314,44.5133,44.5133,44.5133,44.5133,44.5133,44.5133,44.5133,44.5133,44.5133,44.5133,44.5133,44.5133,44.5133,44.5133,44.5133,44.5133,44.5133,44.5133,44.5133,44.5133,44.5133,44.5133,44.5133,44.5133,44.5133,44.5133,29.7604,29.7604,29.7604,29.7604,29.7604,29.7604,29.7604,29.7604,29.7604,29.7604,29.7604,29.7604,29.7604,29.7604,29.7604,29.7604,29.7604,29.7604,29.7604,29.7604,29.7604,29.7604,29.7604,39.7684,39.7684,39.7684,39.7684,39.7684,39.7684,39.7684,39.7684,39.7684,39.7684,39.7684,39.7684,39.7684,39.7684,39.7684,39.7684,39.7684,39.7684,39.7684,39.7684,39.7684,39.7684,39.7684,39.7684,39.7684,39.7684,30.3322,30.3322,30.3322,30.3322,30.3322,30.3322,30.3322,30.3322,30.3322,30.3322,30.3322,30.3322,30.3322,30.3322,30.3322,30.3322,30.3322,30.3322,30.3322,30.3322,30.3322,30.3322,30.3322,30.3322,30.3322,30.3322,39.0997,39.0997,39.0997,39.0997,39.0997,39.0997,39.0997,39.0997,39.0997,39.0997,39.0997,39.0997,39.0997,39.0997,39.0997,39.0997,39.0997,39.0997,39.0997,39.0997,39.0997,39.0997,39.0997,39.0997,39.0997,39.0997,33.9581,33.9581,33.9581,33.9581,33.9581,33.9581,33.9581,33.9581,33.9581,33.9581,33.9581,33.9581,33.9581,33.9581,33.9581,33.9581,33.9581,33.9581,33.9581,33.9581,33.9581,33.9581,33.9581,33.9581,33.9581,33.9581,33.9581,33.9581,33.9581,33.9581,33.9581,33.9581,33.9581,33.9581,33.9581,33.9581,33.9581,33.9581,33.9581,33.9581,33.9581,33.9581,33.9581,33.9581,33.9581,33.9581,33.9581,33.9581,33.9581,33.9581,33.9581,33.9581,36.094,36.094,36.094,36.094,36.094,36.094,36.094,36.094,36.094,36.094,36.094,36.094,36.094,36.094,36.094,36.094,36.094,36.094,36.094,36.094,36.094,36.094,36.094,36.094,36.094,36.094,25.958,25.958,25.958,25.958,25.958,25.958,25.958,25.958,25.958,25.958,25.958,25.958,25.958,25.958,25.958,25.958,25.958,25.958,25.958,25.958,25.958,25.958,25.958,25.958,25.958,25.958,44.9778,44.9778,44.9778,44.9778,44.9778,44.9778,44.9778,44.9778,44.9778,44.9778,44.9778,44.9778,44.9778,44.9778,44.9778,44.9778,44.9778,44.9778,44.9778,44.9778,44.9778,44.9778,44.9778,44.9778,44.9778,44.9778,42.0654,42.0654,42.0654,42.0654,42.0654,42.0654,42.0654,42.0654,42.0654,42.0654,42.0654,42.0654,42.0654,42.0654,42.0654,42.0654,42.0654,42.0654,42.0654,42.0654,42.0654,42.0654,42.0654,42.0654,42.0654,42.0654,29.9511,29.9511,29.9511,29.9511,29.9511,29.9511,29.9511,29.9511,29.9511,29.9511,29.9511,29.9511,29.9511,29.9511,29.9511,29.9511,29.9511,29.9511,29.9511,29.9511,29.9511,29.9511,29.9511,29.9511,29.9511,29.9511,40.8136,40.8136,40.8136,40.8136,40.8136,40.8136,40.8136,40.8136,40.8136,40.8136,40.8136,40.8136,40.8136,40.8136,40.8136,40.8136,40.8136,40.8136,40.8136,40.8136,40.8136,40.8136,40.8136,40.8136,40.8136,40.8136,40.8136,40.8136,40.8136,40.8136,40.8136,40.8136,40.8136,40.8136,40.8136,40.8136,40.8136,40.8136,40.8136,40.8136,40.8136,40.8136,40.8136,40.8136,40.8136,40.8136,40.8136,40.8136,40.8136,40.8136,40.8136,40.8136,39.9526,39.9526,39.9526,39.9526,39.9526,39.9526,39.9526,39.9526,39.9526,39.9526,39.9526,39.9526,39.9526,39.9526,39.9526,39.9526,39.9526,39.9526,39.9526,39.9526,39.9526,39.9526,39.9526,39.9526,39.9526,39.9526,40.4406,40.4406,40.4406,40.4406,40.4406,40.4406,40.4406,40.4406,40.4406,40.4406,40.4406,40.4406,40.4406,40.4406,40.4406,40.4406,40.4406,40.4406,40.4406,40.4406,40.4406,40.4406,40.4406,40.4406,40.4406,40.4406,47.6062,47.6062,47.6062,47.6062,47.6062,47.6062,47.6062,47.6062,47.6062,47.6062,47.6062,47.6062,47.6062,47.6062,47.6062,47.6062,47.6062,47.6062,47.6062,47.6062,47.6062,47.6062,47.6062,47.6062,47.6062,47.6062,37.4043,37.4043,37.4043,37.4043,37.4043,37.4043,37.4043,37.4043,37.4043,37.4043,37.4043,37.4043,37.4043,37.4043,37.4043,37.4043,37.4043,37.4043,37.4043,37.4043,37.4043,37.4043,37.4043,37.4043,37.4043,37.4043,27.9506,27.9506,27.9506,27.9506,27.9506,27.9506,27.9506,27.9506,27.9506,27.9506,27.9506,27.9506,27.9506,27.9506,27.9506,27.9506,27.9506,27.9506,27.9506,27.9506,27.9506,27.9506,27.9506,27.9506,27.9506,27.9506,36.1627,36.1627,36.1627,36.1627,36.1627,36.1627,36.1627,36.1627,36.1627,36.1627,36.1627,36.1627,36.1627,36.1627,36.1627,36.1627,36.1627,36.1627,36.1627,36.1627,36.1627,36.1627,36.1627,36.1627,36.1627,36.1627,38.9076,38.9076,38.9076,38.9076,38.9076,38.9076,38.9076,38.9076,38.9076,38.9076,38.9076,38.9076,38.9076,38.9076,38.9076,38.9076,38.9076,38.9076,38.9076,38.9076,38.9076,38.9076,38.9076,38.9076,38.9076,38.9076],\"legendgroup\":\"\",\"lon\":[-112.2626,-112.2626,-112.2626,-112.2626,-112.2626,-112.2626,-112.2626,-112.2626,-112.2626,-112.2626,-112.2626,-112.2626,-112.2626,-112.2626,-112.2626,-112.2626,-112.2626,-112.2626,-112.2626,-112.2626,-112.2626,-112.2626,-112.2626,-112.2626,-112.2626,-112.2626,-84.39,-84.39,-84.39,-84.39,-84.39,-84.39,-84.39,-84.39,-84.39,-84.39,-84.39,-84.39,-84.39,-84.39,-84.39,-84.39,-84.39,-84.39,-84.39,-84.39,-84.39,-84.39,-84.39,-84.39,-84.39,-84.39,-76.6122,-76.6122,-76.6122,-76.6122,-76.6122,-76.6122,-76.6122,-76.6122,-76.6122,-76.6122,-76.6122,-76.6122,-76.6122,-76.6122,-76.6122,-76.6122,-76.6122,-76.6122,-76.6122,-76.6122,-76.6122,-76.6122,-76.6122,-76.6122,-76.6122,-76.6122,-78.7866,-78.7866,-78.7866,-78.7866,-78.7866,-78.7866,-78.7866,-78.7866,-78.7866,-78.7866,-78.7866,-78.7866,-78.7866,-78.7866,-78.7866,-78.7866,-78.7866,-78.7866,-78.7866,-78.7866,-78.7866,-78.7866,-78.7866,-78.7866,-78.7866,-78.7866,-80.8431,-80.8431,-80.8431,-80.8431,-80.8431,-80.8431,-80.8431,-80.8431,-80.8431,-80.8431,-80.8431,-80.8431,-80.8431,-80.8431,-80.8431,-80.8431,-80.8431,-80.8431,-80.8431,-80.8431,-80.8431,-80.8431,-80.8431,-80.8431,-80.8431,-80.8431,-87.6167,-87.6167,-87.6167,-87.6167,-87.6167,-87.6167,-87.6167,-87.6167,-87.6167,-87.6167,-87.6167,-87.6167,-87.6167,-87.6167,-87.6167,-87.6167,-87.6167,-87.6167,-87.6167,-87.6167,-87.6167,-87.6167,-87.6167,-87.6167,-87.6167,-87.6167,-84.512,-84.512,-84.512,-84.512,-84.512,-84.512,-84.512,-84.512,-84.512,-84.512,-84.512,-84.512,-84.512,-84.512,-84.512,-84.512,-84.512,-84.512,-84.512,-84.512,-84.512,-84.512,-84.512,-84.512,-84.512,-84.512,-81.6944,-81.6944,-81.6944,-81.6944,-81.6944,-81.6944,-81.6944,-81.6944,-81.6944,-81.6944,-81.6944,-81.6944,-81.6944,-81.6944,-81.6944,-81.6944,-81.6944,-81.6944,-81.6944,-81.6944,-81.6944,-81.6944,-81.6944,-81.6944,-81.6944,-81.6944,-97.0918,-97.0918,-97.0918,-97.0918,-97.0918,-97.0918,-97.0918,-97.0918,-97.0918,-97.0918,-97.0918,-97.0918,-97.0918,-97.0918,-97.0918,-97.0918,-97.0918,-97.0918,-97.0918,-97.0918,-97.0918,-97.0918,-97.0918,-97.0918,-97.0918,-97.0918,-104.9903,-104.9903,-104.9903,-104.9903,-104.9903,-104.9903,-104.9903,-104.9903,-104.9903,-104.9903,-104.9903,-104.9903,-104.9903,-104.9903,-104.9903,-104.9903,-104.9903,-104.9903,-104.9903,-104.9903,-104.9903,-104.9903,-104.9903,-104.9903,-104.9903,-104.9903,-83.0458,-83.0458,-83.0458,-83.0458,-83.0458,-83.0458,-83.0458,-83.0458,-83.0458,-83.0458,-83.0458,-83.0458,-83.0458,-83.0458,-83.0458,-83.0458,-83.0458,-83.0458,-83.0458,-83.0458,-83.0458,-83.0458,-83.0458,-83.0458,-83.0458,-83.0458,-88.0158,-88.0158,-88.0158,-88.0158,-88.0158,-88.0158,-88.0158,-88.0158,-88.0158,-88.0158,-88.0158,-88.0158,-88.0158,-88.0158,-88.0158,-88.0158,-88.0158,-88.0158,-88.0158,-88.0158,-88.0158,-88.0158,-88.0158,-88.0158,-88.0158,-88.0158,-95.3698,-95.3698,-95.3698,-95.3698,-95.3698,-95.3698,-95.3698,-95.3698,-95.3698,-95.3698,-95.3698,-95.3698,-95.3698,-95.3698,-95.3698,-95.3698,-95.3698,-95.3698,-95.3698,-95.3698,-95.3698,-95.3698,-95.3698,-86.1581,-86.1581,-86.1581,-86.1581,-86.1581,-86.1581,-86.1581,-86.1581,-86.1581,-86.1581,-86.1581,-86.1581,-86.1581,-86.1581,-86.1581,-86.1581,-86.1581,-86.1581,-86.1581,-86.1581,-86.1581,-86.1581,-86.1581,-86.1581,-86.1581,-86.1581,-81.6557,-81.6557,-81.6557,-81.6557,-81.6557,-81.6557,-81.6557,-81.6557,-81.6557,-81.6557,-81.6557,-81.6557,-81.6557,-81.6557,-81.6557,-81.6557,-81.6557,-81.6557,-81.6557,-81.6557,-81.6557,-81.6557,-81.6557,-81.6557,-81.6557,-81.6557,-94.5786,-94.5786,-94.5786,-94.5786,-94.5786,-94.5786,-94.5786,-94.5786,-94.5786,-94.5786,-94.5786,-94.5786,-94.5786,-94.5786,-94.5786,-94.5786,-94.5786,-94.5786,-94.5786,-94.5786,-94.5786,-94.5786,-94.5786,-94.5786,-94.5786,-94.5786,-118.3411,-118.3411,-118.3411,-118.3411,-118.3411,-118.3411,-118.3411,-118.3411,-118.3411,-118.3411,-118.3411,-118.3411,-118.3411,-118.3411,-118.3411,-118.3411,-118.3411,-118.3411,-118.3411,-118.3411,-118.3411,-118.3411,-118.3411,-118.3411,-118.3411,-118.3411,-118.3414,-118.3414,-118.3414,-118.3414,-118.3414,-118.3414,-118.3414,-118.3414,-118.3414,-118.3414,-118.3414,-118.3414,-118.3414,-118.3414,-118.3414,-118.3414,-118.3414,-118.3414,-118.3414,-118.3414,-118.3414,-118.3414,-118.3414,-118.3414,-118.3414,-118.3414,-115.1537,-115.1537,-115.1537,-115.1537,-115.1537,-115.1537,-115.1537,-115.1537,-115.1537,-115.1537,-115.1537,-115.1537,-115.1537,-115.1537,-115.1537,-115.1537,-115.1537,-115.1537,-115.1537,-115.1537,-115.1537,-115.1537,-115.1537,-115.1537,-115.1537,-115.1537,-80.2382,-80.2382,-80.2382,-80.2382,-80.2382,-80.2382,-80.2382,-80.2382,-80.2382,-80.2382,-80.2382,-80.2382,-80.2382,-80.2382,-80.2382,-80.2382,-80.2382,-80.2382,-80.2382,-80.2382,-80.2382,-80.2382,-80.2382,-80.2382,-80.2382,-80.2382,-93.265,-93.265,-93.265,-93.265,-93.265,-93.265,-93.265,-93.265,-93.265,-93.265,-93.265,-93.265,-93.265,-93.265,-93.265,-93.265,-93.265,-93.265,-93.265,-93.265,-93.265,-93.265,-93.265,-93.265,-93.265,-93.265,-71.2482,-71.2482,-71.2482,-71.2482,-71.2482,-71.2482,-71.2482,-71.2482,-71.2482,-71.2482,-71.2482,-71.2482,-71.2482,-71.2482,-71.2482,-71.2482,-71.2482,-71.2482,-71.2482,-71.2482,-71.2482,-71.2482,-71.2482,-71.2482,-71.2482,-71.2482,-90.0715,-90.0715,-90.0715,-90.0715,-90.0715,-90.0715,-90.0715,-90.0715,-90.0715,-90.0715,-90.0715,-90.0715,-90.0715,-90.0715,-90.0715,-90.0715,-90.0715,-90.0715,-90.0715,-90.0715,-90.0715,-90.0715,-90.0715,-90.0715,-90.0715,-90.0715,-74.0742,-74.0742,-74.0742,-74.0742,-74.0742,-74.0742,-74.0742,-74.0742,-74.0742,-74.0742,-74.0742,-74.0742,-74.0742,-74.0742,-74.0742,-74.0742,-74.0742,-74.0742,-74.0742,-74.0742,-74.0742,-74.0742,-74.0742,-74.0742,-74.0742,-74.0742,-74.0738,-74.0738,-74.0738,-74.0738,-74.0738,-74.0738,-74.0738,-74.0738,-74.0738,-74.0738,-74.0738,-74.0738,-74.0738,-74.0738,-74.0738,-74.0738,-74.0738,-74.0738,-74.0738,-74.0738,-74.0738,-74.0738,-74.0738,-74.0738,-74.0738,-74.0738,-75.1652,-75.1652,-75.1652,-75.1652,-75.1652,-75.1652,-75.1652,-75.1652,-75.1652,-75.1652,-75.1652,-75.1652,-75.1652,-75.1652,-75.1652,-75.1652,-75.1652,-75.1652,-75.1652,-75.1652,-75.1652,-75.1652,-75.1652,-75.1652,-75.1652,-75.1652,-79.9959,-79.9959,-79.9959,-79.9959,-79.9959,-79.9959,-79.9959,-79.9959,-79.9959,-79.9959,-79.9959,-79.9959,-79.9959,-79.9959,-79.9959,-79.9959,-79.9959,-79.9959,-79.9959,-79.9959,-79.9959,-79.9959,-79.9959,-79.9959,-79.9959,-79.9959,-122.3321,-122.3321,-122.3321,-122.3321,-122.3321,-122.3321,-122.3321,-122.3321,-122.3321,-122.3321,-122.3321,-122.3321,-122.3321,-122.3321,-122.3321,-122.3321,-122.3321,-122.3321,-122.3321,-122.3321,-122.3321,-122.3321,-122.3321,-122.3321,-122.3321,-122.3321,-121.9714,-121.9714,-121.9714,-121.9714,-121.9714,-121.9714,-121.9714,-121.9714,-121.9714,-121.9714,-121.9714,-121.9714,-121.9714,-121.9714,-121.9714,-121.9714,-121.9714,-121.9714,-121.9714,-121.9714,-121.9714,-121.9714,-121.9714,-121.9714,-121.9714,-121.9714,-82.4572,-82.4572,-82.4572,-82.4572,-82.4572,-82.4572,-82.4572,-82.4572,-82.4572,-82.4572,-82.4572,-82.4572,-82.4572,-82.4572,-82.4572,-82.4572,-82.4572,-82.4572,-82.4572,-82.4572,-82.4572,-82.4572,-82.4572,-82.4572,-82.4572,-82.4572,-86.7816,-86.7816,-86.7816,-86.7816,-86.7816,-86.7816,-86.7816,-86.7816,-86.7816,-86.7816,-86.7816,-86.7816,-86.7816,-86.7816,-86.7816,-86.7816,-86.7816,-86.7816,-86.7816,-86.7816,-86.7816,-86.7816,-86.7816,-86.7816,-86.7816,-86.7816,-76.8642,-76.8642,-76.8642,-76.8642,-76.8642,-76.8642,-76.8642,-76.8642,-76.8642,-76.8642,-76.8642,-76.8642,-76.8642,-76.8642,-76.8642,-76.8642,-76.8642,-76.8642,-76.8642,-76.8642,-76.8642,-76.8642,-76.8642,-76.8642,-76.8642,-76.8642],\"marker\":{\"color\":\"#636efa\"},\"mode\":\"markers\",\"name\":\"\",\"showlegend\":false,\"subplot\":\"map\",\"type\":\"scattermap\"}],                        {\"template\":{\"data\":{\"histogram2dcontour\":[{\"type\":\"histogram2dcontour\",\"colorbar\":{\"outlinewidth\":0,\"ticks\":\"\"},\"colorscale\":[[0.0,\"#0d0887\"],[0.1111111111111111,\"#46039f\"],[0.2222222222222222,\"#7201a8\"],[0.3333333333333333,\"#9c179e\"],[0.4444444444444444,\"#bd3786\"],[0.5555555555555556,\"#d8576b\"],[0.6666666666666666,\"#ed7953\"],[0.7777777777777778,\"#fb9f3a\"],[0.8888888888888888,\"#fdca26\"],[1.0,\"#f0f921\"]]}],\"choropleth\":[{\"type\":\"choropleth\",\"colorbar\":{\"outlinewidth\":0,\"ticks\":\"\"}}],\"histogram2d\":[{\"type\":\"histogram2d\",\"colorbar\":{\"outlinewidth\":0,\"ticks\":\"\"},\"colorscale\":[[0.0,\"#0d0887\"],[0.1111111111111111,\"#46039f\"],[0.2222222222222222,\"#7201a8\"],[0.3333333333333333,\"#9c179e\"],[0.4444444444444444,\"#bd3786\"],[0.5555555555555556,\"#d8576b\"],[0.6666666666666666,\"#ed7953\"],[0.7777777777777778,\"#fb9f3a\"],[0.8888888888888888,\"#fdca26\"],[1.0,\"#f0f921\"]]}],\"heatmap\":[{\"type\":\"heatmap\",\"colorbar\":{\"outlinewidth\":0,\"ticks\":\"\"},\"colorscale\":[[0.0,\"#0d0887\"],[0.1111111111111111,\"#46039f\"],[0.2222222222222222,\"#7201a8\"],[0.3333333333333333,\"#9c179e\"],[0.4444444444444444,\"#bd3786\"],[0.5555555555555556,\"#d8576b\"],[0.6666666666666666,\"#ed7953\"],[0.7777777777777778,\"#fb9f3a\"],[0.8888888888888888,\"#fdca26\"],[1.0,\"#f0f921\"]]}],\"heatmapgl\":[{\"type\":\"heatmapgl\",\"colorbar\":{\"outlinewidth\":0,\"ticks\":\"\"},\"colorscale\":[[0.0,\"#0d0887\"],[0.1111111111111111,\"#46039f\"],[0.2222222222222222,\"#7201a8\"],[0.3333333333333333,\"#9c179e\"],[0.4444444444444444,\"#bd3786\"],[0.5555555555555556,\"#d8576b\"],[0.6666666666666666,\"#ed7953\"],[0.7777777777777778,\"#fb9f3a\"],[0.8888888888888888,\"#fdca26\"],[1.0,\"#f0f921\"]]}],\"contourcarpet\":[{\"type\":\"contourcarpet\",\"colorbar\":{\"outlinewidth\":0,\"ticks\":\"\"}}],\"contour\":[{\"type\":\"contour\",\"colorbar\":{\"outlinewidth\":0,\"ticks\":\"\"},\"colorscale\":[[0.0,\"#0d0887\"],[0.1111111111111111,\"#46039f\"],[0.2222222222222222,\"#7201a8\"],[0.3333333333333333,\"#9c179e\"],[0.4444444444444444,\"#bd3786\"],[0.5555555555555556,\"#d8576b\"],[0.6666666666666666,\"#ed7953\"],[0.7777777777777778,\"#fb9f3a\"],[0.8888888888888888,\"#fdca26\"],[1.0,\"#f0f921\"]]}],\"surface\":[{\"type\":\"surface\",\"colorbar\":{\"outlinewidth\":0,\"ticks\":\"\"},\"colorscale\":[[0.0,\"#0d0887\"],[0.1111111111111111,\"#46039f\"],[0.2222222222222222,\"#7201a8\"],[0.3333333333333333,\"#9c179e\"],[0.4444444444444444,\"#bd3786\"],[0.5555555555555556,\"#d8576b\"],[0.6666666666666666,\"#ed7953\"],[0.7777777777777778,\"#fb9f3a\"],[0.8888888888888888,\"#fdca26\"],[1.0,\"#f0f921\"]]}],\"mesh3d\":[{\"type\":\"mesh3d\",\"colorbar\":{\"outlinewidth\":0,\"ticks\":\"\"}}],\"scatter\":[{\"fillpattern\":{\"fillmode\":\"overlay\",\"size\":10,\"solidity\":0.2},\"type\":\"scatter\"}],\"parcoords\":[{\"type\":\"parcoords\",\"line\":{\"colorbar\":{\"outlinewidth\":0,\"ticks\":\"\"}}}],\"scatterpolargl\":[{\"type\":\"scatterpolargl\",\"marker\":{\"colorbar\":{\"outlinewidth\":0,\"ticks\":\"\"}}}],\"bar\":[{\"error_x\":{\"color\":\"#2a3f5f\"},\"error_y\":{\"color\":\"#2a3f5f\"},\"marker\":{\"line\":{\"color\":\"#E5ECF6\",\"width\":0.5},\"pattern\":{\"fillmode\":\"overlay\",\"size\":10,\"solidity\":0.2}},\"type\":\"bar\"}],\"scattergeo\":[{\"type\":\"scattergeo\",\"marker\":{\"colorbar\":{\"outlinewidth\":0,\"ticks\":\"\"}}}],\"scatterpolar\":[{\"type\":\"scatterpolar\",\"marker\":{\"colorbar\":{\"outlinewidth\":0,\"ticks\":\"\"}}}],\"histogram\":[{\"marker\":{\"pattern\":{\"fillmode\":\"overlay\",\"size\":10,\"solidity\":0.2}},\"type\":\"histogram\"}],\"scattergl\":[{\"type\":\"scattergl\",\"marker\":{\"colorbar\":{\"outlinewidth\":0,\"ticks\":\"\"}}}],\"scatter3d\":[{\"type\":\"scatter3d\",\"line\":{\"colorbar\":{\"outlinewidth\":0,\"ticks\":\"\"}},\"marker\":{\"colorbar\":{\"outlinewidth\":0,\"ticks\":\"\"}}}],\"scattermapbox\":[{\"type\":\"scattermapbox\",\"marker\":{\"colorbar\":{\"outlinewidth\":0,\"ticks\":\"\"}}}],\"scatterternary\":[{\"type\":\"scatterternary\",\"marker\":{\"colorbar\":{\"outlinewidth\":0,\"ticks\":\"\"}}}],\"scattercarpet\":[{\"type\":\"scattercarpet\",\"marker\":{\"colorbar\":{\"outlinewidth\":0,\"ticks\":\"\"}}}],\"carpet\":[{\"aaxis\":{\"endlinecolor\":\"#2a3f5f\",\"gridcolor\":\"white\",\"linecolor\":\"white\",\"minorgridcolor\":\"white\",\"startlinecolor\":\"#2a3f5f\"},\"baxis\":{\"endlinecolor\":\"#2a3f5f\",\"gridcolor\":\"white\",\"linecolor\":\"white\",\"minorgridcolor\":\"white\",\"startlinecolor\":\"#2a3f5f\"},\"type\":\"carpet\"}],\"table\":[{\"cells\":{\"fill\":{\"color\":\"#EBF0F8\"},\"line\":{\"color\":\"white\"}},\"header\":{\"fill\":{\"color\":\"#C8D4E3\"},\"line\":{\"color\":\"white\"}},\"type\":\"table\"}],\"barpolar\":[{\"marker\":{\"line\":{\"color\":\"#E5ECF6\",\"width\":0.5},\"pattern\":{\"fillmode\":\"overlay\",\"size\":10,\"solidity\":0.2}},\"type\":\"barpolar\"}],\"pie\":[{\"automargin\":true,\"type\":\"pie\"}]},\"layout\":{\"autotypenumbers\":\"strict\",\"colorway\":[\"#636efa\",\"#EF553B\",\"#00cc96\",\"#ab63fa\",\"#FFA15A\",\"#19d3f3\",\"#FF6692\",\"#B6E880\",\"#FF97FF\",\"#FECB52\"],\"font\":{\"color\":\"#2a3f5f\"},\"hovermode\":\"closest\",\"hoverlabel\":{\"align\":\"left\"},\"paper_bgcolor\":\"white\",\"plot_bgcolor\":\"#E5ECF6\",\"polar\":{\"bgcolor\":\"#E5ECF6\",\"angularaxis\":{\"gridcolor\":\"white\",\"linecolor\":\"white\",\"ticks\":\"\"},\"radialaxis\":{\"gridcolor\":\"white\",\"linecolor\":\"white\",\"ticks\":\"\"}},\"ternary\":{\"bgcolor\":\"#E5ECF6\",\"aaxis\":{\"gridcolor\":\"white\",\"linecolor\":\"white\",\"ticks\":\"\"},\"baxis\":{\"gridcolor\":\"white\",\"linecolor\":\"white\",\"ticks\":\"\"},\"caxis\":{\"gridcolor\":\"white\",\"linecolor\":\"white\",\"ticks\":\"\"}},\"coloraxis\":{\"colorbar\":{\"outlinewidth\":0,\"ticks\":\"\"}},\"colorscale\":{\"sequential\":[[0.0,\"#0d0887\"],[0.1111111111111111,\"#46039f\"],[0.2222222222222222,\"#7201a8\"],[0.3333333333333333,\"#9c179e\"],[0.4444444444444444,\"#bd3786\"],[0.5555555555555556,\"#d8576b\"],[0.6666666666666666,\"#ed7953\"],[0.7777777777777778,\"#fb9f3a\"],[0.8888888888888888,\"#fdca26\"],[1.0,\"#f0f921\"]],\"sequentialminus\":[[0.0,\"#0d0887\"],[0.1111111111111111,\"#46039f\"],[0.2222222222222222,\"#7201a8\"],[0.3333333333333333,\"#9c179e\"],[0.4444444444444444,\"#bd3786\"],[0.5555555555555556,\"#d8576b\"],[0.6666666666666666,\"#ed7953\"],[0.7777777777777778,\"#fb9f3a\"],[0.8888888888888888,\"#fdca26\"],[1.0,\"#f0f921\"]],\"diverging\":[[0,\"#8e0152\"],[0.1,\"#c51b7d\"],[0.2,\"#de77ae\"],[0.3,\"#f1b6da\"],[0.4,\"#fde0ef\"],[0.5,\"#f7f7f7\"],[0.6,\"#e6f5d0\"],[0.7,\"#b8e186\"],[0.8,\"#7fbc41\"],[0.9,\"#4d9221\"],[1,\"#276419\"]]},\"xaxis\":{\"gridcolor\":\"white\",\"linecolor\":\"white\",\"ticks\":\"\",\"title\":{\"standoff\":15},\"zerolinecolor\":\"white\",\"automargin\":true,\"zerolinewidth\":2},\"yaxis\":{\"gridcolor\":\"white\",\"linecolor\":\"white\",\"ticks\":\"\",\"title\":{\"standoff\":15},\"zerolinecolor\":\"white\",\"automargin\":true,\"zerolinewidth\":2},\"scene\":{\"xaxis\":{\"backgroundcolor\":\"#E5ECF6\",\"gridcolor\":\"white\",\"linecolor\":\"white\",\"showbackground\":true,\"ticks\":\"\",\"zerolinecolor\":\"white\",\"gridwidth\":2},\"yaxis\":{\"backgroundcolor\":\"#E5ECF6\",\"gridcolor\":\"white\",\"linecolor\":\"white\",\"showbackground\":true,\"ticks\":\"\",\"zerolinecolor\":\"white\",\"gridwidth\":2},\"zaxis\":{\"backgroundcolor\":\"#E5ECF6\",\"gridcolor\":\"white\",\"linecolor\":\"white\",\"showbackground\":true,\"ticks\":\"\",\"zerolinecolor\":\"white\",\"gridwidth\":2}},\"shapedefaults\":{\"line\":{\"color\":\"#2a3f5f\"}},\"annotationdefaults\":{\"arrowcolor\":\"#2a3f5f\",\"arrowhead\":0,\"arrowwidth\":1},\"geo\":{\"bgcolor\":\"white\",\"landcolor\":\"#E5ECF6\",\"subunitcolor\":\"white\",\"showland\":true,\"showlakes\":true,\"lakecolor\":\"white\"},\"title\":{\"x\":0.05},\"mapbox\":{\"style\":\"light\"}}},\"map\":{\"domain\":{\"x\":[0.0,1.0],\"y\":[0.0,1.0]},\"center\":{\"lat\":37.60141978287093,\"lon\":-90.54504680337756},\"zoom\":2.25},\"legend\":{\"tracegroupgap\":0},\"margin\":{\"t\":60},\"mapbox\":{\"center\":{\"lat\":37.60141978287093,\"lon\":-90.54504680337756},\"zoom\":2.25}},                        {\"responsive\": true}                    ).then(function(){\n",
       "                            \n",
       "var gd = document.getElementById('954353bf-f0ad-4dd3-b3b1-91c01ae44231');\n",
       "var x = new MutationObserver(function (mutations, observer) {{\n",
       "        var display = window.getComputedStyle(gd).display;\n",
       "        if (!display || display === 'none') {{\n",
       "            console.log([gd, 'removed!']);\n",
       "            Plotly.purge(gd);\n",
       "            observer.disconnect();\n",
       "        }}\n",
       "}});\n",
       "\n",
       "// Listen for the removal of the full notebook cells\n",
       "var notebookContainer = gd.closest('#notebook-container');\n",
       "if (notebookContainer) {{\n",
       "    x.observe(notebookContainer, {childList: true});\n",
       "}}\n",
       "\n",
       "// Listen for the clearing of the current output cell\n",
       "var outputEl = gd.closest('.output');\n",
       "if (outputEl) {{\n",
       "    x.observe(outputEl, {childList: true});\n",
       "}}\n",
       "\n",
       "                        })                };                });            </script>        </div>"
      ]
     },
     "metadata": {},
     "output_type": "display_data"
    }
   ],
   "source": [
    "mapplot"
   ]
  },
  {
   "cell_type": "code",
   "execution_count": null,
   "id": "c130cbd1-4f8b-4ed5-940f-14cc447f0b98",
   "metadata": {},
   "outputs": [],
   "source": []
  }
 ],
 "metadata": {
  "kernelspec": {
   "display_name": "Python 3 (ipykernel)",
   "language": "python",
   "name": "python3"
  },
  "language_info": {
   "codemirror_mode": {
    "name": "ipython",
    "version": 3
   },
   "file_extension": ".py",
   "mimetype": "text/x-python",
   "name": "python",
   "nbconvert_exporter": "python",
   "pygments_lexer": "ipython3",
   "version": "3.11.7"
  }
 },
 "nbformat": 4,
 "nbformat_minor": 5
}
